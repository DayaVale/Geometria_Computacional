{
  "cells": [
    {
      "attachments": {},
      "cell_type": "markdown",
      "metadata": {},
      "source": [
        "# Linea de barrido\n",
        "Es una recta que recorre el plano y realiza operaciones en algunos puntos para resolver problemas geometricos."
      ]
    },
    {
      "attachments": {},
      "cell_type": "markdown",
      "metadata": {},
      "source": [
        "### Librerias"
      ]
    },
    {
      "cell_type": "code",
      "execution_count": 1,
      "metadata": {},
      "outputs": [],
      "source": [
        "import math"
      ]
    },
    {
      "attachments": {},
      "cell_type": "markdown",
      "metadata": {},
      "source": [
        "## Relación de orden\n",
        "Dados dos puntos $P$ y $Q$ en $R^{2}$ se tiene que \n",
        "- $P < Q$  sii las coordenadas $P_{y} > Q_{y}$ ó $(P_{y} = Q_{y} $ y $P_{x} < Q_{x})$"
      ]
    },
    {
      "cell_type": "code",
      "execution_count": 2,
      "metadata": {
        "id": "GxmsHel933RJ"
      },
      "outputs": [],
      "source": [
        "def Relacion_orden(p,q):\n",
        "  s = [] #Segmento ordenado en extremo superio y extremo inferior\n",
        "  if p[1] > q[1]:\n",
        "    print(p,'<',q)\n",
        "    s.append(p)\n",
        "    s.append(q)\n",
        "  elif p[1] == q[1]:\n",
        "    if p[0] < q[0]:\n",
        "      print(p,'<',q)\n",
        "      s.append(p)\n",
        "      s.append(q)\n",
        "    else:\n",
        "      print(q,'<',p)\n",
        "      s.append(q)\n",
        "      s.append(p)\n",
        "  else:\n",
        "    print(q,'<',p)\n",
        "    s.append(q)\n",
        "    s.append(p)\n",
        "  return s"
      ]
    },
    {
      "cell_type": "code",
      "execution_count": 3,
      "metadata": {
        "colab": {
          "base_uri": "https://localhost:8080/"
        },
        "id": "JO_LHKs747yk",
        "outputId": "7af0f80f-85a6-4dd5-8d40-74a28cabbb88"
      },
      "outputs": [
        {
          "name": "stdout",
          "output_type": "stream",
          "text": [
            "[1, 4] < [2, 2]\n",
            "[[1, 4], [2, 2]]\n"
          ]
        }
      ],
      "source": [
        "p = [1, 4]\n",
        "q = [2, 2]\n",
        "s = Relacion_orden(p,q)\n",
        "print(s)"
      ]
    },
    {
      "attachments": {},
      "cell_type": "markdown",
      "metadata": {},
      "source": [
        "### Cruce de un segmento con la linea de barrido"
      ]
    },
    {
      "cell_type": "code",
      "execution_count": 4,
      "metadata": {
        "id": "7ETC-FGv7uvx"
      },
      "outputs": [],
      "source": [
        "# Encontrar el intersecto donde se cruza la linea de barrido y el segmento.\n",
        "def Croos_line(y0, S):\n",
        "    Pc = []\n",
        "    Alpha = (y0 - S[1][1])/ (S[0][1]-S[1][1])\n",
        "    x = (Alpha* S[0][0])+((1-Alpha)*S[1][0])\n",
        "    Pc = [x,y0]\n",
        "    return Pc\n",
        "    "
      ]
    },
    {
      "cell_type": "code",
      "execution_count": 5,
      "metadata": {},
      "outputs": [
        {
          "data": {
            "text/plain": [
              "[1.5, 3]"
            ]
          },
          "execution_count": 5,
          "metadata": {},
          "output_type": "execute_result"
        }
      ],
      "source": [
        "y0 = 3\n",
        "Croos_line(y0,s)"
      ]
    },
    {
      "attachments": {},
      "cell_type": "markdown",
      "metadata": {},
      "source": [
        "- Puntos Enventos: Son las Coordenadas verticales de los extremos de los segmentos.\n",
        "- Estado de la linea de barrido: Conjunto ordenado de segmentos que cruzan la linea de barrido en un momento determinado.\n",
        "- Cola de eventos Q : Almacena de forma ordenadas de los extremos de los segmentos. Admite nuevos eventos y los ubica respetando una relacion de orden."
      ]
    },
    {
      "attachments": {},
      "cell_type": "markdown",
      "metadata": {},
      "source": [
        "## EStructura de Datos\n",
        "1.Registre y ordene usara una Cola de ventos \n",
        "2. Actualice y expresar Arbol.\n",
        "## Clase del segmento."
      ]
    },
    {
      "cell_type": "code",
      "execution_count": 6,
      "metadata": {},
      "outputs": [],
      "source": [
        "#Definiremos la clase segmento, para poder agrupar los puntos y tener un segmento sin tratar con arreglos\n",
        "class segmento:\n",
        "    def __init__(self,p,q):\n",
        "        if p[1] > q[1]:\n",
        "            self.start = p\n",
        "            self.end = q\n",
        "        elif p[1] == q[1]:\n",
        "            if p[0] < q[0]:\n",
        "                self.start = p\n",
        "                self.end = q\n",
        "            else:\n",
        "                self.start = q\n",
        "                self.end = p\n",
        "        else:\n",
        "            self.start = q\n",
        "            self.end = p"
      ]
    },
    {
      "cell_type": "code",
      "execution_count": 7,
      "metadata": {},
      "outputs": [
        {
          "name": "stdout",
          "output_type": "stream",
          "text": [
            "[2, 3]\n",
            "[1, 1]\n"
          ]
        }
      ],
      "source": [
        "s1 = segmento([1,1],[2,3])\n",
        "print(s1.start)\n",
        "print(s1.end)"
      ]
    },
    {
      "cell_type": "code",
      "execution_count": 9,
      "metadata": {},
      "outputs": [],
      "source": [
        "#Usaremos inoder para leer los datos de Izquierda,Raiz y Derecha\n",
        "def inorder_queue(root):\n",
        "    inorderArr = []\n",
        "    if root.left is not None:\n",
        "        leftInorderArr = inorder_queue(root.left)\n",
        "        inorderArr.extend(leftInorderArr) #Toma el arregloy los agrega como elementos y no un arreglo de arreglos\n",
        "    \n",
        "    inorderArr.append(root.point)\n",
        "    if root.right is not None:\n",
        "        rightInorderArr = inorder_queue(root.right)\n",
        "        inorderArr.extend(rightInorderArr) #Toma el arregloy los agrega como elementos y no un arreglo de arreglos\n",
        "    \n",
        "    return inorderArr"
      ]
    },
    {
      "attachments": {},
      "cell_type": "markdown",
      "metadata": {},
      "source": [
        "## El siguiente arbol va a ser para la COLA DE EVENTOS\n",
        "- We store the event points in a balanced binary search tree, ordered according to ≺."
      ]
    },
    {
      "cell_type": "code",
      "execution_count": 10,
      "metadata": {},
      "outputs": [],
      "source": [
        "class queue_Events:\n",
        "    def __init__(self,punto):\n",
        "        self.point = punto\n",
        "        self.left = None\n",
        "        self.right = None\n",
        "\n",
        "def Insert_Sort_Event(raiz,punto):\n",
        "    if(raiz.point[1] < punto.point[1]):\n",
        "        if raiz.left is None:\n",
        "            raiz.left = punto\n",
        "        else:\n",
        "            Insert_Sort_Event(raiz.left,punto)\n",
        "    elif(raiz.point[1] == punto.point[1]):\n",
        "        if(raiz.point[0] > punto.point[0]):\n",
        "            if raiz.left is None:\n",
        "                raiz.left = punto\n",
        "            else:\n",
        "                Insert_Sort_Event(raiz.left,punto)\n",
        "        else:\n",
        "            if raiz.right is None:\n",
        "                raiz.right = punto\n",
        "            else:\n",
        "                Insert_Sort_Event(raiz.right,punto)\n",
        "    else:\n",
        "        if raiz.right is None:\n",
        "                raiz.right = punto\n",
        "        else:\n",
        "            Insert_Sort_Event(raiz.right,punto)\n",
        "\n",
        "\n"
      ]
    },
    {
      "cell_type": "code",
      "execution_count": 11,
      "metadata": {},
      "outputs": [
        {
          "name": "stdout",
          "output_type": "stream",
          "text": [
            "[4, 4]\n",
            "[2, 5]\n",
            "[1, 3]\n"
          ]
        }
      ],
      "source": [
        "root2 = queue_Events([4,4])\n",
        "Insert_Sort_Event(root2,queue_Events([1,3]))\n",
        "Insert_Sort_Event(root2,queue_Events([2,5]))\n",
        "print(root2.point)\n",
        "print(root2.left.point)\n",
        "print(root2.right.point)"
      ]
    },
    {
      "cell_type": "code",
      "execution_count": 12,
      "metadata": {},
      "outputs": [
        {
          "name": "stdout",
          "output_type": "stream",
          "text": [
            "[[2, 5], [4, 4], [1, 3]]\n"
          ]
        }
      ],
      "source": [
        "q = inorder_queue(root2)\n",
        "print(q)"
      ]
    },
    {
      "attachments": {},
      "cell_type": "markdown",
      "metadata": {},
      "source": [
        "## El arbol siguiente es para el ESTADO DE LA LINEA DE BARRIDO"
      ]
    },
    {
      "cell_type": "code",
      "execution_count": 65,
      "metadata": {},
      "outputs": [],
      "source": [
        "## Definimos la clase arbol donde actualizaremos y organizaremos la linea de barrido\n",
        "class sweep_line:\n",
        "    def __init__(self,segmento):\n",
        "        self.data = segmento #Dato inicial - la raíz \n",
        "        self.left = None # Hijo Izquierdo inicial en None\n",
        "        self.right = None #Hjo derecho inicial en None\n",
        "\n",
        "# Realizamos un insert pero este se va regir con la relación de orden anterior definida\n",
        "def InsertBST(root,node):\n",
        "    if (node.data[1] > root.data[1]):\n",
        "        if root.left is None:\n",
        "            root.left = node\n",
        "        else:\n",
        "            InsertBST(root.left,node)\n",
        "    elif (node.data[1] == root.data[1]):\n",
        "        if node.data[0] < root.data[0]:\n",
        "            root.right = node\n",
        "        else:\n",
        "            InsertBST(root.right, node)"
      ]
    },
    {
      "cell_type": "code",
      "execution_count": 70,
      "metadata": {},
      "outputs": [],
      "source": [
        "#Balancer deben estar ordenados antes\n",
        "def BBT(sortArr):\n",
        "    if not sortArr:\n",
        "        return None\n",
        "    mid = math.ceil(len(sortArr)/2) #Toma la mitad del arreglo ordenado y aproxima hacia arriba\n",
        "    #print(mid)\n",
        "    newRoot = sweep_line(sortArr[mid-1])\n",
        "    print(newRoot.data)\n",
        "    newRoot.left = BBT(sortArr[:mid-1]) #Toma todos los puntos antes de la posición mid-1, sin tomar mid-1\n",
        "    newRoot.right = BBT(sortArr[mid:]) #Toma todos los puntos despues de la posición mid, tomando mid\n",
        "    \n",
        "    return newRoot"
      ]
    },
    {
      "cell_type": "code",
      "execution_count": 71,
      "metadata": {},
      "outputs": [
        {
          "name": "stdout",
          "output_type": "stream",
          "text": [
            "3\n",
            "1\n",
            "2\n",
            "4\n",
            "5\n"
          ]
        }
      ],
      "source": [
        "E = [1,2,3,4,5]\n",
        "New_data = BBT(E)"
      ]
    },
    {
      "cell_type": "code",
      "execution_count": null,
      "metadata": {},
      "outputs": [],
      "source": [
        "#Entra el arbol ya balanciado como se quiere\n",
        "def Add_leaves(root):\n",
        "    \n"
      ]
    }
  ],
  "metadata": {
    "colab": {
      "provenance": []
    },
    "kernelspec": {
      "display_name": "Python 3",
      "language": "python",
      "name": "python3"
    },
    "language_info": {
      "codemirror_mode": {
        "name": "ipython",
        "version": 3
      },
      "file_extension": ".py",
      "mimetype": "text/x-python",
      "name": "python",
      "nbconvert_exporter": "python",
      "pygments_lexer": "ipython3",
      "version": "3.11.1"
    },
    "vscode": {
      "interpreter": {
        "hash": "28f17846d8da952c5c0ba0b6a7ac0a83f6cc7ba932a9e1ecc57983e8f99a4182"
      }
    }
  },
  "nbformat": 4,
  "nbformat_minor": 0
}
