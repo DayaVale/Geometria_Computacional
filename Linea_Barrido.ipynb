{
  "cells": [
    {
      "attachments": {},
      "cell_type": "markdown",
      "metadata": {},
      "source": [
        "# Linea de barrido\n",
        "Es una recta que recorre el plano y realiza operaciones en algunos puntos para resolver problemas geometricos."
      ]
    },
    {
      "attachments": {},
      "cell_type": "markdown",
      "metadata": {},
      "source": [
        "## Relación de orden\n",
        "Dados dos puntos $P$ y $Q$ en $R^{2}$ se tiene que \n",
        "- $P < Q$  sii las coordenadas $P_{y} > Q_{y}$ ó $(P_{y} = Q_{y} $ y $P_{x} < Q_{x})$"
      ]
    },
    {
      "cell_type": "code",
      "execution_count": 3,
      "metadata": {
        "id": "GxmsHel933RJ"
      },
      "outputs": [],
      "source": [
        "def Relacion_orden(p,q):\n",
        "  s = [] #Segmento ordenado en extremo superio y extremo inferior\n",
        "  if p[1] > q[1]:\n",
        "    print(p,'<',q)\n",
        "    s.append(p)\n",
        "    s.append(q)\n",
        "  elif p[1] == q[1]:\n",
        "    if p[0] < q[0]:\n",
        "      print(p,'<',q)\n",
        "      s.append(p)\n",
        "      s.append(q)\n",
        "    else:\n",
        "      print(q,'<',p)\n",
        "      s.append(q)\n",
        "      s.append(p)\n",
        "  else:\n",
        "    print(q,'<',p)\n",
        "    s.append(q)\n",
        "    s.append(p)\n",
        "  return s"
      ]
    },
    {
      "cell_type": "code",
      "execution_count": 14,
      "metadata": {
        "colab": {
          "base_uri": "https://localhost:8080/"
        },
        "id": "JO_LHKs747yk",
        "outputId": "7af0f80f-85a6-4dd5-8d40-74a28cabbb88"
      },
      "outputs": [
        {
          "name": "stdout",
          "output_type": "stream",
          "text": [
            "[1, 4] < [2, 2]\n",
            "[[1, 4], [2, 2]]\n"
          ]
        }
      ],
      "source": [
        "p = [1, 4]\n",
        "q = [2, 2]\n",
        "s = Relacion_orden(p,q)\n",
        "print(s)"
      ]
    },
    {
      "attachments": {},
      "cell_type": "markdown",
      "metadata": {},
      "source": [
        "### Cruce de un segmento con la linea de barrido"
      ]
    },
    {
      "cell_type": "code",
      "execution_count": 21,
      "metadata": {
        "id": "7ETC-FGv7uvx"
      },
      "outputs": [],
      "source": [
        "# Encontrar el interseccto donde se cruza la linea de barrido y el segmento.\n",
        "def Croos_line(y0, S):\n",
        "    Pc = []\n",
        "    Alpha = (y0 - S[1][1])/ (S[0][1]-S[1][1])\n",
        "    x = (Alpha* S[0][0])+((1-Alpha)*S[1][0])\n",
        "    Pc = [x,y0]\n",
        "    return Pc\n",
        "    "
      ]
    },
    {
      "cell_type": "code",
      "execution_count": 20,
      "metadata": {},
      "outputs": [
        {
          "name": "stdout",
          "output_type": "stream",
          "text": [
            "0.5\n"
          ]
        },
        {
          "data": {
            "text/plain": [
              "[1.5, 3]"
            ]
          },
          "execution_count": 20,
          "metadata": {},
          "output_type": "execute_result"
        }
      ],
      "source": [
        "y0 = 3\n",
        "Croos_line(y0,s)"
      ]
    },
    {
      "attachments": {},
      "cell_type": "markdown",
      "metadata": {},
      "source": [
        "- Puntos Enventos: Son las Coordenadas verticales de los extremos de los segmentos.\n",
        "- Estado de la linea de barrido: Conjunto ordenado de segmentos que cruzan la linea de barrido en un momento determinado.\n",
        "- Cola de eventos Q : Almacena de forma ordenadas de los extremos de los segmentos. Admite nuevos eventos y los ubica respetando una relacion de orden."
      ]
    },
    {
      "cell_type": "code",
      "execution_count": 1,
      "metadata": {},
      "outputs": [],
      "source": [
        "## Definimos la clase arbol dond elo utilizaremos para ordenar \n",
        "# un conjunto Q con la relació de orden anterior\n",
        "class Node:\n",
        "    def __init__(self,data):\n",
        "        self.data = data #Dato inicial - la raíz \n",
        "        self.left = None # Hijo Izquierdo inicial en None\n",
        "        self.right = None #Hjo derecho inicial en None"
      ]
    },
    {
      "cell_type": "code",
      "execution_count": null,
      "metadata": {},
      "outputs": [],
      "source": [
        "def Order_Qevents(root):\n",
        "    Q = []"
      ]
    }
  ],
  "metadata": {
    "colab": {
      "provenance": []
    },
    "kernelspec": {
      "display_name": "Python 3",
      "language": "python",
      "name": "python3"
    },
    "language_info": {
      "codemirror_mode": {
        "name": "ipython",
        "version": 3
      },
      "file_extension": ".py",
      "mimetype": "text/x-python",
      "name": "python",
      "nbconvert_exporter": "python",
      "pygments_lexer": "ipython3",
      "version": "3.11.1"
    },
    "vscode": {
      "interpreter": {
        "hash": "28f17846d8da952c5c0ba0b6a7ac0a83f6cc7ba932a9e1ecc57983e8f99a4182"
      }
    }
  },
  "nbformat": 4,
  "nbformat_minor": 0
}
