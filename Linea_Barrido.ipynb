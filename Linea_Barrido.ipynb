{
  "nbformat": 4,
  "nbformat_minor": 0,
  "metadata": {
    "colab": {
      "provenance": []
    },
    "kernelspec": {
      "name": "python3",
      "display_name": "Python 3"
    },
    "language_info": {
      "name": "python"
    }
  },
  "cells": [
    {
      "cell_type": "code",
      "execution_count": null,
      "metadata": {
        "id": "GxmsHel933RJ"
      },
      "outputs": [],
      "source": [
        "def Relacion_orden(p,q):\n",
        "  s = [] #Segmento ordenado en extremo superio y extremo inferior\n",
        "  if p[1] > q[1]:\n",
        "    print(p,'<',q)\n",
        "    s.append(p)\n",
        "    s.append(q)\n",
        "  elif p[1] == q[1]:\n",
        "    if p[0] < q[0]:\n",
        "      print(p,'<',q)\n",
        "      s.append(p)\n",
        "      s.append(q)\n",
        "    else:\n",
        "      print(q,'<',p)\n",
        "      s.append(q)\n",
        "      s.append(p)\n",
        "  else:\n",
        "    print(q,'<',p)\n",
        "    s.append(q)\n",
        "    s.append(p)\n",
        "  return s"
      ]
    },
    {
      "cell_type": "code",
      "source": [
        "p = [1, 3]\n",
        "q = [3, 3]\n",
        "s = Relacion_orden(p,q)\n",
        "print(s)"
      ],
      "metadata": {
        "colab": {
          "base_uri": "https://localhost:8080/"
        },
        "id": "JO_LHKs747yk",
        "outputId": "7af0f80f-85a6-4dd5-8d40-74a28cabbb88"
      },
      "execution_count": null,
      "outputs": [
        {
          "output_type": "stream",
          "name": "stdout",
          "text": [
            "[1, 3] < [3, 3]\n",
            "[[1, 3], [3, 3]]\n"
          ]
        }
      ]
    },
    {
      "cell_type": "code",
      "source": [],
      "metadata": {
        "id": "7ETC-FGv7uvx"
      },
      "execution_count": null,
      "outputs": []
    }
  ]
}