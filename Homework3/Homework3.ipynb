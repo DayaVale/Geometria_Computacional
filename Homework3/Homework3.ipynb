{
 "cells": [
  {
   "attachments": {},
   "cell_type": "markdown",
   "metadata": {},
   "source": [
    "# Homework 3\n",
    "**Student:**\n",
    "- Dayana Valentina Gonzalez Vargas\n",
    "\n",
    "## Libraries"
   ]
  },
  {
   "cell_type": "code",
   "execution_count": 31,
   "metadata": {},
   "outputs": [],
   "source": [
    "#Librerias\n",
    "import matplotlib.pyplot as plt\n",
    "import numpy as np\n",
    "import pandas as pd\n",
    "import sympy as sp\n",
    "from sympy import lambdify"
   ]
  },
  {
   "attachments": {},
   "cell_type": "markdown",
   "metadata": {},
   "source": [
    "## First Part"
   ]
  },
  {
   "attachments": {},
   "cell_type": "markdown",
   "metadata": {},
   "source": [
    "## Second Part\n",
    "\n",
    "**4. Consider the curve**\n",
    "$$ \\alpha (t) = (acos(t), bsin(t), t)$$\n",
    "4.1 Show that torsion $\\tau(t)$ for a curve $\\alpha(t)$ is given by:\n",
    "$$\\tau(t) = - \\frac{(\\alpha'(t) \\times \\alpha''(t)) \\cdot \\alpha'''(t)}{|\\alpha'(t) \\times \\alpha''(t)|^{2}}$$\n",
    "\n",
    "4.2 Evalute the unit vectors $\\hat{T(t)}$, $\\hat{N(t)}$ and $\\hat{B(t)}$\n",
    "\n",
    "Important formulas to consider:\n",
    "$$(1). \\hat{T(t)} = \\frac{\\alpha'(s)}{|\\alpha'(s)|}$$\n",
    "$$(2). \\hat{N}(t) = \\frac{T'}{|T'|}$$\n",
    "$$(3). \\hat{B}(t) = \\hat{T(t)} \\times \\hat{N(t)}$$\n"
   ]
  },
  {
   "cell_type": "code",
   "execution_count": 32,
   "metadata": {},
   "outputs": [],
   "source": [
    "## Definimos la norma\n",
    "def norma(x):\n",
    "  return sp.sqrt(np.dot(x,x)).simplify()"
   ]
  },
  {
   "cell_type": "code",
   "execution_count": 33,
   "metadata": {},
   "outputs": [],
   "source": [
    "## Definimos las variables y alpha\n",
    "a,b = sp.symbols(\"a,b\", positive = True, real = True)\n",
    "s = sp.symbols(\"s\")\n",
    "x,y,z,alpha,dalpha,ddalpha,dddalpha,T,dT,N,B,k,tau = sp.symbols(\"x,y,z,alpha,dalpha,ddalpha,dddalpha,T,dT,N,B,k,tau\", cls = sp.Function)\n",
    "da_norma = sp.symbols (\"da_norma\", cls = sp.Function)"
   ]
  },
  {
   "cell_type": "code",
   "execution_count": 34,
   "metadata": {},
   "outputs": [
    {
     "name": "stdout",
     "output_type": "stream",
     "text": [
      "alpha(s) =  (a*cos(s), b*sin(s), s)\n",
      "norma alpha =  sqrt(a**2*cos(s)**2 + b**2*sin(s)**2 + s**2)\n"
     ]
    }
   ],
   "source": [
    "#Definimos las componentes de alpha\n",
    "x = a*sp.cos(s)\n",
    "y = b*sp.sin(s)\n",
    "z = s\n",
    "alpha = (x,y,z)\n",
    "print('alpha(s) = ',alpha)\n",
    "print('norma alpha = ', norma(alpha))"
   ]
  },
  {
   "cell_type": "code",
   "execution_count": 35,
   "metadata": {},
   "outputs": [
    {
     "name": "stdout",
     "output_type": "stream",
     "text": [
      "primera derivada alpha = (-a*sin(s), b*cos(s), 1)\n",
      "norma = sqrt(a**2*sin(s)**2 + b**2*cos(s)**2 + 1)\n"
     ]
    }
   ],
   "source": [
    "## Primera derivada de alpha\n",
    "dalpha = (sp.diff(x,s), sp.diff(y,s), sp.diff(z,s))\n",
    "da_norma = norma(dalpha)\n",
    "print('primera derivada alpha =',dalpha)\n",
    "print('norma =', da_norma)"
   ]
  },
  {
   "attachments": {},
   "cell_type": "markdown",
   "metadata": {},
   "source": [
    "#### *Vector Tanget*\n",
    "$$(1). \\hat{T(t)} = \\frac{\\alpha'(s)}{|\\alpha'(s)|}$$"
   ]
  },
  {
   "cell_type": "code",
   "execution_count": 36,
   "metadata": {},
   "outputs": [
    {
     "name": "stdout",
     "output_type": "stream",
     "text": [
      "Vector tangente = (-a*sin(s)/sqrt(a**2*sin(s)**2 + b**2*cos(s)**2 + 1), b*cos(s)/sqrt(a**2*sin(s)**2 + b**2*cos(s)**2 + 1), 1/sqrt(a**2*sin(s)**2 + b**2*cos(s)**2 + 1))\n",
      "norma = 1\n"
     ]
    }
   ],
   "source": [
    "#Vector tangente unitario\n",
    "T = (dalpha[0]/da_norma,dalpha[1]/da_norma,dalpha[2]/da_norma)\n",
    "#Norma del vector tangente\n",
    "da_norma = norma(T)\n",
    "print('Vector tangente =',T)\n",
    "print('norma =', da_norma)"
   ]
  },
  {
   "cell_type": "code",
   "execution_count": 37,
   "metadata": {},
   "outputs": [
    {
     "name": "stdout",
     "output_type": "stream",
     "text": [
      "derivada del vector tangente = (-a*(-a**2*sin(s)*cos(s) + b**2*sin(s)*cos(s))*sin(s)/(a**2*sin(s)**2 + b**2*cos(s)**2 + 1)**(3/2) - a*cos(s)/sqrt(a**2*sin(s)**2 + b**2*cos(s)**2 + 1), b*(-a**2*sin(s)*cos(s) + b**2*sin(s)*cos(s))*cos(s)/(a**2*sin(s)**2 + b**2*cos(s)**2 + 1)**(3/2) - b*sin(s)/sqrt(a**2*sin(s)**2 + b**2*cos(s)**2 + 1), (-a**2*sin(s)*cos(s) + b**2*sin(s)*cos(s))/(a**2*sin(s)**2 + b**2*cos(s)**2 + 1)**(3/2))\n",
      "norma = sqrt((a**2*b**2 - a**2*sin(s)**2 + a**2 + b**2*sin(s)**2)/(a**2*sin(s)**2 - b**2*sin(s)**2 + b**2 + 1)**2)\n"
     ]
    }
   ],
   "source": [
    "# Primera derivada del vector tangente unitario\n",
    "dT = (sp.diff(T[0],s), sp.diff(T[1],s), sp.diff(T[2],s))\n",
    "# Norma de la primera derivada del vector tangente unitario\n",
    "da_norma = norma(dT)\n",
    "print('derivada del vector tangente =',dT)\n",
    "print('norma =', da_norma)"
   ]
  },
  {
   "attachments": {},
   "cell_type": "markdown",
   "metadata": {},
   "source": [
    "#### *Vector Normal*\n",
    "$$(2). \\hat{N}(t) = \\frac{T'}{|T'|}$$"
   ]
  },
  {
   "cell_type": "code",
   "execution_count": 38,
   "metadata": {},
   "outputs": [
    {
     "name": "stdout",
     "output_type": "stream",
     "text": [
      "Vector Normal = ((-a*(-a**2*sin(s)*cos(s) + b**2*sin(s)*cos(s))*sin(s)/(a**2*sin(s)**2 + b**2*cos(s)**2 + 1)**(3/2) - a*cos(s)/sqrt(a**2*sin(s)**2 + b**2*cos(s)**2 + 1))/sqrt((a**2*b**2 - a**2*sin(s)**2 + a**2 + b**2*sin(s)**2)/(a**2*sin(s)**2 - b**2*sin(s)**2 + b**2 + 1)**2), (b*(-a**2*sin(s)*cos(s) + b**2*sin(s)*cos(s))*cos(s)/(a**2*sin(s)**2 + b**2*cos(s)**2 + 1)**(3/2) - b*sin(s)/sqrt(a**2*sin(s)**2 + b**2*cos(s)**2 + 1))/sqrt((a**2*b**2 - a**2*sin(s)**2 + a**2 + b**2*sin(s)**2)/(a**2*sin(s)**2 - b**2*sin(s)**2 + b**2 + 1)**2), (-a**2*sin(s)*cos(s) + b**2*sin(s)*cos(s))/(sqrt((a**2*b**2 - a**2*sin(s)**2 + a**2 + b**2*sin(s)**2)/(a**2*sin(s)**2 - b**2*sin(s)**2 + b**2 + 1)**2)*(a**2*sin(s)**2 + b**2*cos(s)**2 + 1)**(3/2)))\n",
      "norma = 1\n"
     ]
    }
   ],
   "source": [
    "#Vector Normal unitario\n",
    "N = (dT[0]/da_norma,dT[1]/da_norma,dT[2]/da_norma)\n",
    "# Norma del vector normal unitario\n",
    "da_norma = norma(N)\n",
    "print('Vector Normal =',N)\n",
    "print('norma =', da_norma)"
   ]
  },
  {
   "attachments": {},
   "cell_type": "markdown",
   "metadata": {},
   "source": [
    "#### *Vector Binomial*\n",
    "$$(3). \\hat{B}(t) = \\hat{T(t)} \\times \\hat{N(t)}$$\n"
   ]
  },
  {
   "cell_type": "code",
   "execution_count": 39,
   "metadata": {},
   "outputs": [
    {
     "name": "stdout",
     "output_type": "stream",
     "text": [
      "Vector Binomial = (b*sqrt((a**2*b**2 - a**2*sin(s)**2 + a**2 + b**2*sin(s)**2)/(a**2*sin(s)**2 - b**2*sin(s)**2 + b**2 + 1)**2)*(a**2*sin(s)**2 - b**2*sin(s)**2 + b**2 + 1)**2*sin(s)/((a**2*sin(s)**2 + b**2*cos(s)**2 + 1)*(a**2*b**2 - a**2*sin(s)**2 + a**2 + b**2*sin(s)**2)), a*sqrt((a**2*b**2 - a**2*sin(s)**2 + a**2 + b**2*sin(s)**2)/(a**2*sin(s)**2 - b**2*sin(s)**2 + b**2 + 1)**2)*(a**2*sin(s)**2 - b**2*sin(s)**2 + b**2 + 1)**2*cos(s)/((-a**2*sin(s)**2 - b**2*cos(s)**2 - 1)*(a**2*b**2 - a**2*sin(s)**2 + a**2 + b**2*sin(s)**2)), a*b/(sqrt((a**2*b**2 - a**2*sin(s)**2 + a**2 + b**2*sin(s)**2)/(a**2*sin(s)**2 - b**2*sin(s)**2 + b**2 + 1)**2)*(a**2*sin(s)**2 + b**2*cos(s)**2 + 1)))\n",
      "norma = 1\n"
     ]
    }
   ],
   "source": [
    "# Vector Binomial\n",
    "B = np.cross(T,N)\n",
    "B = (B[0].simplify(), B[1].simplify(), B[2].simplify())\n",
    "# Norma del vector Binomial\n",
    "da_norma = norma(B)\n",
    "print('Vector Binomial =',B)\n",
    "print('norma =', da_norma)"
   ]
  },
  {
   "attachments": {},
   "cell_type": "markdown",
   "metadata": {},
   "source": [
    "4.3 Evaluate curvature $k(t)$ and torsion $\\tau(t)$ for $\\alpha(t)$. Plot the funcitons $k(t)$ and $\\tau(t)$,\n",
    "use parameters a = 2 and b = 3 for plots.\n",
    "Important formulas to consider:\n",
    "$$(4). k(t) = \\frac {|\\alpha'(t) \\times \\alpha''(t)|}{|\\alpha'|^{3}}$$\n",
    "$$(5).\\tau(t) = - \\frac{(\\alpha'(t) \\times \\alpha''(t)) \\cdot \\alpha'''(t)}{|\\alpha'(t) \\times \\alpha''(t)|^{2}}$$\n"
   ]
  },
  {
   "attachments": {},
   "cell_type": "markdown",
   "metadata": {},
   "source": [
    "#### *Curvature $k(t)$*\n",
    "$$(4). k(t) = \\frac {|\\alpha'(t) \\times \\alpha''(t)|}{|\\alpha'|^{3}}$$\n"
   ]
  },
  {
   "cell_type": "code",
   "execution_count": 40,
   "metadata": {},
   "outputs": [
    {
     "name": "stdout",
     "output_type": "stream",
     "text": [
      "segunda derivada alpha = (-a*cos(s), -b*sin(s), 0)\n",
      "norma = sqrt(a**2*cos(s)**2 + b**2*sin(s)**2)\n"
     ]
    }
   ],
   "source": [
    "## Segunda derivada de alpha\n",
    "ddalpha = (sp.diff(x,s,2), sp.diff(y,s,2), sp.diff(z,s,2))\n",
    "da_norma = norma(ddalpha)\n",
    "print('segunda derivada alpha =',ddalpha)\n",
    "print('norma =', da_norma)"
   ]
  },
  {
   "cell_type": "code",
   "execution_count": 41,
   "metadata": {},
   "outputs": [
    {
     "name": "stdout",
     "output_type": "stream",
     "text": [
      "Curvatura sqrt(a**2*b**2 + a**2*cos(s)**2 + b**2*sin(s)**2)/(a**2*sin(s)**2 + b**2*cos(s)**2 + 1)**(3/2)\n"
     ]
    }
   ],
   "source": [
    "## Curvatura \n",
    "k  = norma(np.cross(dalpha,ddalpha))/(norma(dalpha)**3)\n",
    "print('Curvatura', k)"
   ]
  },
  {
   "attachments": {},
   "cell_type": "markdown",
   "metadata": {},
   "source": [
    "#### *Torsion $\\tau(t)$*\n",
    "$$(5).\\tau(t) = - \\frac{(\\alpha'(t) \\times \\alpha''(t)) \\cdot \\alpha'''(t)}{|\\alpha'(t) \\times \\alpha''(t)|^{2}}$$"
   ]
  },
  {
   "cell_type": "code",
   "execution_count": 42,
   "metadata": {},
   "outputs": [
    {
     "name": "stdout",
     "output_type": "stream",
     "text": [
      "Tercera derivada alpha = (a*sin(s), -b*cos(s), 0)\n",
      "norma = sqrt(a**2*cos(s)**2 + b**2*sin(s)**2)\n"
     ]
    }
   ],
   "source": [
    "# Tercera derivada de alpha\n",
    "dddalpha = (sp.diff(x,s,3), sp.diff(y,s,3), sp.diff(z,s,3))\n",
    "da_norma = norma(ddalpha)\n",
    "print('Tercera derivada alpha =',dddalpha)\n",
    "print('norma =', da_norma)"
   ]
  },
  {
   "cell_type": "code",
   "execution_count": 43,
   "metadata": {},
   "outputs": [
    {
     "name": "stdout",
     "output_type": "stream",
     "text": [
      "torsion = -(a*b*sin(s)**2 + a*b*cos(s)**2)/(a**2*b**2 + a**2*cos(s)**2 + b**2*sin(s)**2)\n"
     ]
    }
   ],
   "source": [
    "## Torsión\n",
    "tau = - (np.dot(np.cross(dalpha,ddalpha),dddalpha)/(norma(np.cross(dalpha,ddalpha))**2))\n",
    "print('torsion =', tau)"
   ]
  },
  {
   "attachments": {},
   "cell_type": "markdown",
   "metadata": {},
   "source": [
    "*Graphic*"
   ]
  },
  {
   "cell_type": "code",
   "execution_count": 50,
   "metadata": {},
   "outputs": [
    {
     "data": {
      "image/png": "[encoded data removed]",
      "text/plain": [
       "<Figure size 640x480 with 2 Axes>"
      ]
     },
     "metadata": {},
     "output_type": "display_data"
    }
   ],
   "source": [
    "t = np.linspace(0,2*np.pi)\n",
    "K = lambdify(s,k.subs(a,2).subs(b,3))(t)\n",
    "Tau = lambdify(s,tau.subs(a,2).subs(b,3))(t)\n",
    "fig, (ax1, ax2) = plt.subplots(2, sharex=True)\n",
    "ax1.plot(t,K)\n",
    "ax1.set_title(r\"Curvatura k(t)\", size=25)\n",
    "ax1.grid(True)\n",
    "ax2.plot(t,Tau)\n",
    "ax2.set_title(r\"Torsion $\\tau(t)$\", size=25)\n",
    "ax2.grid(True)\n",
    "\n",
    "\n"
   ]
  },
  {
   "attachments": {},
   "cell_type": "markdown",
   "metadata": {},
   "source": [
    "4.4 Use libraries as matplotlib.pyplot.quiver in order to plot the vectors $\\hat{T(t)}$, $\\hat{N(t)}$ and $\\hat{B(t)}$ on the curve."
   ]
  },
  {
   "cell_type": "code",
   "execution_count": null,
   "metadata": {},
   "outputs": [],
   "source": []
  }
 ],
 "metadata": {
  "kernelspec": {
   "display_name": "Python 3",
   "language": "python",
   "name": "python3"
  },
  "language_info": {
   "codemirror_mode": {
    "name": "ipython",
    "version": 3
   },
   "file_extension": ".py",
   "mimetype": "text/x-python",
   "name": "python",
   "nbconvert_exporter": "python",
   "pygments_lexer": "ipython3",
   "version": "3.11.1"
  },
  "orig_nbformat": 4
 },
 "nbformat": 4,
 "nbformat_minor": 2
}
