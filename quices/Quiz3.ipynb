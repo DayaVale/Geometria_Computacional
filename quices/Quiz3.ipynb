{
 "cells": [
  {
   "attachments": {},
   "cell_type": "markdown",
   "metadata": {},
   "source": [
    "## Librerías"
   ]
  },
  {
   "cell_type": "code",
   "execution_count": 1,
   "metadata": {},
   "outputs": [],
   "source": [
    "import sympy as sp\n",
    "from sympy import lambdify\n",
    "import matplotlib.pyplot as plt\n",
    "import numpy as np"
   ]
  },
  {
   "attachments": {},
   "cell_type": "markdown",
   "metadata": {},
   "source": [
    "Definimos una función para sacar la norma de algun vector:\n"
   ]
  },
  {
   "cell_type": "code",
   "execution_count": 18,
   "metadata": {},
   "outputs": [],
   "source": [
    "def norma(x):\n",
    "  return sp.sqrt(np.dot(x,x)).simplify()"
   ]
  },
  {
   "attachments": {},
   "cell_type": "markdown",
   "metadata": {},
   "source": [
    "Considere inicialmente la curva $\\alpha (t)$ dada por:\n",
    "$$\\alpha (t) = ( a cos(t), b sin(t), 0)$$\n",
    "\n",
    "Note que no se puede solucionar mediante la longitud de arco.\n",
    "\n",
    "**1. Evalute of curvature k(t) of $\\alpha(t)$**\n",
    "\n",
    "Como es una curvatura tridimensional, entonces la curvatura es dada por la siguiente formula:\n",
    "$$k(t) = \\frac {|\\alpha'(t) \\times \\alpha''(t)|}{|\\alpha'|^{3}}$$\n"
   ]
  },
  {
   "cell_type": "code",
   "execution_count": 26,
   "metadata": {},
   "outputs": [],
   "source": [
    "## Definimos inicialmente los parametros con sympy\n",
    "a,b = sp.symbols(\"a,b\", positive = True, real = True)\n",
    "s = sp.symbols(\"s\")\n",
    "x,y,z,x1,y1,z1,alpha,dalpha,ddalpha,T,dT,N,B,k = sp.symbols(\"x,y,z,x1,y1,z1,alpha,dalpha,ddalpha,T,dT,N,B,k\", cls = sp.Function)\n",
    "da_norma = sp.symbols (\"da_norma\", cls = sp.Function)"
   ]
  },
  {
   "cell_type": "code",
   "execution_count": 27,
   "metadata": {},
   "outputs": [
    {
     "name": "stdout",
     "output_type": "stream",
     "text": [
      "alpha(s) =  (a*cos(s), b*sin(s), 0)\n",
      "norma alpha =  sqrt(a**2*cos(s)**2 + b**2*sin(s)**2)\n"
     ]
    }
   ],
   "source": [
    "#Definimos las componentes de alpha\n",
    "x = a*sp.cos(s)\n",
    "y = b*sp.sin(s)\n",
    "z = 0\n",
    "alpha = (x,y,z)\n",
    "print('alpha(s) = ',alpha)\n",
    "print('norma alpha = ', norma(alpha))\n",
    "#Como la norma no es 1 es una curva tridimensional y no se puede utilizar la parametrización por longitud de arco"
   ]
  },
  {
   "cell_type": "code",
   "execution_count": 28,
   "metadata": {},
   "outputs": [
    {
     "name": "stdout",
     "output_type": "stream",
     "text": [
      "(-a*sin(s), b*cos(s), 0)\n"
     ]
    }
   ],
   "source": [
    "## Primera derivada de alpha\n",
    "dalpha = (sp.diff(x,s), sp.diff(y,s), sp.diff(z,s))\n",
    "print(dalpha)"
   ]
  },
  {
   "cell_type": "code",
   "execution_count": 29,
   "metadata": {},
   "outputs": [
    {
     "name": "stdout",
     "output_type": "stream",
     "text": [
      "(-a*cos(s), -b*sin(s), 0)\n"
     ]
    }
   ],
   "source": [
    "## Segunda derivada de alpha\n",
    "ddalpha = (sp.diff(x,s,2), sp.diff(y,s,2), sp.diff(z,s,2))\n",
    "print(ddalpha)"
   ]
  },
  {
   "cell_type": "code",
   "execution_count": 30,
   "metadata": {},
   "outputs": [
    {
     "name": "stdout",
     "output_type": "stream",
     "text": [
      "Curvatura a*b/(a**2*sin(s)**2 + b**2*cos(s)**2)**(3/2)\n"
     ]
    }
   ],
   "source": [
    "k  = norma(np.cross(dalpha,ddalpha))/(norma(dalpha)**3)\n",
    "print('Curvatura', k)"
   ]
  },
  {
   "cell_type": "code",
   "execution_count": 31,
   "metadata": {},
   "outputs": [
    {
     "data": {
      "text/latex": [
       "$\\displaystyle \\frac{6}{\\left(4 \\sin^{2}{\\left(s \\right)} + 9 \\cos^{2}{\\left(s \\right)}\\right)^{\\frac{3}{2}}}$"
      ],
      "text/plain": [
       "6/(4*sin(s)**2 + 9*cos(s)**2)**(3/2)"
      ]
     },
     "execution_count": 31,
     "metadata": {},
     "output_type": "execute_result"
    }
   ],
   "source": [
    "k.subs(a,2).subs(b,3)"
   ]
  },
  {
   "attachments": {},
   "cell_type": "markdown",
   "metadata": {},
   "source": [
    "**2.Obtain the evolute for the curve α(t).** \n",
    "La envolvente de una curva esta dada por la siguiente ecuación:\n",
    "$$β(t) = α(t) + \\frac{1}{k(t)} \\hat{N(t)}$$\n",
    "Como necesitamos el vector normal, esta dado de la siguiente manera:\n",
    "$$ \\hat{N}(t) = \\frac{T'}{|T'|}$$\n",
    "Donde necesitamos el vector tangente dado por: \n",
    "$$\\hat{T(t)} = \\frac{\\alpha'(s)}{|\\alpha'(s)|}$$"
   ]
  },
  {
   "cell_type": "code",
   "execution_count": 36,
   "metadata": {},
   "outputs": [
    {
     "name": "stdout",
     "output_type": "stream",
     "text": [
      "T =  (-a*sin(s)/sqrt(a**2*sin(s)**2 + b**2*cos(s)**2), b*cos(s)/sqrt(a**2*sin(s)**2 + b**2*cos(s)**2), 0)\n",
      "norma =  1\n"
     ]
    }
   ],
   "source": [
    "T = (sp.diff(x,s)/norma(dalpha), sp.diff(y,s)/norma(dalpha), sp.diff(z,s)/norma(dalpha))\n",
    "print('T = ', T)\n",
    "print('norma = ', norma(T))"
   ]
  },
  {
   "cell_type": "code",
   "execution_count": 33,
   "metadata": {},
   "outputs": [],
   "source": [
    "# Obtenemos una nuevas variables dadas por las componentes del vector tangente\n",
    "x1 = -a*sp.sin(s)/sp.sqrt(a**2*sp.sin(s)**2 + b**2*sp.cos(s)**2)\n",
    "y1 = b*sp.cos(s)/sp.sqrt(a**2*sp.sin(s)**2 + b**2*sp.cos(s)**2)\n",
    "z1 = 0"
   ]
  },
  {
   "cell_type": "code",
   "execution_count": 35,
   "metadata": {},
   "outputs": [
    {
     "name": "stdout",
     "output_type": "stream",
     "text": [
      "T- prima =  (-a*cos(s)/sqrt(a**2*sin(s)**2 + b**2*cos(s)**2) - a*(-a**2*sin(s)*cos(s) + b**2*sin(s)*cos(s))*sin(s)/(a**2*sin(s)**2 + b**2*cos(s)**2)**(3/2), -b*sin(s)/sqrt(a**2*sin(s)**2 + b**2*cos(s)**2) + b*(-a**2*sin(s)*cos(s) + b**2*sin(s)*cos(s))*cos(s)/(a**2*sin(s)**2 + b**2*cos(s)**2)**(3/2), 0)\n",
      "norma = a*b*sqrt((a**2*sin(s)**2 - b**2*sin(s)**2 + b**2)**(-2))\n"
     ]
    }
   ],
   "source": [
    "# Obtenemos la primera derivada del vector tangente\n",
    "dT =(sp.diff(x1,s), sp.diff(y1,s), sp.diff(z1,s))\n",
    "print('T- prima = ', dT)\n",
    "print('norma =', norma(dT))"
   ]
  },
  {
   "cell_type": "code",
   "execution_count": 37,
   "metadata": {},
   "outputs": [
    {
     "name": "stdout",
     "output_type": "stream",
     "text": [
      "N = ((-a*cos(s)/sqrt(a**2*sin(s)**2 + b**2*cos(s)**2) - a*(-a**2*sin(s)*cos(s) + b**2*sin(s)*cos(s))*sin(s)/(a**2*sin(s)**2 + b**2*cos(s)**2)**(3/2))/(a*b*sqrt((a**2*sin(s)**2 - b**2*sin(s)**2 + b**2)**(-2))), (-b*sin(s)/sqrt(a**2*sin(s)**2 + b**2*cos(s)**2) + b*(-a**2*sin(s)*cos(s) + b**2*sin(s)*cos(s))*cos(s)/(a**2*sin(s)**2 + b**2*cos(s)**2)**(3/2))/(a*b*sqrt((a**2*sin(s)**2 - b**2*sin(s)**2 + b**2)**(-2))), 0)\n",
      "norma = 1\n"
     ]
    }
   ],
   "source": [
    "N = (sp.diff(x1,s)/norma(dT), sp.diff(y1,s)/norma(dT), sp.diff(z1,s)/norma(dT))\n",
    "print('N =', N)\n",
    "print('norma =', norma(N) )"
   ]
  },
  {
   "cell_type": "code",
   "execution_count": 38,
   "metadata": {},
   "outputs": [
    {
     "name": "stdout",
     "output_type": "stream",
     "text": [
      "Envolvente = (a*cos(s) + (a**2*sin(s)**2 + b**2*cos(s)**2)**(3/2)*(-a*cos(s)/sqrt(a**2*sin(s)**2 + b**2*cos(s)**2) - a*(-a**2*sin(s)*cos(s) + b**2*sin(s)*cos(s))*sin(s)/(a**2*sin(s)**2 + b**2*cos(s)**2)**(3/2))/(a**2*b**2*sqrt((a**2*sin(s)**2 - b**2*sin(s)**2 + b**2)**(-2))), b*sin(s) + (a**2*sin(s)**2 + b**2*cos(s)**2)**(3/2)*(-b*sin(s)/sqrt(a**2*sin(s)**2 + b**2*cos(s)**2) + b*(-a**2*sin(s)*cos(s) + b**2*sin(s)*cos(s))*cos(s)/(a**2*sin(s)**2 + b**2*cos(s)**2)**(3/2))/(a**2*b**2*sqrt((a**2*sin(s)**2 - b**2*sin(s)**2 + b**2)**(-2))), 0)\n"
     ]
    }
   ],
   "source": [
    "B = (x + 1/k * sp.diff(x1,s)/norma(dT), y + 1/k * sp.diff(y1,s)/norma(dT), z + 1/k * sp.diff(z1,s)/norma(dT) )\n",
    "print('Envolvente =', B)"
   ]
  },
  {
   "attachments": {},
   "cell_type": "markdown",
   "metadata": {},
   "source": [
    "**3.Plot the curves α(t) and β(t) in the same frame. Set values a = 2 and b = 3 for the plot.**"
   ]
  },
  {
   "cell_type": "code",
   "execution_count": 42,
   "metadata": {},
   "outputs": [
    {
     "data": {
      "image/png": "[encoded data removed]",
      "text/plain": [
       "<Figure size 640x480 with 1 Axes>"
      ]
     },
     "metadata": {},
     "output_type": "display_data"
    }
   ],
   "source": [
    "t = np.linspace(0,2*np.pi)\n",
    "X = lambdify(s,alpha[0].subs(a,2))(t)\n",
    "Y = lambdify(s,alpha[1].subs(b,3))(t)\n",
    "B1 =lambdify(s,B[0].subs(a,2).subs(b,3))(t) \n",
    "B2 =lambdify(s,B[1].subs(a,2).subs(b,3))(t) \n",
    "plt.plot(X,Y)\n",
    "plt.plot(B1,B2)\n",
    "plt.show()"
   ]
  }
 ],
 "metadata": {
  "kernelspec": {
   "display_name": "Python 3",
   "language": "python",
   "name": "python3"
  },
  "language_info": {
   "codemirror_mode": {
    "name": "ipython",
    "version": 3
   },
   "file_extension": ".py",
   "mimetype": "text/x-python",
   "name": "python",
   "nbconvert_exporter": "python",
   "pygments_lexer": "ipython3",
   "version": "3.11.1"
  },
  "orig_nbformat": 4
 },
 "nbformat": 4,
 "nbformat_minor": 2
}
