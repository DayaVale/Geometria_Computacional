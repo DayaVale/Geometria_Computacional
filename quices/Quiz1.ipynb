{
  "nbformat": 4,
  "nbformat_minor": 0,
  "metadata": {
    "colab": {
      "provenance": []
    },
    "kernelspec": {
      "name": "python3",
      "display_name": "Python 3"
    },
    "language_info": {
      "name": "python"
    }
  },
  "cells": [
    {
      "cell_type": "markdown",
      "source": [
        "## QUIZ \n",
        "- Dayana Valentina Gonzalez Vargas"
      ],
      "metadata": {
        "id": "TCxXkXZJ3MC_"
      }
    },
    {
      "cell_type": "markdown",
      "source": [
        "# LIBRERÍAS"
      ],
      "metadata": {
        "id": "zVt2-sod3oXh"
      }
    },
    {
      "cell_type": "code",
      "execution_count": null,
      "metadata": {
        "id": "XuGnTdiHvwK2"
      },
      "outputs": [],
      "source": [
        "import numpy as np"
      ]
    },
    {
      "cell_type": "markdown",
      "source": [
        "### ARBOL BINARIO"
      ],
      "metadata": {
        "id": "mjB4Z4Le3wuw"
      }
    },
    {
      "cell_type": "code",
      "source": [
        "class Tree_binary:\n",
        "  def __init__(self, data):\n",
        "    self.data = data \n",
        "    self.left = None\n",
        "    self.right = None\n",
        "\n",
        "def Insert_Sort_Event(raiz,punto):\n",
        "    if(raiz.data[1] < punto.data[1]):\n",
        "        if raiz.left is None:\n",
        "            raiz.left = punto\n",
        "        else:\n",
        "            Insert_Sort_Event(raiz.left,punto)\n",
        "    elif(raiz.data[1] == punto.data[1]):\n",
        "        if(raiz.data[0] > punto.data[0]):\n",
        "            if raiz.left is None:\n",
        "                raiz.left = punto\n",
        "            else:\n",
        "                Insert_Sort_Event(raiz.left,punto)\n",
        "        else:\n",
        "            if raiz.right is None:\n",
        "                raiz.right = punto\n",
        "            else:\n",
        "                Insert_Sort_Event(raiz.right,punto)\n",
        "    else:\n",
        "        if raiz.right is None:\n",
        "                raiz.right = punto\n",
        "        else:\n",
        "            Insert_Sort_Event(raiz.right,punto) "
      ],
      "metadata": {
        "id": "vywc1DmE37hz"
      },
      "execution_count": null,
      "outputs": []
    },
    {
      "cell_type": "code",
      "source": [
        "def inorder(root):\n",
        "    inorderArr = []\n",
        "    if root.left is not None:\n",
        "        leftInorderArr = inorder(root.left)\n",
        "        inorderArr.extend(leftInorderArr) \n",
        "    \n",
        "    inorderArr.append(root.data)\n",
        "    if root.right is not None:\n",
        "        rightInorderArr = inorder(root.right)\n",
        "        inorderArr.extend(rightInorderArr) \n",
        "    \n",
        "    return inorderArr"
      ],
      "metadata": {
        "id": "yoLOluu55ifi"
      },
      "execution_count": null,
      "outputs": []
    },
    {
      "cell_type": "code",
      "source": [
        "#pruebas\n",
        "root = Tree_binary([4,4])\n",
        "arr = [[1,2],[3,4],[4,5],[2,2]]\n",
        "for i in range(len(arr)):\n",
        "  Insert_Sort_Event(root,Tree_binary(arr[i]))\n",
        "print(root.left.data)\n",
        "print(root.right.data)\n",
        "inorder(root)"
      ],
      "metadata": {
        "colab": {
          "base_uri": "https://localhost:8080/"
        },
        "id": "VBvKZi5155IW",
        "outputId": "f4a02e2b-b528-4f1d-92f2-1fe5b67e8835"
      },
      "execution_count": null,
      "outputs": [
        {
          "output_type": "stream",
          "name": "stdout",
          "text": [
            "[3, 4]\n",
            "[1, 2]\n"
          ]
        },
        {
          "output_type": "execute_result",
          "data": {
            "text/plain": [
              "[[4, 5], [3, 4], [4, 4], [1, 2], [2, 2]]"
            ]
          },
          "metadata": {},
          "execution_count": 34
        }
      ]
    },
    {
      "cell_type": "markdown",
      "source": [
        "## RESULTADO FINAL"
      ],
      "metadata": {
        "id": "xlqDVzY2-F7b"
      }
    },
    {
      "cell_type": "code",
      "source": [
        "P = np.round(np.random.rand(20,2),2)\n",
        "#definieremos un punto inicial como la raiz\n",
        "print(\"Puntos iniciales:\", P)\n",
        "root2 = Tree_binary(P[0])\n",
        "print(\"La raiz inicial es:\", root2.data)\n",
        "for i in range(1,len(P)-1):\n",
        "  Insert_Sort_Event(root2,Tree_binary(P[i]))\n",
        "\n",
        "\n",
        "\n",
        "print('El arreglo obtenido a partir del arbol es:')\n",
        "inorder(root2)"
      ],
      "metadata": {
        "colab": {
          "base_uri": "https://localhost:8080/"
        },
        "id": "i1dB8Oyq5pQK",
        "outputId": "8952c1a7-b7f7-48ce-f0ec-9c30bab261c1"
      },
      "execution_count": null,
      "outputs": [
        {
          "output_type": "stream",
          "name": "stdout",
          "text": [
            "Puntos iniciales: [[0.91 0.14]\n",
            " [1.   0.52]\n",
            " [0.08 0.26]\n",
            " [0.22 0.48]\n",
            " [0.86 0.06]\n",
            " [0.52 0.56]\n",
            " [0.18 0.78]\n",
            " [0.07 0.54]\n",
            " [0.7  0.45]\n",
            " [0.7  0.18]\n",
            " [0.34 0.49]\n",
            " [0.88 0.29]\n",
            " [0.51 0.19]\n",
            " [0.22 0.91]\n",
            " [0.76 0.04]\n",
            " [0.34 0.04]\n",
            " [0.53 0.32]\n",
            " [1.   0.89]\n",
            " [0.35 0.53]\n",
            " [0.55 0.44]]\n",
            "La raiz inicial es: [0.91 0.14]\n",
            "El arreglo obtenido a partir del arbol es:\n"
          ]
        },
        {
          "output_type": "execute_result",
          "data": {
            "text/plain": [
              "[array([0.22, 0.91]),\n",
              " array([1.  , 0.89]),\n",
              " array([0.18, 0.78]),\n",
              " array([0.52, 0.56]),\n",
              " array([0.07, 0.54]),\n",
              " array([0.35, 0.53]),\n",
              " array([1.  , 0.52]),\n",
              " array([0.34, 0.49]),\n",
              " array([0.22, 0.48]),\n",
              " array([0.7 , 0.45]),\n",
              " array([0.53, 0.32]),\n",
              " array([0.88, 0.29]),\n",
              " array([0.08, 0.26]),\n",
              " array([0.51, 0.19]),\n",
              " array([0.7 , 0.18]),\n",
              " array([0.91, 0.14]),\n",
              " array([0.86, 0.06]),\n",
              " array([0.34, 0.04]),\n",
              " array([0.76, 0.04])]"
            ]
          },
          "metadata": {},
          "execution_count": 31
        }
      ]
    }
  ]
}