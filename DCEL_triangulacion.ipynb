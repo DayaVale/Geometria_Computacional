{
 "cells": [
  {
   "attachments": {},
   "cell_type": "markdown",
   "metadata": {},
   "source": [
    "# Lista de aristas doblemente conectadas\n",
    "## Librerias"
   ]
  },
  {
   "cell_type": "code",
   "execution_count": 188,
   "metadata": {},
   "outputs": [],
   "source": [
    "import numpy as np\n",
    "import matplotlib.pyplot as plt\n",
    "import pandas as pd"
   ]
  },
  {
   "attachments": {},
   "cell_type": "markdown",
   "metadata": {},
   "source": [
    "## Clases Iniciales\n",
    "\n",
    "### Clase Vertice"
   ]
  },
  {
   "cell_type": "code",
   "execution_count": 189,
   "metadata": {},
   "outputs": [],
   "source": [
    "class vertex:\n",
    "    def __init__(self, x , y, name):\n",
    "        self.x = x\n",
    "        self.y = y\n",
    "        self.name = name\n",
    "        self.edge_inci = None\n",
    "        \n",
    "    #Agregar arista incidente\n",
    "    def add_edge_inci(self,e):\n",
    "        self.edge_inci = e\n",
    "\n",
    "    #Relacion de orden\n",
    "    def r_orden(self,q):\n",
    "        if self.y > q.y:\n",
    "            point = self\n",
    "        elif self.y == q.y:\n",
    "            if self.x < q.x:\n",
    "                point = self\n",
    "            else:\n",
    "                point = q\n",
    "        else:\n",
    "            point = q\n",
    "        return point\n",
    "    "
   ]
  },
  {
   "attachments": {},
   "cell_type": "markdown",
   "metadata": {},
   "source": [
    "### Clase Semi-Arista"
   ]
  },
  {
   "cell_type": "code",
   "execution_count": 190,
   "metadata": {},
   "outputs": [],
   "source": [
    "class half_edge:\n",
    "    def __init__(self,start,end,name):\n",
    "        self.origin = start #Origen\n",
    "        self.queue = end #final\n",
    "        self.name = name #nombre\n",
    "        self.next = None #Siguiente\n",
    "        self.prev = None #Previo\n",
    "        self.face = None #Cara incidente\n",
    "        self.twin = twin(self) # Gemelo\n",
    "\n",
    "    global twin\n",
    "    def twin(self): #Gemelo\n",
    "        return self.queue, self.origin \n",
    "\n",
    "    def add_next(self,n):\n",
    "        self.next = n #Siguiente\n",
    "    \n",
    "    def add_prev(self,pv):\n",
    "        self.prev = pv #Previo\n",
    "\n",
    "    def add_face(self,f):\n",
    "        self.face = f #Cara incidente    \n"
   ]
  },
  {
   "attachments": {},
   "cell_type": "markdown",
   "metadata": {},
   "source": [
    "### Clase Cara"
   ]
  },
  {
   "cell_type": "code",
   "execution_count": 191,
   "metadata": {},
   "outputs": [],
   "source": [
    "class face:\n",
    "    def __init__(self,n):\n",
    "        self.name = n #Nombre\n",
    "        self.exterior = 'None' #frontera exterior\n",
    "        self.interior = 'None' #frontera interior"
   ]
  },
  {
   "attachments": {},
   "cell_type": "markdown",
   "metadata": {},
   "source": [
    "## Para tener en cuenta"
   ]
  },
  {
   "cell_type": "code",
   "execution_count": 192,
   "metadata": {},
   "outputs": [],
   "source": [
    "# P0 : Punto arista origen\n",
    "# P1 : Punto arista next origin\n",
    "# P2 : Punto arista next cola\n",
    "def Producto_Cruz(P0,P1,P2):\n",
    "    d = ((P1.x-P0.x)*(P2.y-P0.y))-((P2.x-P0.x)*(P1.y-P0.y))\n",
    "    return d"
   ]
  },
  {
   "cell_type": "code",
   "execution_count": 193,
   "metadata": {},
   "outputs": [],
   "source": [
    "# P0 : Punto arista origen\n",
    "# P1 : Punto arista next origin\n",
    "# P2 : Punto arista next cola\n",
    "def orientacion(P0,P1,P2):\n",
    "    d = Producto_Cruz(P0,P1,P2)\n",
    "    if d>0:\n",
    "        a = True\n",
    "        print(\"P2 se hace un giro en sentido antihoraro de P1\")\n",
    "    else:\n",
    "        a = False\n",
    "        print(\"P2 esta girando en sentido horario de P1\")\n",
    "    return a "
   ]
  },
  {
   "attachments": {},
   "cell_type": "markdown",
   "metadata": {},
   "source": [
    "## Conceptos\n",
    "* **Arista incidente:** Si un vértice es el punto final de una arista, entonces\n",
    "decimos que el vértice y la arista son incidentes\n",
    "* Una cara y una arista de su frontera son incidentes, y una cara y un vértice de su frontera son incidentes.\n",
    "* Una lista de aristas doblemente conectadas contiene una lista por caras, nodos y semi-aristas.\n",
    "* Recorrer una cara en el sentido contrario a las agujas del reloj.\n",
    "* Si una semi-aristae tiene v como origen y w como destino, entonces su gemela Twin(e) tiene w como origen y v como destino.\n",
    "* Para llegar al límite de una cara basta con almacenar un puntero en el registro de caras a una media arista arbitraria que delimite la cara.\n",
    "* **límites de los agujeros de una cara:** si se recorren en sentido contrario a las agujas del reloj, la cara queda a la derecha.\n",
    "* Another consequence is that twin half-edges always have opposite orientations\n",
    "* Frontera interior giro en sentido antihorario\n",
    "* Frontera exterior giro en setido horario"
   ]
  },
  {
   "attachments": {},
   "cell_type": "markdown",
   "metadata": {},
   "source": [
    "### Clase DCEL"
   ]
  },
  {
   "cell_type": "code",
   "execution_count": 194,
   "metadata": {},
   "outputs": [],
   "source": [
    "class DCEL():\n",
    "    # Ingresaremos unicamente la lista de objetos vertices\n",
    "    def __init__(self,vertex):\n",
    "        self.list_edge = []\n",
    "        self.list_vertex = vertex\n",
    "        self.list_face = []\n",
    "\n",
    "    #Generar los gemelos con sus caracteristicas\n",
    "    def _add_twin(self):\n",
    "        twins = []\n",
    "        twins_sorted = []\n",
    "        edges_copy = self.list_edge.copy()\n",
    "        for i in range(len(edges_copy)):\n",
    "            t_start, t_end = twin(edges_copy[i])\n",
    "            twins.append(half_edge(t_start,t_end,'te'+str(i+1)))\n",
    "\n",
    "        print('Entro2')\n",
    "        \n",
    "        # Organizamos para que quede de manera ciclica y agremaos el next\n",
    "        origen = twins[0].queue\n",
    "        a = True\n",
    "        while(a != False):\n",
    "            edge_next = [i for i in twins  if i.origin == origen]\n",
    "            twins_sorted.append(edge_next[0])\n",
    "            origen = edge_next[0].queue\n",
    "            if len(twins_sorted) == len(twins):\n",
    "                a = False\n",
    "        #for i in twins_sorted:\n",
    "         #   print(i.name)\n",
    "        index = len(self.list_edge) - len(twins_sorted)\n",
    "        #print(len(twins_sorted))\n",
    "        # Agregamos el next y prev\n",
    "        for i in range(0,len(twins_sorted)+1):\n",
    "            #print(i)\n",
    "            #print(twins_sorted[i].name)\n",
    "            if i == 0:\n",
    "                #print(twins_sorted[0].name)\n",
    "                self.list_edge.append(twins_sorted[0])\n",
    "            else:\n",
    "                #print(self.list_edge[-1].name)\n",
    "                prev_twin = self.list_edge[-1]\n",
    "                #print('prev_twin',prev_twin.name)\n",
    "                if i == len(twins_sorted):\n",
    "                    index = len(self.list_edge) - len(twins_sorted)\n",
    "                    prev_twin.add_next(self.list_edge[index])\n",
    "                    self.list_edge[index].add_prev(prev_twin)\n",
    "                    self.list_edge[-1] = prev_twin\n",
    "                    #print('next',prev_twin.next.name)\n",
    "                else:\n",
    "                    #print('estoy')\n",
    "                    twins_sorted[i].add_prev(prev_twin)\n",
    "                    #print('twin', twins_sorted[i].name)\n",
    "                    #print('prevprev',twins_sorted[i].prev.name)\n",
    "                    prev_twin.add_next(twins_sorted[i])\n",
    "                    #print('next',prev_twin.next.name)\n",
    "                    self.list_edge.append(twins_sorted[i])\n",
    "        \n",
    "                    \n",
    "\n",
    "    #agregar los seguientes y previos a cada objeto de las semi aristas\n",
    "    def _add_next(self):\n",
    "        for i in range(len(self.list_edge)):\n",
    "            if i == len(self.list_edge)-1:\n",
    "                self.list_edge[i].add_next(self.list_edge[0])\n",
    "            else:\n",
    "                self.list_edge[i].add_next(self.list_edge[i+1])   \n",
    "    \n",
    "    def _add_prev(self):\n",
    "        for i in range(len(self.list_edge)):\n",
    "            if i == 0:\n",
    "                self.list_edge[i].add_prev(self.list_edge[len(self.list_edge)-1])\n",
    "            else:\n",
    "                self.list_edge[i].add_prev(self.list_edge[i-1])\n",
    "    \n",
    "    \n",
    "    \n",
    "    #Generaremos la lista de aristas \n",
    "    def create_half_edge(self):\n",
    "        print('Entro')\n",
    "        #print(len(self.list_vertex))\n",
    "        for i in range(len(self.list_vertex)): \n",
    "            name_edge = 'e'+str(i+1)\n",
    "            if i == (len(self.list_vertex)-1):\n",
    "                e = half_edge(self.list_vertex[i], self.list_vertex[0], name_edge)\n",
    "                self.list_vertex[i].add_edge_inci(e)\n",
    "            else: \n",
    "                #print(i)\n",
    "                #print(i+1)\n",
    "                e = half_edge(self.list_vertex[i], self.list_vertex[i+1], name_edge)\n",
    "                self.list_vertex[i].add_edge_inci(e)\n",
    "\n",
    "            self.list_edge.append(e)\n",
    "\n",
    "        self._add_next()\n",
    "        self._add_prev()\n",
    "        self._add_twin()\n",
    "        \n",
    "    \n",
    "    #El mas arriba a la izq\n",
    "    def p_up(self):\n",
    "        p = self.list_vertex[0]\n",
    "        for i in range(len(self.list_vertex)):\n",
    "            if self.list_vertex[i] == p:\n",
    "                p = p.r_orden(self.list_vertex[i+1])\n",
    "            else:\n",
    "                p = p.r_orden(self.list_vertex[i])\n",
    "        return p\n",
    "    \n",
    "    #generar un ciclo \n",
    "    def cicle(self,e,f):\n",
    "        e.add_face(f)\n",
    "        print(e.name)\n",
    "        print(e.face.name)\n",
    "        edge = e\n",
    "        e = e.next\n",
    "        while(e != edge):\n",
    "            print(e.name)\n",
    "            e.add_face(f)\n",
    "            e = e.next\n",
    "\n",
    "    #Generar lista de Caras\n",
    "    def create_face(self):\n",
    "        Inter,exter = face('I'),face('E')\n",
    "        \n",
    "        #Punto más arriba a la izquierda \n",
    "        p = self.p_up()\n",
    "        idex = 0\n",
    "        # Asegurarse de tomar la arista e que tenga ese punto como origen y que no sea la gemela\n",
    "        for i in self.list_edge:\n",
    "            if (p == i.origin) and (i.name == 'e'):\n",
    "                idex = self.list_edge.index(i)\n",
    "        \n",
    "        e_inc = self.list_edge[idex]\n",
    "        print(e_inc.name)\n",
    "        \n",
    "        start_t,end_t = twin(e_inc)\n",
    "        e_twin = None\n",
    "        #Encontrar el gemelo\n",
    "        for i in self.list_edge:\n",
    "            if (i.origin == start_t) and (i.queue == end_t):\n",
    "                e_twin =i\n",
    "                \n",
    "        print(e_twin.next)\n",
    "\n",
    "        a = orientacion(e_inc.origin,e_inc.next.origin,e_inc.next.queue)\n",
    "        if a == True:\n",
    "            Inter.interior = e_inc\n",
    "            self.cicle(e_inc,Inter)\n",
    "            exter.exterior = e_twin\n",
    "            self.cicle(e_twin,exter)\n",
    "            print('Las aristas que conformar dicho ciclo son frontera de cara interior')\n",
    "        else:\n",
    "            exter.exterior = e_inc\n",
    "            self.cicle(e_inc,exter)\n",
    "            Inter.interior = e_twin\n",
    "            self.cicle(e_twin,exter)\n",
    "            print('Las aristas que conformar dicho ciclo son frontera de cara exterior')\n",
    "            \n",
    "        self.list_face.append(Inter)\n",
    "        self.list_face.append(exter)\n",
    "\n",
    "    # A partir de los vertices vamos a generar la lista de caras y semi-aritas\n",
    "    def create_edge_face(self):\n",
    "        self.create_half_edge()\n",
    "        self.create_face()\n",
    "\n",
    "\n",
    "    "
   ]
  },
  {
   "attachments": {},
   "cell_type": "markdown",
   "metadata": {},
   "source": [
    "## Generar Vertice "
   ]
  },
  {
   "cell_type": "code",
   "execution_count": 195,
   "metadata": {},
   "outputs": [],
   "source": [
    "def general_vertex(P):\n",
    "    list_vertex = []\n",
    "    for i in range(len(P)):\n",
    "        name = \"V\"+str(i+1)\n",
    "        v = vertex(P[i][0],P[i][1], name)\n",
    "        list_vertex.append(v)\n",
    "    return list_vertex"
   ]
  },
  {
   "attachments": {},
   "cell_type": "markdown",
   "metadata": {},
   "source": [
    "## Prueba"
   ]
  },
  {
   "cell_type": "code",
   "execution_count": 196,
   "metadata": {},
   "outputs": [
    {
     "name": "stdout",
     "output_type": "stream",
     "text": [
      "Entro\n",
      "Entro2\n",
      "e1\n",
      "<__main__.half_edge object at 0x000002CC3EFC5310>\n",
      "P2 se hace un giro en sentido antihoraro de P1\n",
      "e1\n",
      "I\n",
      "e2\n",
      "e3\n",
      "e4\n",
      "te1\n",
      "E\n",
      "te4\n",
      "te3\n",
      "te2\n",
      "Las aristas que conformar dicho ciclo son frontera de cara interior\n"
     ]
    }
   ],
   "source": [
    "P  = [[0,1], [-1,0],[0,-1],[1,0]]\n",
    "lv = general_vertex(P) #genera los vertex en objetos\n",
    "LADE = DCEL(lv) #lista de aristas doblemente enlazadas\n",
    "LADE.create_edge_face()\n"
   ]
  },
  {
   "attachments": {},
   "cell_type": "markdown",
   "metadata": {},
   "source": [
    "# Lista veritice\n",
    "La lista de nodos contienen, inicialmente las coordenadas del punto (V), defino una semi- arista incidente.\n",
    "* The vertex record of a vertex v stores the coordinates of v in a field called\n",
    "Coordinates(v). It also stores a pointer IncidentEdge(v) to an arbitrary\n",
    "half-edge that has v as its origin."
   ]
  },
  {
   "cell_type": "code",
   "execution_count": 197,
   "metadata": {},
   "outputs": [
    {
     "name": "stdout",
     "output_type": "stream",
     "text": [
      "V1 e1 [0, 1]\n",
      "V2 e2 [-1, 0]\n",
      "V3 e3 [0, -1]\n",
      "V4 e4 [1, 0]\n"
     ]
    }
   ],
   "source": [
    "for i in range(len(LADE.list_vertex)):\n",
    "    print(LADE.list_vertex[i].name,LADE.list_vertex[i].edge_inci.name,[LADE.list_vertex[i].x,LADE.list_vertex[i].y])\n",
    "   "
   ]
  },
  {
   "attachments": {},
   "cell_type": "markdown",
   "metadata": {},
   "source": [
    "# Lista semi-aristas\n",
    "* The half-edge record of a half-edge e stores a pointer Origin(e) to its origin,\n",
    "a pointer Twin(e) to its twin half-edge, and a pointer IncidentFace(e) to\n",
    "the face that it bounds. We don’t need to store the destination of an edge,\n",
    "because it is equal to Origin(Twin(e)). The origin is chosen such that \n",
    "IncidentFace(e) lies to the left of e when it is traversed from origin to\n",
    "destination. The half-edge record also stores pointers Next(e) and Prev(e)\n",
    "to the next and previous edge on the boundary of IncidentFace(e). Thus\n",
    "Next(e) is the unique half-edge on the boundary of IncidentFace(e) that has\n",
    "the destination of e as its origin, and Prev(e) is the unique half-edge on the\n",
    "boundary of IncidentFace(e) that has Origin(e) as its destination. "
   ]
  },
  {
   "cell_type": "code",
   "execution_count": 198,
   "metadata": {},
   "outputs": [
    {
     "name": "stdout",
     "output_type": "stream",
     "text": [
      "V1 e1 e2 e4 I\n",
      "V2 e2 e3 e1 I\n",
      "V3 e3 e4 e2 I\n",
      "V4 e4 e1 e3 I\n",
      "V1 te4 te3 te1 E\n",
      "V4 te3 te2 te4 E\n",
      "V3 te2 te1 te3 E\n",
      "V2 te1 te4 te2 E\n"
     ]
    }
   ],
   "source": [
    "for i in range(len(LADE.list_edge)):\n",
    "    print(LADE.list_edge[i].origin.name,LADE.list_edge[i].name,LADE.list_edge[i].next.name,LADE.list_edge[i].prev.name,LADE.list_edge[i].face.name)\n",
    "    "
   ]
  },
  {
   "attachments": {},
   "cell_type": "markdown",
   "metadata": {},
   "source": [
    "# Lista Caras\n",
    "* The face record of a face f stores a pointer OuterComponent( f ) to some\n",
    "half-edge on its outer boundary. For the unbounded face this pointer is nil.\n",
    "It also stores a list InnerComponents( f ), which contains for each hole in\n",
    "the face a pointer to some half-edge on the boundary of the hole."
   ]
  },
  {
   "cell_type": "code",
   "execution_count": 199,
   "metadata": {},
   "outputs": [
    {
     "name": "stdout",
     "output_type": "stream",
     "text": [
      "I None e1\n",
      "E te1 None\n"
     ]
    }
   ],
   "source": [
    "\n",
    "print(LADE.list_face[0].name, 'None', LADE.list_face[0].interior.name)\n",
    "print(LADE.list_face[1].name, LADE.list_face[1].exterior.name, 'None')"
   ]
  },
  {
   "attachments": {},
   "cell_type": "markdown",
   "metadata": {},
   "source": [
    "# Tipos de vertices"
   ]
  }
 ],
 "metadata": {
  "kernelspec": {
   "display_name": "Python 3",
   "language": "python",
   "name": "python3"
  },
  "language_info": {
   "codemirror_mode": {
    "name": "ipython",
    "version": 3
   },
   "file_extension": ".py",
   "mimetype": "text/x-python",
   "name": "python",
   "nbconvert_exporter": "python",
   "pygments_lexer": "ipython3",
   "version": "3.11.1"
  },
  "orig_nbformat": 4
 },
 "nbformat": 4,
 "nbformat_minor": 2
}
