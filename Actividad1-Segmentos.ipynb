{
 "cells": [
  {
   "cell_type": "markdown",
   "id": "32351bec",
   "metadata": {},
   "source": [
    "# Librerías"
   ]
  },
  {
   "cell_type": "code",
   "execution_count": 1,
   "id": "d5084cce",
   "metadata": {},
   "outputs": [],
   "source": [
    "import matplotlib.pyplot as plt\n",
    "import numpy as np"
   ]
  },
  {
   "cell_type": "markdown",
   "id": "c1309206",
   "metadata": {},
   "source": [
    "# Pregunta 1\n",
    " Si tengo dos segmentos con un mismo origen. ¿Uno gira respecto del otro en sentido anti-horario o horario?"
   ]
  },
  {
   "cell_type": "code",
   "execution_count": 48,
   "id": "c2b4d3a8",
   "metadata": {},
   "outputs": [],
   "source": [
    "def pregunta1(P0,P1,P2):\n",
    "    \n",
    "    d = ((P1[0]-P0[0])*(P2[1]-P0[1]))-((P2[0]-P0[0])*(P1[1]-P0[1]))\n",
    "    if d>0:\n",
    "        print(\" P1 Esta girado en sentido horario respecto a P2\")\n",
    "    elif d == 0:\n",
    "        print(\" P1 Esta paralelo a P2\")\n",
    "    else:\n",
    "        print(\"P1 Esta girando en sentido antihorario respecto a P2\")\n",
    "    # Grafica\n",
    "    plt.plot(P0[0],P0[1],\"ro\") #Con origen en P0\n",
    "    # Punto P1 Graficar (p1-p0)\n",
    "    plt.annotate(\"\",xy = (P1[0],P1[1]), xytext = (P0[0],P0[1]), arrowprops = dict(arrowstyle = \"->\", color = \"blue\"))\n",
    "    plt.annotate(\"P1\",xy = (P1[0],P1[1]), xytext = (P1[0]+0.01,P1[1]))\n",
    "    #Punto P2 Graficar (p2-p0)\n",
    "    plt.annotate(\"\",xy = (P2[0],P2[1]), xytext = (P0[0],P0[1]), arrowprops = dict(arrowstyle = \"->\", color = \"green\"))\n",
    "    plt.annotate(\"P2\",xy = (P2[0],P2[1]), xytext = (P2[0]+0.01,P2[1]))\n",
    "    #Limites en X y Y\n",
    "    plt.ylim(min(0,P0[1],P1[1],P2[1])-0.1,max(0,P0[1],P1[1],P2[1])+0.25)\n",
    "    plt.xlim(min(0,P0[0],P1[0],P2[0])-0.1,max(0,P0[0],P1[0],P2[0])+0.25)\n",
    "    plt.show()\n",
    "        \n",
    "    "
   ]
  },
  {
   "cell_type": "code",
   "execution_count": 49,
   "id": "1f7ada99",
   "metadata": {},
   "outputs": [
    {
     "name": "stdout",
     "output_type": "stream",
     "text": [
      " P1 Esta girado en sentido horario respecto a P2\n"
     ]
    },
    {
     "data": {
      "image/png": "[encoded data removed]",
      "text/plain": [
       "<Figure size 432x288 with 1 Axes>"
      ]
     },
     "metadata": {
      "needs_background": "light"
     },
     "output_type": "display_data"
    }
   ],
   "source": [
    "P0 = [0,2]\n",
    "P1 = [3,4]\n",
    "P2 = [1,5]\n",
    "pregunta1(P0,P1,P2)"
   ]
  },
  {
   "cell_type": "markdown",
   "id": "c42cfbb6",
   "metadata": {},
   "source": [
    "### Definiremos la siguiente función como el producto cruz bidimensional.\n",
    "Esta Función nos ayudara más adelante a ver la orientación en los segmentos y poder realizar las siguientes preguntas."
   ]
  },
  {
   "cell_type": "code",
   "execution_count": 2,
   "id": "f32c2e00",
   "metadata": {},
   "outputs": [],
   "source": [
    "def Producto_Cruz(P0,P1,P2):\n",
    "    d = ((P1[0]-P0[0])*(P2[1]-P0[1]))-((P2[0]-P0[0])*(P1[1]-P0[1]))\n",
    "    return d"
   ]
  },
  {
   "cell_type": "markdown",
   "id": "31a06fd8",
   "metadata": {},
   "source": [
    "# Pregunta 2\n",
    "\n",
    "¿El segmento P1P2 esta girado en sentido horario respecto a P0P1?, es decir que ¿Al avanzar desde P0 a P2, gira a la izquierda o a la derecha de p1?\n"
   ]
  },
  {
   "cell_type": "code",
   "execution_count": 53,
   "id": "5b09172e",
   "metadata": {},
   "outputs": [],
   "source": [
    "def pregunta2(P0,P1,P2):\n",
    "    d = Producto_Cruz(P0,P1,P2)\n",
    "    if d>0:\n",
    "        print(\"P2 se hace un giro en sentido antihoraro de P1\")\n",
    "    elif d==0:\n",
    "        print(\"P2 sigue sin girar\")\n",
    "    else:\n",
    "        print(\"P2 esta girando en sentido horario de P1\")\n",
    "    # Grafica\n",
    "    plt.plot(P0[0],P0[1],\"ro\") #Con origen en P0\n",
    "    # Punto P1 Graficar (p1-p0)\n",
    "    plt.annotate(\"\",xy = (P1[0],P1[1]), xytext = (P0[0],P0[1]), arrowprops = dict(arrowstyle = \"->\", color = \"blue\"))\n",
    "    plt.annotate(\"P1\",xy = (P1[0],P1[1]), xytext = (P1[0]+0.01,P1[1]))\n",
    "    #Punto P2 Graficar (p2-p0)\n",
    "    plt.annotate(\"\",xy = (P2[0],P2[1]), xytext = (P1[0],P1[1]), arrowprops = dict(arrowstyle = \"->\", color = \"green\"))\n",
    "    plt.annotate(\"P2\",xy = (P2[0],P2[1]), xytext = (P2[0]+0.01,P2[1]))\n",
    "    #Limites en X y Y\n",
    "    plt.ylim(min(P0[1],P1[1],P2[1])-0.1,max(P0[1],P1[1],P2[1])+0.25)\n",
    "    plt.xlim(min(P0[0],P1[0],P2[0])-0.1,max(P0[0],P1[0],P2[0])+0.25)\n",
    "    plt.show()\n",
    "    "
   ]
  },
  {
   "cell_type": "code",
   "execution_count": 54,
   "id": "7c4394de",
   "metadata": {},
   "outputs": [
    {
     "name": "stdout",
     "output_type": "stream",
     "text": [
      "P2 se hace un giro en sentido antihoraro de P1\n"
     ]
    },
    {
     "data": {
      "image/png": "[encoded data removed]",
      "text/plain": [
       "<Figure size 432x288 with 1 Axes>"
      ]
     },
     "metadata": {
      "needs_background": "light"
     },
     "output_type": "display_data"
    }
   ],
   "source": [
    "P0 = [1,1]\n",
    "P1 = [2,1]\n",
    "P2 = [3,2]\n",
    "pregunta2(P0,P1,P2)"
   ]
  },
  {
   "cell_type": "markdown",
   "id": "4b777b6e",
   "metadata": {},
   "source": [
    "# Pregunta 3\n",
    "Dados dos segmentes evaluar si se cruzan o no?"
   ]
  },
  {
   "cell_type": "code",
   "execution_count": 14,
   "id": "ac9a5bb9",
   "metadata": {},
   "outputs": [],
   "source": [
    "def puntos_corte(P1,P2,P3,P4):\n",
    "    # Entra c el cual es un booleano que nos dice si se cruzaron los segmentos o no se cruzaron\n",
    "    #Entra d que es el determinante \n",
    "    Pc = [] #Lista vacia, donde vamos a agregar los puntos donde se cruzan.  \n",
    "    beta = 0 #Parametro 1\n",
    "    Alpha = 0 #Parametro 2\n",
    "    det1 = (P3[0]-P4[0])*(P2[1]-P1[1]) \n",
    "    det2 = (P2[0]-P1[0])*(P3[1]-P4[1])\n",
    "    if det1 != det2:\n",
    "        beta = (1/(det1-det2))*(((P2[1]-P1[1])*(P2[0]-P4[0]))+((P1[0]-P2[0])*(P2[1]-P4[1])))\n",
    "        alpha = (1/(det1-det2))*(((P4[1]-P3[1])*(P2[0]-P4[0]))+((P3[0]-P4[0])*(P2[1]-P4[1])))\n",
    "        Pc1 = alpha*P1[0]+(1-alpha)*P2[0]\n",
    "        Pc2 = beta*P1[1]+(1-beta)*P2[1]\n",
    "        Pc = [Pc1,Pc2]\n",
    "        print(Pc1)\n",
    "    else:\n",
    "        print(\"Son segmentos paralelos no tendrían puntos de corte\")\n",
    "    \n",
    "    return Pc\n",
    "    \n",
    "    "
   ]
  },
  {
   "cell_type": "code",
   "execution_count": 15,
   "id": "fa1479b6",
   "metadata": {},
   "outputs": [],
   "source": [
    "def pregunta3(P1,P2,P3, P4):\n",
    "    # Recordatorio dk hace referencia a que el pk es el origen que va para pi y pj\n",
    "    d1 = Producto_Cruz(P1,P4,P3)\n",
    "    d2 = Producto_Cruz(P2,P4,P3)\n",
    "    d3 = Producto_Cruz(P3,P2,P1)\n",
    "    d4 = Producto_Cruz(P4,P2,P1)\n",
    "    # Asignar una variable True o False para ver si se cruzan o no.\n",
    "    c = False\n",
    "    \n",
    "    # Condiciones para saber si se cruzan o no los segmentos\n",
    "    if (d1*d2)<0 and (d4*d3)<0:\n",
    "        c = True\n",
    "        print(\"Los dos segmentos SE CRUZAN\")\n",
    "    elif (d1*d2)>0 and (d3*d4)>0:\n",
    "        c = False\n",
    "        print(\"Los dos segmentos NO SE CRUZAN\")\n",
    "    elif (d1*d2)<=0 and d4==0:\n",
    "        if (min(P1[0],P2[0])<=P4[0]<=max(P1[0],P2[0]))and (min(P1[1],P2[1])<=P4[1]<=max(P1[1],P2[1])):\n",
    "            c = True\n",
    "            print(\"Los dos segmentos SE CRUZAN\")\n",
    "        else:\n",
    "            c = False\n",
    "            print(\"Los dos segmentos NO SE CRUZAN\")\n",
    "    elif (d1*d2)<=0 and d3==0:\n",
    "        if (min(P1[0],P2[0])<=P3[0]<=max(P1[0],P2[0]))and (min(P1[1],P2[1])<=P3[1]<=max(P1[1],P2[1])):\n",
    "            c = True\n",
    "            print(\"Los dos segmentos SE CRUZAN\")\n",
    "        else:\n",
    "            c = False\n",
    "            print(\"Los dos segmentos NO SE CRUZAN\")\n",
    "    elif (d4*d3)<=0 and d2==0:\n",
    "        if (min(P3[0],P4[0])<=P2[0]<=max(P4[0],P3[0]))and (min(P4[1],P3[1])<=P2[1]<=max(P4[1],P3[1])):\n",
    "            c = True\n",
    "            print(\"Los dos segmentos SE CRUZAN\")\n",
    "        else:\n",
    "            c = False\n",
    "            print(\"Los dos segmentos NO SE CRUZAN\")\n",
    "    elif (d4*d3)<=0 and d1==0:\n",
    "        if (min(P3[0],P4[0])<=P1[0]<=max(P3[0],P4[0]))and (min(P3[1],P4[1])<=P2[1]<=max(P3[1],P4[1])):\n",
    "            c = True\n",
    "            print(\"Los dos segmentos SE CRUZAN\")\n",
    "        else:\n",
    "            c = False\n",
    "            print(\"Los dos segmentos NO SE CRUZAN\")\n",
    "    \n",
    "    elif (d1*d2)>0 and d4==0:\n",
    "        c = False\n",
    "        print(\"Los dos segmentos NO SE CRUZAN\")\n",
    "    elif (d3*d4)>0:\n",
    "        c = False\n",
    "        print(\"Los dos segmentos NO SE CRUZAN\")\n",
    "    else:\n",
    "        print(\"No esta el caso\")\n",
    "    \n",
    "    #Evalua puntos de corte\n",
    "    if c == True:\n",
    "        Pc = puntos_corte(P1,P2,P3,P4)\n",
    "        print(Pc)\n",
    "    else:\n",
    "        Pc = 0\n",
    "        \n",
    "    # Graficar los segmentos\n",
    "    P1x,P1y = [P1[0],P2[0]],[P1[1],P2[1]] \n",
    "    P2x,P2y = [P3[0],P4[0]],[P3[1],P4[1]] \n",
    "    \n",
    "    plt.clf()\n",
    "    plt.plot(P1[0],P1[1],\"ro\")\n",
    "    plt.plot(P2[0],P2[1],\"ro\")\n",
    "    plt.plot(P3[0],P3[1],\"ro\")\n",
    "    plt.plot(P4[0],P4[1],\"ro\")\n",
    "    plt.plot(P1x,P1y)\n",
    "    plt.plot(P2x,P2y)\n",
    "    plt.annotate(\"P1\", (P1[0],P1[1]),(P1[0] + 0.01, P1[1]))\n",
    "    plt.annotate(\"P2\", (P2[0],P2[1]),(P2[0] + 0.01, P2[1]))\n",
    "    plt.annotate(\"P3\", (P3[0],P3[1]),(P3[0] + 0.01, P3[1]))\n",
    "    plt.annotate(\"P4\", (P4[0],P4[1]),(P4[0] + 0.01, P4[1]))\n",
    "    plt.show()\n",
    "        \n",
    "        "
   ]
  },
  {
   "cell_type": "code",
   "execution_count": 16,
   "id": "c3c43a92",
   "metadata": {},
   "outputs": [
    {
     "name": "stdout",
     "output_type": "stream",
     "text": [
      "Los dos segmentos SE CRUZAN\n",
      "2.5\n",
      "[2.5, 2.5]\n"
     ]
    },
    {
     "data": {
      "image/png": "[encoded data removed]",
      "text/plain": [
       "<Figure size 640x480 with 1 Axes>"
      ]
     },
     "metadata": {},
     "output_type": "display_data"
    }
   ],
   "source": [
    "P1=[1,1] \n",
    "P2=[4,4]\n",
    "P3=[2,3]\n",
    "P4=[3,2]\n",
    "pregunta3(P1,P2,P3,P4)"
   ]
  }
 ],
 "metadata": {
  "kernelspec": {
   "display_name": "Python 3",
   "language": "python",
   "name": "python3"
  },
  "language_info": {
   "codemirror_mode": {
    "name": "ipython",
    "version": 3
   },
   "file_extension": ".py",
   "mimetype": "text/x-python",
   "name": "python",
   "nbconvert_exporter": "python",
   "pygments_lexer": "ipython3",
   "version": "3.11.1"
  },
  "vscode": {
   "interpreter": {
    "hash": "28f17846d8da952c5c0ba0b6a7ac0a83f6cc7ba932a9e1ecc57983e8f99a4182"
   }
  }
 },
 "nbformat": 4,
 "nbformat_minor": 5
}
