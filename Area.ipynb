{
 "cells": [
  {
   "cell_type": "code",
   "execution_count": 41,
   "metadata": {},
   "outputs": [],
   "source": [
    "# Librerias\n",
    "import numpy as np\n",
    "import matplotlib.pyplot as plt\n",
    "import sympy as sp"
   ]
  },
  {
   "attachments": {},
   "cell_type": "markdown",
   "metadata": {},
   "source": [
    "# The First Fundamental Form; Area\n",
    "\n",
    "### Example 4\n",
    "We shall compute the first fundamental form of a sphere at a point of the coordinate neighborhood given by the parametrization.\n",
    "\n",
    "$$X(\\theta,\\phi) = (sin(\\theta)cos(\\phi),sin(\\theta)sin(\\phi), cos(\\theta))$$"
   ]
  },
  {
   "cell_type": "code",
   "execution_count": 42,
   "metadata": {},
   "outputs": [
    {
     "data": {
      "image/png": "[encoded data removed]",
      "text/plain": [
       "<Figure size 300x500 with 1 Axes>"
      ]
     },
     "metadata": {},
     "output_type": "display_data"
    }
   ],
   "source": [
    "## Demostrar theta y ph\n",
    "thetad = np.linspace(0,np.pi)\n",
    "phid = 2*np.pi*np.ones(len(thetad))\n",
    "\n",
    "theta0 = np.pi/4\n",
    "phi0 = np.pi/4\n",
    "\n",
    "plt.figure(figsize=(3,5))\n",
    "plt.fill_between(thetad, phid, color='g', alpha=0.3)\n",
    "plt.quiver(np.pi/4, np.pi/4, 1,0,scale=5,color='red')\n",
    "plt.quiver(np.pi/4,np.pi/4,0,1,scale=5,color='red')\n",
    "plt.xticks([0,np.pi/4,np.pi/2, 3*np.pi/4, np.pi],\n",
    "           [0,r'$\\frac{\\pi}{4}$', r'$\\frac{\\pi}{2}$', r'$\\frac{3\\pi}{4}$', r'$\\pi$'])\n",
    "plt.yticks([0,np.pi/4,np.pi/2, np.pi, 3*np.pi/2, 2*np.pi],\n",
    "           [0,r'$\\frac{\\pi}{4}$', r'$\\frac{\\pi}{2}$', r'$\\pi$', r'$\\frac{3\\pi}{2}$', r'$2\\pi$'])\n",
    "plt.scatter(theta0,phi0)\n",
    "plt.xlabel(r'$\\theta$')\n",
    "plt.ylabel(r'$\\phi$')\n",
    "plt.show()"
   ]
  },
  {
   "cell_type": "code",
   "execution_count": 43,
   "metadata": {},
   "outputs": [],
   "source": [
    "# Defino como variables que van a obtener datos\n",
    "theta,phi = sp.symbols('theta, phi', reals = True, positive = True)"
   ]
  },
  {
   "attachments": {},
   "cell_type": "markdown",
   "metadata": {},
   "source": [
    "Aca definimos la parametricación anterior:\n",
    "$$X(\\theta,\\phi) = (sin(\\theta)cos(\\phi),sin(\\theta)sin(\\phi), cos(\\theta))$$"
   ]
  },
  {
   "cell_type": "code",
   "execution_count": 44,
   "metadata": {},
   "outputs": [
    {
     "name": "stdout",
     "output_type": "stream",
     "text": [
      "X(\\theta,\\phi) = (sin(theta)*cos(phi), sin(phi)*sin(theta), cos(theta))\n"
     ]
    }
   ],
   "source": [
    "x = sp.sin(theta)*sp.cos(phi)\n",
    "y = sp.sin(theta)*sp.sin(phi)\n",
    "z = sp.cos(theta)\n",
    "X = (x,y,z)\n",
    "print(r\"X(\\theta,\\phi) =\", X)"
   ]
  },
  {
   "attachments": {},
   "cell_type": "markdown",
   "metadata": {},
   "source": [
    "Se va a Contruir el mapeo dferencial $d\\vec{X}_p()$, donde tomamos la derivadas con respecto a $\\theta$ y respeto $\\phi$ despues de hacer una tranformación con la base:\n",
    "* $X_{\\theta}(\\theta,\\phi) = (cos(\\theta)cos(\\phi),cos(\\theta)sin(\\phi), -sin(\\theta)) $\n",
    "* $X_{\\phi}(\\theta,\\phi) = (-sin(\\theta)sin(\\phi),sin(\\theta)cos(\\phi), 0) $"
   ]
  },
  {
   "cell_type": "code",
   "execution_count": 45,
   "metadata": {},
   "outputs": [
    {
     "name": "stdout",
     "output_type": "stream",
     "text": [
      "dX = [[cos(phi)*cos(theta), -sin(phi)*sin(theta)], [sin(phi)*cos(theta), sin(theta)*cos(phi)], [-sin(theta), 0]]\n"
     ]
    }
   ],
   "source": [
    "# Se Contriye el mapeo\n",
    "dX = [[sp.diff(x,theta), sp.diff(x,phi)], [sp.diff(y,theta), sp.diff(y,phi)],[sp.diff(z,theta), sp.diff(z,phi)]]\n",
    "print('dX =', dX)"
   ]
  },
  {
   "cell_type": "code",
   "execution_count": 46,
   "metadata": {},
   "outputs": [
    {
     "name": "stdout",
     "output_type": "stream",
     "text": [
      "dX/d\\theta [cos(phi)*cos(theta) sin(phi)*cos(theta) -sin(theta)]\n"
     ]
    }
   ],
   "source": [
    "# Aplicamos transformación a los elemento de la Base\n",
    "dx_theta = np.matmul(dX, [1,0])\n",
    "print(r\"dX/d\\theta\", dx_theta)"
   ]
  },
  {
   "cell_type": "code",
   "execution_count": 47,
   "metadata": {},
   "outputs": [
    {
     "name": "stdout",
     "output_type": "stream",
     "text": [
      "dX/d\\phi [-sin(phi)*sin(theta) sin(theta)*cos(phi) 0]\n"
     ]
    }
   ],
   "source": [
    "# Aplicamos transformación a los elemento de la Base\n",
    "dx_phi = np.matmul(dX, [0,1])\n",
    "print(r\"dX/d\\phi\", dx_phi)"
   ]
  },
  {
   "attachments": {},
   "cell_type": "markdown",
   "metadata": {},
   "source": [
    "Ahora, verificamos que \n",
    "\n",
    "$$d\\vec{X}_p(e_1) = \\frac{d\\vec{X}}{d\\theta} = \\vec{X}_\\theta$$\n",
    "\n",
    "y\n",
    "\n",
    "$$d\\vec{X}_p(e_2) = \\frac{d\\vec{X}}{d\\phi} = \\vec{X}_\\phi$$"
   ]
  },
  {
   "cell_type": "code",
   "execution_count": 48,
   "metadata": {},
   "outputs": [
    {
     "name": "stdout",
     "output_type": "stream",
     "text": [
      "[cos(phi)*cos(theta) sin(phi)*cos(theta) -sin(theta)]\n"
     ]
    },
    {
     "data": {
      "text/plain": [
       "array([0, 0, 0], dtype=object)"
      ]
     },
     "execution_count": 48,
     "metadata": {},
     "output_type": "execute_result"
    }
   ],
   "source": [
    "## Para theta\n",
    "print(dx_theta)\n",
    "[sp.diff(x,theta), sp.diff(y, theta), sp.diff(z,theta)]\n",
    "dx_theta - [sp.diff(x,theta), sp.diff(y, theta), sp.diff(z,theta)]"
   ]
  },
  {
   "cell_type": "code",
   "execution_count": 49,
   "metadata": {},
   "outputs": [
    {
     "name": "stdout",
     "output_type": "stream",
     "text": [
      "[-sin(phi)*sin(theta) sin(theta)*cos(phi) 0]\n"
     ]
    },
    {
     "data": {
      "text/plain": [
       "array([0, 0, 0], dtype=object)"
      ]
     },
     "execution_count": 49,
     "metadata": {},
     "output_type": "execute_result"
    }
   ],
   "source": [
    "## Para phi \n",
    "print(dx_phi)\n",
    "[sp.diff(x,phi), sp.diff(y, phi), sp.diff(z,phi)]\n",
    "dx_phi - [sp.diff(x,phi), sp.diff(y, phi), sp.diff(z,phi)]"
   ]
  },
  {
   "attachments": {},
   "cell_type": "markdown",
   "metadata": {},
   "source": [
    "Ahora examinamos el mapeo sobre un punto particular $p=\\left(\\frac{\\pi}{2}, 0\\right)$\n",
    "* $\\vec{X}_p$"
   ]
  },
  {
   "cell_type": "code",
   "execution_count": 50,
   "metadata": {},
   "outputs": [
    {
     "data": {
      "text/plain": [
       "(1.00000000000000, 0, 0.0)"
      ]
     },
     "execution_count": 50,
     "metadata": {},
     "output_type": "execute_result"
    }
   ],
   "source": [
    "(X[0].subs(theta, np.pi/2).subs(phi,0).round(2),X[1].subs(theta, np.pi/2).subs(phi,0).round(2),X[2].subs(theta, np.pi/2).subs(phi,0).round(2))"
   ]
  },
  {
   "attachments": {},
   "cell_type": "markdown",
   "metadata": {},
   "source": [
    "* $\\vec{X}_\\theta(p)$"
   ]
  },
  {
   "cell_type": "code",
   "execution_count": 51,
   "metadata": {},
   "outputs": [
    {
     "data": {
      "text/plain": [
       "(0.0, 0, -1.00000000000000)"
      ]
     },
     "execution_count": 51,
     "metadata": {},
     "output_type": "execute_result"
    }
   ],
   "source": [
    "(dx_theta[0].subs(theta, np.pi/2).subs(phi,0).round(2),dx_theta[1].subs(theta, np.pi/2).subs(phi,0).round(2),dx_theta[2].subs(theta, np.pi/2).subs(phi,0).round(2))"
   ]
  },
  {
   "attachments": {},
   "cell_type": "markdown",
   "metadata": {},
   "source": [
    "* $\\vec{X}_\\phi$"
   ]
  },
  {
   "cell_type": "code",
   "execution_count": 52,
   "metadata": {},
   "outputs": [
    {
     "data": {
      "text/plain": [
       "(0, 1.00000000000000, 0)"
      ]
     },
     "execution_count": 52,
     "metadata": {},
     "output_type": "execute_result"
    }
   ],
   "source": [
    "(dx_phi[0].subs(theta, np.pi/2).subs(phi,0).round(2),dx_phi[1].subs(theta, np.pi/2).subs(phi,0).round(2),dx_phi[2].subs(theta, np.pi/2).subs(phi,0).round(2))"
   ]
  },
  {
   "attachments": {},
   "cell_type": "markdown",
   "metadata": {},
   "source": [
    "Verfico que $\\{\\vec{X}_\\theta, \\vec{X}_\\phi\\}$ es una base ortogonal"
   ]
  },
  {
   "cell_type": "code",
   "execution_count": 53,
   "metadata": {},
   "outputs": [
    {
     "data": {
      "text/latex": [
       "$\\displaystyle 0$"
      ],
      "text/plain": [
       "0"
      ]
     },
     "execution_count": 53,
     "metadata": {},
     "output_type": "execute_result"
    }
   ],
   "source": [
    "np.dot(dx_theta, dx_phi)"
   ]
  },
  {
   "attachments": {},
   "cell_type": "markdown",
   "metadata": {},
   "source": [
    "##### Vemos la base del plano tangente"
   ]
  },
  {
   "cell_type": "code",
   "execution_count": 54,
   "metadata": {},
   "outputs": [
    {
     "name": "stdout",
     "output_type": "stream",
     "text": [
      "$dX_\\theta_0$ =  (0.500000000000000, 0.500000000000000, -0.707106781186547)\n",
      "$dX_\\phi_0$ =  (-0.500000000000000, 0.500000000000000, 0)\n"
     ]
    }
   ],
   "source": [
    "theta0 = np.pi/4\n",
    "phi0 = np.pi/4\n",
    "dx_theta0 = (dx_theta[0].subs(theta,theta0).subs(phi,phi0), dx_theta[1].subs(theta,theta0).subs(phi,phi0), dx_theta[2].subs(theta,theta0).subs(phi,phi0))\n",
    "dx_phi0 = (dx_phi[0].subs(theta,theta0).subs(phi,phi0), dx_phi[1].subs(theta,theta0).subs(phi,phi0), dx_phi[2].subs(theta,theta0).subs(phi,phi0))\n",
    "\n",
    "print(r'$dX_\\theta_0$ = ', dx_theta0)\n",
    "print(r'$dX_\\phi_0$ = ', dx_phi0)"
   ]
  },
  {
   "attachments": {},
   "cell_type": "markdown",
   "metadata": {},
   "source": [
    "GRaficamos la superficie y la imagen de un punto con la imagen de sus vectores tangentes"
   ]
  },
  {
   "cell_type": "code",
   "execution_count": 55,
   "metadata": {},
   "outputs": [
    {
     "data": {
      "image/png": "[encoded data removed]",
      "text/plain": [
       "<Figure size 640x480 with 1 Axes>"
      ]
     },
     "metadata": {},
     "output_type": "display_data"
    }
   ],
   "source": [
    "def sphere(r):\n",
    "  u = np.linspace(0,2*np.pi, 200)\n",
    "  v = np.linspace(0,np.pi,200)\n",
    "  d = r*np.outer(np.cos(u), np.sin(v))\n",
    "  e = r*np.outer(np.sin(u), np.sin(v))\n",
    "  g = r*np.outer(np.ones(np.size(u)), np.cos(v))\n",
    "  return d,e,g\n",
    "\n",
    "fig = plt.figure()\n",
    "ax = fig.add_subplot(111,projection='3d')\n",
    "plt.xticks([-1,-0.5,0,0.5,1])\n",
    "plt.yticks([-1,-0.5,0,0.5,1])\n",
    "ax.set_xlabel('x')\n",
    "ax.set_ylabel('y')\n",
    "ax.set_zticks([-1,-0.5,0,0.5,1])\n",
    "d,e,g = sphere(1)\n",
    "ax.plot_surface(d,e,g,color=(1,0.8,0,0.1))\n",
    "ax.scatter(sp.sin(theta0)*sp.cos(phi0), sp.sin(theta0)*sp.sin(phi0), sp.cos(theta0))\n",
    "ax.view_init(elev=10, azim=75)\n",
    "ax.quiver(sp.sin(theta0)*sp.cos(phi0), sp.sin(theta0)*sp.sin(phi0), sp.cos(theta0), dx_theta0[0], dx_theta0[1], dx_theta0[2], color=(1,0,0,1))\n",
    "ax.quiver(sp.sin(theta0)*sp.cos(phi0), sp.sin(theta0)*sp.sin(phi0), sp.cos(theta0), dx_phi0[0], dx_phi0[1], dx_phi0[2], color=(1,0,0,1))\n",
    "plt.show()"
   ]
  },
  {
   "attachments": {},
   "cell_type": "markdown",
   "metadata": {},
   "source": [
    "## Graficamos juntas"
   ]
  },
  {
   "cell_type": "code",
   "execution_count": 56,
   "metadata": {},
   "outputs": [
    {
     "data": {
      "image/png": "[encoded data removed]",
      "text/plain": [
       "<Figure size 1000x500 with 2 Axes>"
      ]
     },
     "metadata": {},
     "output_type": "display_data"
    }
   ],
   "source": [
    "theta0 = np.pi/2\n",
    "phi0 = 0\n",
    "\n",
    "dx_theta0 = (dx_theta[0].subs(theta,theta0).subs(phi,phi0), dx_theta[1].subs(theta,theta0).subs(phi,phi0), dx_theta[2].subs(theta,theta0).subs(phi,phi0))\n",
    "dx_phi0 = (dx_phi[0].subs(theta,theta0).subs(phi,phi0), dx_phi[1].subs(theta,theta0).subs(phi,phi0), dx_phi[2].subs(theta,theta0).subs(phi,phi0))\n",
    "\n",
    "fig = plt.figure(figsize=(10,5))\n",
    "\n",
    "ax = fig.add_subplot(121)\n",
    "plt.fill_between(thetad, phid, color='g', alpha=0.3)\n",
    "plt.quiver(theta0, phi0, 1,0,scale=5,color='red')\n",
    "plt.quiver(theta0,phi0,0,1,scale=5,color='red')\n",
    "plt.xticks([0,np.pi/4,np.pi/2, 3*np.pi/4, np.pi],\n",
    "           [0,r'$\\frac{\\pi}{4}$', r'$\\frac{\\pi}{2}$', r'$\\frac{3\\pi}{4}$', r'$\\pi$'])\n",
    "plt.yticks([0,np.pi/4,np.pi/2, np.pi, 3*np.pi/2, 2*np.pi],\n",
    "           [0,r'$\\frac{\\pi}{4}$', r'$\\frac{\\pi}{2}$', r'$\\pi$', r'$\\frac{3\\pi}{2}$', r'$2\\pi$'])\n",
    "plt.scatter(theta0,phi0)\n",
    "plt.xlabel(r'$\\theta$')\n",
    "plt.ylabel(r'$\\phi$')\n",
    "\n",
    "ax = fig.add_subplot(122,projection='3d')\n",
    "plt.xticks([-1,-0.5,0,0.5,1])\n",
    "plt.yticks([-1,-0.5,0,0.5,1])\n",
    "ax.set_xlabel('x')\n",
    "ax.set_ylabel('y')\n",
    "ax.set_zticks([-1,-0.5,0,0.5,1])\n",
    "d,e,g = sphere(1)\n",
    "ax.plot_surface(d,e,g,color=(1,0.8,0,0.1))\n",
    "ax.scatter(sp.sin(theta0)*sp.cos(phi0), sp.sin(theta0)*sp.sin(phi0), sp.cos(theta0))\n",
    "ax.view_init(elev=10, azim=75)\n",
    "ax.quiver(sp.sin(theta0)*sp.cos(phi0), sp.sin(theta0)*sp.sin(phi0), sp.cos(theta0), dx_theta0[0], dx_theta0[1], dx_theta0[2], color=(1,0,0,1))\n",
    "ax.quiver(sp.sin(theta0)*sp.cos(phi0), sp.sin(theta0)*sp.sin(phi0), sp.cos(theta0), dx_phi0[0], dx_phi0[1], dx_phi0[2], color=(1,0,0,1))\n",
    "plt.show()"
   ]
  },
  {
   "attachments": {},
   "cell_type": "markdown",
   "metadata": {},
   "source": [
    "Obtenemos los coeficientes de la primera forma fundamental: \n",
    "$$E(\\theta,\\phi) = < X_{\\theta}, X_{\\theta} > = 1$$\n",
    "$$F(\\theta,\\phi) = < X_{\\theta}, X_{\\phi} > = 0$$\n",
    "$$G(\\theta,\\phi) = < X_{\\phi}, X_{\\phi} > = sin^{2}\\theta$$"
   ]
  },
  {
   "cell_type": "code",
   "execution_count": 57,
   "metadata": {},
   "outputs": [
    {
     "name": "stdout",
     "output_type": "stream",
     "text": [
      "1\n"
     ]
    }
   ],
   "source": [
    "E = np.dot(dx_theta, dx_theta).simplify()\n",
    "print(E)"
   ]
  },
  {
   "cell_type": "code",
   "execution_count": 58,
   "metadata": {},
   "outputs": [
    {
     "name": "stdout",
     "output_type": "stream",
     "text": [
      "0\n"
     ]
    }
   ],
   "source": [
    "F = np.dot(dx_theta, dx_phi).simplify()\n",
    "print(F)"
   ]
  },
  {
   "cell_type": "code",
   "execution_count": 59,
   "metadata": {},
   "outputs": [
    {
     "name": "stdout",
     "output_type": "stream",
     "text": [
      "sin(theta)**2\n"
     ]
    }
   ],
   "source": [
    "G = np.dot(dx_phi, dx_phi).simplify()\n",
    "print(G)"
   ]
  },
  {
   "attachments": {},
   "cell_type": "markdown",
   "metadata": {},
   "source": [
    "Funcion de area\n",
    "\n",
    "$$dA = \\sqrt{EG-F^2}$$"
   ]
  },
  {
   "cell_type": "code",
   "execution_count": 60,
   "metadata": {},
   "outputs": [
    {
     "data": {
      "text/latex": [
       "$\\displaystyle \\left|{\\sin{\\left(\\theta \\right)}}\\right|$"
      ],
      "text/plain": [
       "Abs(sin(theta))"
      ]
     },
     "execution_count": 60,
     "metadata": {},
     "output_type": "execute_result"
    }
   ],
   "source": [
    "dA = sp.sqrt(E*G-F**2)\n",
    "dA"
   ]
  },
  {
   "attachments": {},
   "cell_type": "markdown",
   "metadata": {},
   "source": [
    "Area de la esfera\n",
    "\n",
    "$$A(S^2) = \\iint_u \\sqrt{EG-F^2}d\\phi d\\theta = \\int_0^\\pi \\int_0^{2\\pi} sin\\theta d\\phi d\\theta$$"
   ]
  },
  {
   "cell_type": "code",
   "execution_count": 61,
   "metadata": {},
   "outputs": [
    {
     "data": {
      "text/latex": [
       "$\\displaystyle 4 \\pi$"
      ],
      "text/plain": [
       "4*pi"
      ]
     },
     "execution_count": 61,
     "metadata": {},
     "output_type": "execute_result"
    }
   ],
   "source": [
    "sp.integrate(dA, (theta,0,sp.pi), (phi,0,2*sp.pi))"
   ]
  },
  {
   "attachments": {},
   "cell_type": "markdown",
   "metadata": {},
   "source": [
    "Longitud de arco\n",
    "\n",
    "$$S = \\int_{t_0}^{t_f} \\sqrt{E(\\theta')^2 + 2F(\\theta'\\phi') + G(\\phi')^2} dt = \\int_{t_0}^{t_f} \\sqrt{(\\theta')^2 + sin^2\\theta(\\phi')^2} dt$$\n",
    "\n",
    "Inicialmente en el ecuador\n",
    "\n",
    "$$\\theta = \\frac{\\pi}{2},\\ 0<\\phi<2\\pi$$\n",
    "\n",
    "$$S = \\int_{t_0}^{t_f} \\sqrt{E(\\theta')^2 + 2F(\\theta'\\phi') + G(\\phi')^2} dt = \\int_{t_0}^{t_f} \\sqrt{G(\\phi')^2} dt = \\int_{\\phi_0}^{\\phi_f} \\sqrt{G} d\\phi = \\int_0^{2\\pi} sin\\left(\\frac{\\pi}{2}\\right) d\\phi = 2\\pi$$"
   ]
  },
  {
   "cell_type": "code",
   "execution_count": 62,
   "metadata": {},
   "outputs": [
    {
     "data": {
      "text/latex": [
       "$\\displaystyle 2.0 \\pi$"
      ],
      "text/plain": [
       "2.0*pi"
      ]
     },
     "execution_count": 62,
     "metadata": {},
     "output_type": "execute_result"
    }
   ],
   "source": [
    "th = np.pi/2\n",
    "phis = sp.symbols('phis')\n",
    "ad = sp.sqrt(E*(sp.diff(th))**2 + 2*F*sp.diff(th)*sp.diff(phis) + G.subs(theta,th))\n",
    "sp.integrate(ad, (phi,0,2*sp.pi))\n"
   ]
  },
  {
   "attachments": {},
   "cell_type": "markdown",
   "metadata": {},
   "source": [
    "## Curves of Loxodromes\n",
    "\n",
    "let us determine the curves in this coordinate neighborhood\n",
    "of the sphere which make a constant angle β with the meridians\n",
    "ϕ = const. These curves are called loxodromes (rhumb lines) of the sphere.\n",
    "\n",
    "At the point x(θ, ϕ) where the curve meets the\n",
    "meridian ϕ = const., we have\n",
    "\n",
    "$$\\alpha'(t) = \\vec{X}_{\\theta}\\theta' + \\vec{X}_{\\phi}\\phi' $$\n",
    "\n",
    "$$cos(\\beta) = \\frac{<x_{\\theta}, \\alpha'(t)>}{|x_{\\theta}||\\alpha'(t)|} = \\frac{\\theta'}{\\sqrt{(\\theta')^{2}+(\\phi')^{2}sin^{2}\\theta} }$$\n",
    "\n",
    "obteniendo,\n",
    "\n",
    "$$\\frac{\\theta'}{sin\\theta} = \\frac{\\phi'}{tan\\beta}$$\n",
    "\n",
    "Al integrar obenemos:\n",
    "$$log( tan (\\frac{\\theta}{2}) )= (\\phi+c)cota\\beta$$\n",
    "\n",
    "Se puede ver el problema en como hallar la curva que hace un angulo $\\beta$ con los meridianos y pase por $\\theta_{0}$,$\\phi_{0}$\n",
    " $$c = log( tan (\\frac{\\theta}{2}) ) tan\\beta - \\phi$$\n",
    "\n",
    " ### Solución Analitica\n"
   ]
  },
  {
   "cell_type": "code",
   "execution_count": 63,
   "metadata": {},
   "outputs": [],
   "source": [
    "x = sp.symbols('x')\n",
    "f = sp.Function('f')"
   ]
  },
  {
   "attachments": {},
   "cell_type": "markdown",
   "metadata": {},
   "source": [
    "Se quiere intentar integrar:\n",
    "$$\\int \\frac{f'(x)}{sin(f(x))}$$ "
   ]
  },
  {
   "cell_type": "code",
   "execution_count": 64,
   "metadata": {},
   "outputs": [
    {
     "name": "stdout",
     "output_type": "stream",
     "text": [
      "Funcion Derivative(f(x), x)/sin(f(x))\n"
     ]
    }
   ],
   "source": [
    "F = f(x).diff(x)/sp.sin(f(x))\n",
    "print('Funcion', F)"
   ]
  },
  {
   "attachments": {},
   "cell_type": "markdown",
   "metadata": {},
   "source": [
    "Ahora realizamos la integración"
   ]
  },
  {
   "cell_type": "code",
   "execution_count": 65,
   "metadata": {},
   "outputs": [
    {
     "data": {
      "text/latex": [
       "$\\displaystyle \\int \\frac{\\frac{d}{d x} f{\\left(x \\right)}}{\\sin{\\left(f{\\left(x \\right)} \\right)}}\\, dx$"
      ],
      "text/plain": [
       "Integral(Derivative(f(x), x)/sin(f(x)), x)"
      ]
     },
     "execution_count": 65,
     "metadata": {},
     "output_type": "execute_result"
    }
   ],
   "source": [
    "sp.integrate(F)"
   ]
  },
  {
   "attachments": {},
   "cell_type": "markdown",
   "metadata": {},
   "source": [
    "Si derivo la solución:\n",
    "\n",
    "$$\\frac{d}{dx} log( tan (\\frac{f(x)}{2}) ) = \\frac {f'(x)}{sin(f(x))}$$"
   ]
  },
  {
   "cell_type": "code",
   "execution_count": 66,
   "metadata": {},
   "outputs": [
    {
     "name": "stdout",
     "output_type": "stream",
     "text": [
      "Solucion: log(tan(f(x)/2))\n"
     ]
    }
   ],
   "source": [
    "g = sp.log(sp.tan(f(x)/2))\n",
    "\n",
    "print('Solucion:', g)"
   ]
  },
  {
   "cell_type": "code",
   "execution_count": 67,
   "metadata": {},
   "outputs": [
    {
     "data": {
      "text/latex": [
       "$\\displaystyle \\frac{\\frac{d}{d x} f{\\left(x \\right)}}{\\sin{\\left(f{\\left(x \\right)} \\right)}}$"
      ],
      "text/plain": [
       "Derivative(f(x), x)/sin(f(x))"
      ]
     },
     "execution_count": 67,
     "metadata": {},
     "output_type": "execute_result"
    }
   ],
   "source": [
    "sp.diff(g).simplify()"
   ]
  },
  {
   "attachments": {},
   "cell_type": "markdown",
   "metadata": {},
   "source": [
    "### Parametros de la curva loxodrómica\n",
    "$$log( tan (\\frac{\\theta}{2}) )= (\\phi+c)cota\\beta$$\n",
    "$$c = log( tan (\\frac{\\theta}{2}) ) tan\\beta - \\phi$$"
   ]
  },
  {
   "cell_type": "code",
   "execution_count": 68,
   "metadata": {},
   "outputs": [
    {
     "name": "stdout",
     "output_type": "stream",
     "text": [
      "c =  -3.10\n"
     ]
    }
   ],
   "source": [
    "# Condiciones para reemplazar\n",
    "beta = np.pi/3\n",
    "theta0 = np.pi/4\n",
    "phi0 = np.pi/2\n",
    "\n",
    "# Remplazo para encontrar la constante c\n",
    "c = sp.log(sp.tan(theta0/2))*sp.tan(beta)-phi0\n",
    "\n",
    "print('c = ', c.round(2))"
   ]
  },
  {
   "attachments": {},
   "cell_type": "markdown",
   "metadata": {},
   "source": [
    "$$\\phi = log( tan (\\frac{\\theta}{2}) ) tan\\beta - c$$"
   ]
  },
  {
   "cell_type": "code",
   "execution_count": 69,
   "metadata": {},
   "outputs": [
    {
     "name": "stdout",
     "output_type": "stream",
     "text": [
      "phi =  1.57079632679490\n"
     ]
    }
   ],
   "source": [
    "# Condiciones para reemplazar\n",
    "beta = np.pi/3\n",
    "theta0 = np.pi/4\n",
    "\n",
    "# Remplazo para encontrar la constante c\n",
    "phies = sp.log(sp.tan(theta0/2))*sp.tan(beta)-c\n",
    "\n",
    "print('phi = ', phies )"
   ]
  },
  {
   "attachments": {},
   "cell_type": "markdown",
   "metadata": {},
   "source": [
    "## Curva Loxodrómica\n",
    "$$log( tan (\\frac{\\theta}{2}) )= (\\phi+c)cota\\beta$$\n",
    "$$c = log( tan (\\frac{\\theta}{2}) ) tan\\beta - \\phi$$\n",
    "$$\\phi = log( tan (\\frac{\\theta}{2}) ) tan\\beta - c$$\n"
   ]
  },
  {
   "cell_type": "code",
   "execution_count": 70,
   "metadata": {},
   "outputs": [
    {
     "data": {
      "image/png": "[encoded data removed]",
      "text/plain": [
       "<Figure size 300x400 with 1 Axes>"
      ]
     },
     "metadata": {},
     "output_type": "display_data"
    }
   ],
   "source": [
    "e1 = 1e-3 #La parametrizacion no esta definida en los polos\n",
    "thetads = np.linspace(0 + e1, np.pi - e1, 200)\n",
    "phids = np.log(np.tan(thetads/2))*np.tan(beta) - c\n",
    "\n",
    "plt.figure(figsize=(3,4))\n",
    "plt.plot(thetads,phids, label = \"Curva loxodromica\\nen $\\mathbb{R}^{2}$\")\n",
    "plt.scatter(theta0,phi0, color = \"red\", label= \"Condicion\\ninicial\")\n",
    "plt.legend()\n",
    "plt.xticks([0, np.pi/4, np.pi/2, 3*np.pi/4, np.pi],\n",
    "           [0,r\"$frac{\\pi}{4}$\", r\"$frac{\\pi}{2}$\",r\"$frac{3\\pi}{4}$\",r\"$\\pi$\" ])\n",
    "plt.show()"
   ]
  },
  {
   "cell_type": "code",
   "execution_count": 82,
   "metadata": {},
   "outputs": [
    {
     "ename": "TypeError",
     "evalue": "loop of ufunc does not support argument 0 of type Float which has no callable cos method",
     "output_type": "error",
     "traceback": [
      "\u001b[1;31m---------------------------------------------------------------------------\u001b[0m",
      "\u001b[1;31mAttributeError\u001b[0m                            Traceback (most recent call last)",
      "\u001b[1;31mAttributeError\u001b[0m: 'Float' object has no attribute 'cos'",
      "\nThe above exception was the direct cause of the following exception:\n",
      "\u001b[1;31mTypeError\u001b[0m                                 Traceback (most recent call last)",
      "Cell \u001b[1;32mIn[82], line 14\u001b[0m\n\u001b[0;32m     10\u001b[0m y0 \u001b[39m=\u001b[39m np\u001b[39m.\u001b[39msin(theta0)\u001b[39m*\u001b[39mnp\u001b[39m.\u001b[39msin(phi0)\n\u001b[0;32m     11\u001b[0m z0 \u001b[39m=\u001b[39m np\u001b[39m.\u001b[39mcos(theta0)\n\u001b[1;32m---> 14\u001b[0m x \u001b[39m=\u001b[39m np\u001b[39m.\u001b[39msin(thetads)\u001b[39m*\u001b[39mnp\u001b[39m.\u001b[39;49mcos(phids)\n\u001b[0;32m     15\u001b[0m y \u001b[39m=\u001b[39m np\u001b[39m.\u001b[39msin(thetads)\u001b[39m*\u001b[39mnp\u001b[39m.\u001b[39msin(phids)\n\u001b[0;32m     16\u001b[0m z \u001b[39m=\u001b[39m np\u001b[39m.\u001b[39mcos(thetads)\n",
      "\u001b[1;31mTypeError\u001b[0m: loop of ufunc does not support argument 0 of type Float which has no callable cos method"
     ]
    }
   ],
   "source": [
    "def sphere(r):\n",
    "    u = np.linspace(0,2*np.pi,200)\n",
    "    v = np.linspace(0,np.pi,200)\n",
    "    d = (r)*np.outer(np.cos(u), np.sin(v))\n",
    "    e = (r)*np.outer(np.sin(u), np.sin(v))\n",
    "    g = (r)*np.outer(np.ones(np.size(u)), np.cos(v))\n",
    "    return d,e,g\n",
    "\n",
    "x0 = np.sin(theta0)*np.cos(phi0)\n",
    "y0 = np.sin(theta0)*np.sin(phi0)\n",
    "z0 = np.cos(theta0)\n",
    "\n",
    "\n",
    "x = np.sin(thetads)*np.cos(phids)\n",
    "y = np.sin(thetads)*np.sin(phids)\n",
    "z = np.cos(thetads)\n",
    "\n",
    "fig = plt.figure()\n",
    "ax = fig.add_subplot(111, projection='3d')\n",
    "plt.xticks([-1,-0.5,0,0.5,1])\n",
    "plt.yticks([-1,-0.5,0,0.5,1])\n",
    "ax.set_xlabel(\"x\")\n",
    "ax.set_ylabel(\"y\")\n",
    "ax.set_zticks([-1,-0.5,0,0.5,1])\n",
    "ax.plot(x,y,z, color = \"blue\", label=\"Curva Loxodromica en $S^{2}$\")\n",
    "ax.scatter(x0,y0,z0, color = \"red\", label = \"Condicion inicial\")\n",
    "d,e,g = sphere(1)\n",
    "ax.plot_surface(d,e,g, rstride = 3, cstride = 3, color = (1,0.8,0,0.1))\n",
    "ax.set_title(\"Curva loxodromica sobre la esfera\")\n",
    "ax.view_init(elev = 20, azim = 60)\n",
    "ax.legend()\n",
    "plt.show()"
   ]
  },
  {
   "cell_type": "code",
   "execution_count": 83,
   "metadata": {},
   "outputs": [],
   "source": [
    "def loxo(the0, phi0, betas, elev, azim):\n",
    "    c = sp.log(sp.tan(the0/2))*sp.tan(betas)-phi0\n",
    "    epsilon = 1e-3\n",
    "    thed = np.linspace(0 + epsilon, np.pi - epsilon, 200)\n",
    "    phd =  np.log(np.tan(thed/2))*np.tan(betas) - c\n",
    "\n",
    "    x0 = np.sin(the0)*np.cos(phi0)\n",
    "    y0 = np.sin(the0)*np.sin(phi0)\n",
    "    z0 = np.cos(the0)\n",
    "\n",
    "\n",
    "    x = np.sin(thed)*np.cos(phd)\n",
    "    y = np.sin(thed)*np.sin(phd)\n",
    "    z = np.cos(thed)\n",
    "\n",
    "    fig = plt.figure()\n",
    "    ax = fig.add_subplot(111, projection='3d')\n",
    "    plt.xticks([-1,-0.5,0,0.5,1])\n",
    "    plt.yticks([-1,-0.5,0,0.5,1])\n",
    "    ax.set_xlabel(\"x\")\n",
    "    ax.set_ylabel(\"y\")\n",
    "    ax.set_zticks([-1,-0.5,0,0.5,1])\n",
    "    ax.plot(x,y,z, color = \"blue\", label=\"Curva Loxodromica en $S^{2}$\")\n",
    "    ax.scatter(x0,y0,z0, color = \"red\", label = \"Condicion inicial\")\n",
    "    d,e,g = sphere(1)\n",
    "    ax.plot_surface(d,e,g, rstride = 3, cstride = 3, color = (1,0.8,0,0.1))\n",
    "    ax.set_title(\"Curva loxodromica sobre la esfera\")\n",
    "    ax.view_init(elev=elev, azim=azim)\n",
    "    ax.legend()\n",
    "    plt.show()"
   ]
  },
  {
   "cell_type": "code",
   "execution_count": 84,
   "metadata": {},
   "outputs": [
    {
     "ename": "TypeError",
     "evalue": "loop of ufunc does not support argument 0 of type Float which has no callable cos method",
     "output_type": "error",
     "traceback": [
      "\u001b[1;31m---------------------------------------------------------------------------\u001b[0m",
      "\u001b[1;31mAttributeError\u001b[0m                            Traceback (most recent call last)",
      "\u001b[1;31mAttributeError\u001b[0m: 'Float' object has no attribute 'cos'",
      "\nThe above exception was the direct cause of the following exception:\n",
      "\u001b[1;31mTypeError\u001b[0m                                 Traceback (most recent call last)",
      "Cell \u001b[1;32mIn[84], line 1\u001b[0m\n\u001b[1;32m----> 1\u001b[0m loxo(np\u001b[39m.\u001b[39;49mpi\u001b[39m/\u001b[39;49m\u001b[39m2\u001b[39;49m,np\u001b[39m.\u001b[39;49mpi\u001b[39m/\u001b[39;49m\u001b[39m4\u001b[39;49m,\u001b[39m0\u001b[39;49m,\u001b[39m10\u001b[39;49m,\u001b[39m20\u001b[39;49m)\n",
      "Cell \u001b[1;32mIn[83], line 12\u001b[0m, in \u001b[0;36mloxo\u001b[1;34m(the0, phi0, betas, elev, azim)\u001b[0m\n\u001b[0;32m      8\u001b[0m y0 \u001b[39m=\u001b[39m np\u001b[39m.\u001b[39msin(the0)\u001b[39m*\u001b[39mnp\u001b[39m.\u001b[39msin(phi0)\n\u001b[0;32m      9\u001b[0m z0 \u001b[39m=\u001b[39m np\u001b[39m.\u001b[39mcos(the0)\n\u001b[1;32m---> 12\u001b[0m x \u001b[39m=\u001b[39m np\u001b[39m.\u001b[39msin(thed)\u001b[39m*\u001b[39mnp\u001b[39m.\u001b[39;49mcos(phd)\n\u001b[0;32m     13\u001b[0m y \u001b[39m=\u001b[39m np\u001b[39m.\u001b[39msin(thed)\u001b[39m*\u001b[39mnp\u001b[39m.\u001b[39msin(phd)\n\u001b[0;32m     14\u001b[0m z \u001b[39m=\u001b[39m np\u001b[39m.\u001b[39mcos(thed)\n",
      "\u001b[1;31mTypeError\u001b[0m: loop of ufunc does not support argument 0 of type Float which has no callable cos method"
     ]
    }
   ],
   "source": [
    "loxo(np.pi/2,np.pi/4,0,10,20)"
   ]
  }
 ],
 "metadata": {
  "kernelspec": {
   "display_name": "Python 3",
   "language": "python",
   "name": "python3"
  },
  "language_info": {
   "codemirror_mode": {
    "name": "ipython",
    "version": 3
   },
   "file_extension": ".py",
   "mimetype": "text/x-python",
   "name": "python",
   "nbconvert_exporter": "python",
   "pygments_lexer": "ipython3",
   "version": "3.11.1"
  },
  "orig_nbformat": 4
 },
 "nbformat": 4,
 "nbformat_minor": 2
}
