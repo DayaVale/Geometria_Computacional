{
 "cells": [
  {
   "attachments": {},
   "cell_type": "markdown",
   "metadata": {},
   "source": [
    "# Lista de aristas doblemente conectadas\n",
    "## Librerias"
   ]
  },
  {
   "cell_type": "code",
   "execution_count": null,
   "metadata": {},
   "outputs": [],
   "source": [
    "import numpy as np\n",
    "import matplotlib.pyplot as plt\n",
    "import pandas as pd"
   ]
  },
  {
   "attachments": {},
   "cell_type": "markdown",
   "metadata": {},
   "source": [
    "## Conceptos\n",
    "* **Arista incidente:** Si un vértice es el punto final de una arista, entonces\n",
    "decimos que el vértice y la arista son incidentes\n",
    "* Una cara y una arista de su frontera son incidentes, y una cara y un vértice de su frontera son incidentes.\n",
    "* Una lista de aristas doblemente conectadas contiene una lista por caras, nodos y semi-aristas.\n",
    "* Recorrer una cara en el sentido contrario a las agujas del reloj.\n",
    "* Si una semi-aristae tiene v como origen y w como destino, entonces su gemela Twin(e) tiene w como origen y v como destino.\n",
    "* Para llegar al límite de una cara basta con almacenar un puntero en el registro de caras a una media arista arbitraria que delimite la cara.\n",
    "* **límites de los agujeros de una cara:** si se recorren en sentido contrario a las agujas del reloj, la cara queda a la derecha.\n",
    "* Another consequence is that twin half-edges always have opposite orientations"
   ]
  },
  {
   "attachments": {},
   "cell_type": "markdown",
   "metadata": {},
   "source": [
    "\n",
    "## Lista de Nodos\n",
    "La lista de nodos contienen, inicialmente las coordenadas del punto (V), defino una semi- arista incidente.\n",
    "* The vertex record of a vertex v stores the coordinates of v in a field called\n",
    "Coordinates(v). It also stores a pointer IncidentEdge(v) to an arbitrary\n",
    "half-edge that has v as its origin."
   ]
  },
  {
   "cell_type": "code",
   "execution_count": 21,
   "metadata": {},
   "outputs": [],
   "source": [
    "# Input: List of sorted vertex with a oritation\n",
    "# Output: List of vetex with coordinates of v and incident edge. \n",
    "def list_vertex(P):\n",
    "    list_vertex = []\n",
    "    for i in range(len(P)):\n",
    "        name = \"V\"+str(i+1)\n",
    "        half_edge = \"e\"+str(i+1)+'1'\n",
    "        list_vertex.append([name,P[i],half_edge])\n",
    "    return list_vertex"
   ]
  },
  {
   "attachments": {},
   "cell_type": "markdown",
   "metadata": {},
   "source": [
    "## Lista de Caras\n",
    "* The face record of a face f stores a pointer OuterComponent( f ) to some\n",
    "half-edge on its outer boundary. For the unbounded face this pointer is nil.\n",
    "It also stores a list InnerComponents( f ), which contains for each hole in\n",
    "the face a pointer to some half-edge on the boundary of the hole."
   ]
  },
  {
   "attachments": {},
   "cell_type": "markdown",
   "metadata": {},
   "source": [
    "# Lista de Semi aristas\n",
    "* The half-edge record of a half-edge e stores a pointer Origin(e) to its origin,\n",
    "a pointer Twin(e) to its twin half-edge, and a pointer IncidentFace(e) to\n",
    "the face that it bounds. We don’t need to store the destination of an edge,\n",
    "because it is equal to Origin(Twin(e)). The origin is chosen such that \n",
    "IncidentFace(e) lies to the left of e when it is traversed from origin to\n",
    "destination. The half-edge record also stores pointers Next(e) and Prev(e)\n",
    "to the next and previous edge on the boundary of IncidentFace(e). Thus\n",
    "Next(e) is the unique half-edge on the boundary of IncidentFace(e) that has\n",
    "the destination of e as its origin, and Prev(e) is the unique half-edge on the\n",
    "boundary of IncidentFace(e) that has Origin(e) as its destination. "
   ]
  },
  {
   "cell_type": "code",
   "execution_count": 29,
   "metadata": {},
   "outputs": [],
   "source": [
    "#Input: Ingreso la list arista\n",
    "#Output: Sale la list arista gemela - Notación de la arista gemela es 'ei2'\n",
    "def twin(list_e):\n",
    "    list_twin = []\n",
    "    for i in range(len(list_e)):\n",
    "        name_twin_edge = 'e'+str(i+1)+'2'\n",
    "        list_twin.append([list_e[i][1],list_e[i][0],name_twin_edge])\n",
    "    return list_twin\n"
   ]
  },
  {
   "cell_type": "code",
   "execution_count": 30,
   "metadata": {},
   "outputs": [],
   "source": [
    "def list_half_edge(P):\n",
    "    list_half_edge = [] # Primero hago una lista de todas las aristas y las nombro 'ei1'\n",
    "    for i in range(len(P)):\n",
    "        name_edge = 'e'+str(i+1)+'1'\n",
    "        if i == (len(P)-1):\n",
    "            list_half_edge.append([P[i], P[0],name_edge])\n",
    "        else: \n",
    "            list_half_edge.append([P[i], P[i+1], name_edge])\n",
    "    print(list_half_edge)\n",
    "    print(twin(list_half_edge))\n",
    "    return list_half_edge\n",
    "        \n",
    "\n"
   ]
  },
  {
   "cell_type": "code",
   "execution_count": 31,
   "metadata": {},
   "outputs": [
    {
     "name": "stdout",
     "output_type": "stream",
     "text": [
      "[[[0, 1], [-1, 0], 'e11'], [[-1, 0], [0, -1], 'e21'], [[0, -1], [1, 0], 'e31'], [[1, 0], [0, 1], 'e41']]\n",
      "[[[-1, 0], [0, 1], 'e12'], [[0, -1], [-1, 0], 'e22'], [[1, 0], [0, -1], 'e32'], [[0, 1], [1, 0], 'e42']]\n"
     ]
    },
    {
     "data": {
      "text/plain": [
       "[[[0, 1], [-1, 0], 'e11'],\n",
       " [[-1, 0], [0, -1], 'e21'],\n",
       " [[0, -1], [1, 0], 'e31'],\n",
       " [[1, 0], [0, 1], 'e41']]"
      ]
     },
     "execution_count": 31,
     "metadata": {},
     "output_type": "execute_result"
    }
   ],
   "source": [
    "P  = [[0,1], [-1,0],[0,-1],[1,0]]\n",
    "l1 = list_vertex(P)\n",
    "list_half_edge(P)\n",
    "#print(l1)"
   ]
  }
 ],
 "metadata": {
  "kernelspec": {
   "display_name": "Python 3",
   "language": "python",
   "name": "python3"
  },
  "language_info": {
   "codemirror_mode": {
    "name": "ipython",
    "version": 3
   },
   "file_extension": ".py",
   "mimetype": "text/x-python",
   "name": "python",
   "nbconvert_exporter": "python",
   "pygments_lexer": "ipython3",
   "version": "3.11.1"
  },
  "orig_nbformat": 4
 },
 "nbformat": 4,
 "nbformat_minor": 2
}
