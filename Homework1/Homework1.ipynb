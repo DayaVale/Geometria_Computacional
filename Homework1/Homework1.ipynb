{
 "cells": [
  {
   "attachments": {},
   "cell_type": "markdown",
   "metadata": {},
   "source": [
    "# Homework 1\n",
    "- Student : Dayana Valentina Gonzalez Vargas "
   ]
  },
  {
   "attachments": {},
   "cell_type": "markdown",
   "metadata": {},
   "source": [
    "## Libraries"
   ]
  },
  {
   "cell_type": "code",
   "execution_count": 218,
   "metadata": {},
   "outputs": [],
   "source": [
    "import matplotlib.pyplot as plt\n",
    "import numpy as np"
   ]
  },
  {
   "attachments": {},
   "cell_type": "markdown",
   "metadata": {},
   "source": [
    "1. Write down a code able to identify whether a pair of segments share points.\n",
    "Three possible answers should be available: segments do not intersect, segments do intersect\n",
    "giving the intersection point, and segments do intersect giving an intersection\n",
    "interval.\n"
   ]
  },
  {
   "attachments": {},
   "cell_type": "markdown",
   "metadata": {},
   "source": [
    "### Idea del codigo realizado.\n",
    "- Para realizar en siguiente codigo, tuve en cuenta el producto cruz desarrollado en clase. Además como cada uno se los puntos dados por el ejercicio son paralelos, donde pueden poser un punto, un segmento en común o ningu de estos. Realice un caso más a los placticado en clase, donde el producto cruz entre todos los diferentes puntos sean cero, así ya que son paralelos puedo encontrar su punto o segmento en común. Ya que, un punto debe estar contenido en el otro segmento, tomado principalmente la seiguiente desigualdad como guia para ver si un segmento contiene a un punto de otro segmento o tienen dos puntos iguales. \n",
    "\n",
    "$P_{k} \\in \\hat{P_{i}P{j}}$ si $d_{k} = 0$\n",
    "y $min(x_{i},x_{j}) \\leqslant x_{k} \\leqslant max(x_{i},x_{j}) $,\n",
    "$min(y_{i},y_{j}) \\leqslant y_{k} \\leqslant max(y_{i},y_{j}) $\n",
    "\n",
    "Además, en clase vimos una manera de encontrar los puntos de corte, él cual no funciona muy bien para segmentos paralelos, en donde, decidi tomar la misma desigualdad anterior para ver cual punto era él que se contenia y encontrar el segmento o punto que es la intersección de ambos segmentos.\n",
    "\n"
   ]
  },
  {
   "cell_type": "code",
   "execution_count": 219,
   "metadata": {},
   "outputs": [],
   "source": [
    "def Cross_product(P0,P1,P2):\n",
    "    d = ((P1[0]-P0[0])*(P2[1]-P0[1]))-((P2[0]-P0[0])*(P1[1]-P0[1]))\n",
    "    return d"
   ]
  },
  {
   "cell_type": "code",
   "execution_count": 220,
   "metadata": {},
   "outputs": [],
   "source": [
    "# Create class about segments S(x1,y1,x2,y2)\n",
    "class S:\n",
    "    def __init__(self, x1,y1, x2,y2 ):\n",
    "        self.point1 = [x1,y1]\n",
    "        self.point2 = [x2,y2]"
   ]
  },
  {
   "cell_type": "code",
   "execution_count": 221,
   "metadata": {},
   "outputs": [],
   "source": [
    "def Cut_point(P1,P2,P3,P4): \n",
    "    Pc = [] #Empty List, where i'm going to add the cut points.  \n",
    "    beta = 0 #Parameter 1\n",
    "    alpha = 0 #Parameter 2\n",
    "    det1 = (P3[0]-P4[0])*(P2[1]-P1[1]) \n",
    "    det2 = (P2[0]-P1[0])*(P3[1]-P4[1])\n",
    "    if det1 != det2:\n",
    "        beta = (1/(det1-det2))*(((P2[1]-P1[1])*(P2[0]-P4[0]))+((P1[0]-P2[0])*(P2[1]-P4[1])))\n",
    "        alpha = (1/(det1-det2))*(((P4[1]-P3[1])*(P2[0]-P4[0]))+((P3[0]-P4[0])*(P2[1]-P4[1])))\n",
    "        Pc1 = alpha*P1[0]+(1-alpha)*P2[0]\n",
    "        Pc2 = beta*P1[1]+(1-beta)*P2[1]\n",
    "        Pc = [Pc1,Pc2]\n",
    "        print(Pc1)\n",
    "    elif ( P1 == P3):\n",
    "        Pc = P1\n",
    "    elif ( P2 == P3):\n",
    "        Pc = P2\n",
    "    elif ( P1 == P4):\n",
    "        Pc = P1\n",
    "    elif ( P2 == P4):\n",
    "        Pc = P2\n",
    "    elif (min(P3[0],P4[0])<=P2[0]<=max(P3[0],P4[0]))and (min(P3[1],P4[1])<=P2[1]<=max(P3[1],P4[1])):\n",
    "        print(\"Contienen el punto\", P2)\n",
    "        Pc = str(min(P2,P3))+ ' a ' + str(max(P2,P3))\n",
    "    elif (min(P3[0],P4[0])<=P1[0]<=max(P3[0],P4[0]))and (min(P3[1],P4[1])<=P1[1]<=max(P3[1],P4[1])):\n",
    "        print(\"Contienen el punto\", P1)\n",
    "        Pc = str(min(P1,P3))+ ' a ' + str(max(P1,P3))\n",
    "    elif (min(P2[0],P1[0])<=P3[0]<=max(P2[0],P1[0]))and (min(P2[1],P1[1])<=P3[1]<=max(P2[1],P1[1])):\n",
    "        print(\"Contienen el punto\", P3)\n",
    "        Pc = str(min(P2,P3))+ ' a ' + str(max(P2,P3))\n",
    "    elif (min(P2[0],P1[0])<=P4[0]<=max(P2[0],P1[0]))and (min(P2[1],P1[1])<=P4[1]<=max(P2[1],P1[1])):\n",
    "        print(\"Contienen el punto\", P4)\n",
    "        Pc = str(min(P2,P4))+ ' a ' + str(max(P2,P4))\n",
    "    else:\n",
    "        print(\"Son segmentos paralelos no tendrían puntos de corte\")\n",
    "    \n",
    "    return Pc"
   ]
  },
  {
   "cell_type": "code",
   "execution_count": 222,
   "metadata": {},
   "outputs": [],
   "source": [
    "def Intersec_segments(P1,P2,P3, P4):\n",
    "    # Recordatorio dk hace referencia a que el pk es el origen que va para pi y pj\n",
    "    d1 = Cross_product(P1,P4,P3)\n",
    "    d2 = Cross_product(P2,P4,P3)\n",
    "    d3 = Cross_product(P3,P2,P1)\n",
    "    d4 = Cross_product(P4,P2,P1)\n",
    "    # Asignar una variable True o False para ver si se cruzan o no.\n",
    "    c = False\n",
    "    # Condiciones para saber si se cruzan o no los segmentos\n",
    "    if (d1*d2)<0 and (d4*d3)<0:\n",
    "        c = True\n",
    "        print(\"Los dos segmentos SE CRUZAN\")\n",
    "    elif (d1*d2)>0 and (d3*d4)>0:\n",
    "        c = False\n",
    "        print(\"Los dos segmentos NO SE CRUZAN\")\n",
    "    elif (d1*d2)<0 and d4==0:\n",
    "        if (min(P1[0],P2[0])<=P4[0]<=max(P1[0],P2[0]))and (min(P1[1],P2[1])<=P4[1]<=max(P1[1],P2[1])):\n",
    "            c = True\n",
    "            print(\"Los dos segmentos SE CRUZAN\")\n",
    "        else:\n",
    "            c = False\n",
    "            print(\"Los dos segmentos NO SE CRUZAN\")\n",
    "    elif (d1*d2)<0 and d3==0:\n",
    "        if (min(P1[0],P2[0])<=P3[0]<=max(P1[0],P2[0]))and (min(P1[1],P2[1])<=P3[1]<=max(P1[1],P2[1])):\n",
    "            c = True\n",
    "            print(\"Los dos segmentos SE CRUZAN\")\n",
    "        else:\n",
    "            c = False\n",
    "            print(\"Los dos segmentos NO SE CRUZAN\")\n",
    "    elif (d4*d3)<0 and d2==0:\n",
    "        if (min(P3[0],P4[0])<=P2[0]<=max(P4[0],P3[0]))and (min(P4[1],P3[1])<=P2[1]<=max(P4[1],P3[1])):\n",
    "            c = True\n",
    "            print(\"Los dos segmentos SE CRUZAN\")\n",
    "        else:\n",
    "            c = False\n",
    "            print(\"Los dos segmentos NO SE CRUZAN\")\n",
    "    elif (d4*d3)<0 and d1==0:\n",
    "        if (min(P3[0],P4[0])<=P1[0]<=max(P3[0],P4[0]))and (min(P3[1],P4[1])<=P2[1]<=max(P3[1],P4[1])):\n",
    "            c = True\n",
    "            print(\"Los dos segmentos SE CRUZAN\")\n",
    "        else:\n",
    "            c = False\n",
    "            print(\"Los dos segmentos NO SE CRUZAN\")\n",
    "    elif (d1 == 0) and (d2 == 0) and (d3 == 0) and (d4 == 0):\n",
    "        if (min(P3[0],P4[0])<=P1[0]<=max(P3[0],P4[0]))and (min(P3[1],P4[1])<=P2[1]<=max(P3[1],P4[1])):\n",
    "            c = True\n",
    "            print(\"Los dos segmentos SE CRUZA1N y tienen puntos en comun\")\n",
    "        elif (min(P3[0],P4[0])<=P2[0]<=max(P3[0],P4[0]))and (min(P3[1],P4[1])<=P2[1]<=max(P3[1],P4[1])):\n",
    "            c = True\n",
    "            print(\"Los dos segmentos SE CRUZAN y tienen puntos en comun\")\n",
    "        else:\n",
    "            c = False\n",
    "            print(\"No se cruzan pero son paralelos\")\n",
    "    \n",
    "    elif (d1*d2)>0 and d4==0:\n",
    "        c = False\n",
    "        print(\"Los dos segmentos NO SE CRUZAN\")\n",
    "    elif (d3*d4)>0:\n",
    "        c = False\n",
    "        print(\"Los dos segmentos NO SE CRUZAN\")\n",
    "    else:\n",
    "        print(\"No esta el caso\")\n",
    "    \n",
    "    #Evalua puntos de corte\n",
    "    if c == True:\n",
    "        Pc = Cut_point(P1,P2,P3,P4)\n",
    "        print('La intersección se encuentra en:', Pc)\n",
    "    else:\n",
    "        Pc = 0"
   ]
  },
  {
   "cell_type": "code",
   "execution_count": 223,
   "metadata": {},
   "outputs": [],
   "source": [
    "def graphic_segments(P1,P2,P3,P4):\n",
    "    P1x,P1y = [P1[0],P2[0]],[P1[1],P2[1]] \n",
    "    P2x,P2y = [P3[0],P4[0]],[P3[1],P4[1]] \n",
    "    \n",
    "    plt.clf()\n",
    "    plt.plot(P1[0],P1[1],\"ro\")\n",
    "    plt.plot(P2[0],P2[1],\"ro\")\n",
    "    plt.plot(P3[0],P3[1],\"ro\")\n",
    "    plt.plot(P4[0],P4[1],\"ro\")\n",
    "    plt.plot(P1x,P1y)\n",
    "    plt.plot(P2x,P2y)\n",
    "    plt.annotate(\"P1\", (P1[0],P1[1]),(P1[0] + 0.01, P1[1]))\n",
    "    plt.annotate(\"P2\", (P2[0],P2[1]),(P2[0] + 0.01, P2[1]))\n",
    "    plt.annotate(\"P3\", (P3[0],P3[1]),(P3[0] + 0.01, P3[1]))\n",
    "    plt.annotate(\"P4\", (P4[0],P4[1]),(P4[0] + 0.01, P4[1]))\n",
    "    plt.show()"
   ]
  },
  {
   "cell_type": "code",
   "execution_count": 224,
   "metadata": {},
   "outputs": [],
   "source": [
    "#Main and result\n",
    "# List the segments\n",
    "S1 = S(1,2,3,4)\n",
    "S2 = S(3,4,5,6)\n",
    "S3 = S(2,3,5,6)\n",
    "S4 = S(4,5,5,6)"
   ]
  },
  {
   "attachments": {},
   "cell_type": "markdown",
   "metadata": {},
   "source": [
    "### Intersection of S1 with S2"
   ]
  },
  {
   "cell_type": "code",
   "execution_count": 225,
   "metadata": {},
   "outputs": [
    {
     "name": "stdout",
     "output_type": "stream",
     "text": [
      "Los dos segmentos SE CRUZAN y tienen puntos en comun\n",
      "La intersección se encuentra en: [3, 4]\n"
     ]
    },
    {
     "data": {
      "image/png": "[encoded data removed]",
      "text/plain": [
       "<Figure size 640x480 with 1 Axes>"
      ]
     },
     "metadata": {},
     "output_type": "display_data"
    }
   ],
   "source": [
    "Intersec_segments(S1.point1,S1.point2,S2.point1,S2.point2)\n",
    "graphic_segments(S1.point1,S1.point2,S2.point1,S2.point2)"
   ]
  },
  {
   "attachments": {},
   "cell_type": "markdown",
   "metadata": {},
   "source": [
    "### Intersection of S1 with S3"
   ]
  },
  {
   "cell_type": "code",
   "execution_count": 226,
   "metadata": {},
   "outputs": [
    {
     "name": "stdout",
     "output_type": "stream",
     "text": [
      "Los dos segmentos SE CRUZAN y tienen puntos en comun\n",
      "Contienen el punto [3, 4]\n",
      "La intersección se encuentra en: [2, 3] a [3, 4]\n"
     ]
    },
    {
     "data": {
      "image/png": "[encoded data removed]",
      "text/plain": [
       "<Figure size 640x480 with 1 Axes>"
      ]
     },
     "metadata": {},
     "output_type": "display_data"
    }
   ],
   "source": [
    "Intersec_segments(S1.point1,S1.point2,S3.point1,S3.point2)\n",
    "graphic_segments(S1.point1,S1.point2,S3.point1,S3.point2)"
   ]
  },
  {
   "attachments": {},
   "cell_type": "markdown",
   "metadata": {},
   "source": [
    "### Intersection of S1 with S4"
   ]
  },
  {
   "cell_type": "code",
   "execution_count": 227,
   "metadata": {},
   "outputs": [
    {
     "name": "stdout",
     "output_type": "stream",
     "text": [
      "No se cruzan pero son paralelos\n"
     ]
    },
    {
     "data": {
      "image/png": "[encoded data removed]",
      "text/plain": [
       "<Figure size 640x480 with 1 Axes>"
      ]
     },
     "metadata": {},
     "output_type": "display_data"
    }
   ],
   "source": [
    "Intersec_segments(S1.point1,S1.point2,S4.point1,S4.point2)\n",
    "graphic_segments(S1.point1,S1.point2,S4.point1,S4.point2)"
   ]
  },
  {
   "attachments": {},
   "cell_type": "markdown",
   "metadata": {},
   "source": [
    "2. Search for the divide and conquer algorithm for the construction of the\n",
    "convex hull of a set of points.\n",
    "\n",
    "2.1 Implement the algorithm for the points in the attached file (points ch.txt). Illustrate\n",
    "the process with plots."
   ]
  },
  {
   "attachments": {},
   "cell_type": "markdown",
   "metadata": {},
   "source": [
    "## Partición del conjunto en dos mini conjuntos"
   ]
  },
  {
   "cell_type": "code",
   "execution_count": 228,
   "metadata": {},
   "outputs": [],
   "source": [
    "# primero: Organizar el arreglo de puntos en forma acsdente x-coordenada\n",
    "def Sort_array(P):\n",
    "    New_array = []\n",
    "    for i in range(len(P)):\n",
    "        New_array.append([P[i][0], P[i][1]])\n",
    "    x_coor = lambda New_array: New_array[0]\n",
    "    New_array.sort(key = x_coor)   \n",
    "    return New_array \n"
   ]
  },
  {
   "cell_type": "code",
   "execution_count": 229,
   "metadata": {},
   "outputs": [],
   "source": [
    "#Segundo: Dividimos los puntos en dos conjuntos S1 son los puntos más a la izquierda del\n",
    "#  medio en la cordenada X.\n",
    "# Y S2 los puntos más a la derecha de la medio en la coordenada X.\n",
    "def divide_halves(P):\n",
    "    S1 = []\n",
    "    S2 = []\n",
    "    mid = int(len(P)/2)\n",
    "    S1 = P[:mid]\n",
    "    S2 = P[mid:]\n",
    "    return S1,S2\n"
   ]
  },
  {
   "attachments": {},
   "cell_type": "markdown",
   "metadata": {},
   "source": [
    "### Codigo Convex Hull"
   ]
  },
  {
   "cell_type": "code",
   "execution_count": 230,
   "metadata": {},
   "outputs": [],
   "source": [
    "#Angulo con la pendiente\n",
    "def ang2(x0,y0,xn,yn):\n",
    "    m1 = yn-y0\n",
    "    m2 = xn-x0\n",
    "    theta = np.arctan2(m1,m2)\n",
    "    return(theta)"
   ]
  },
  {
   "cell_type": "code",
   "execution_count": 231,
   "metadata": {},
   "outputs": [],
   "source": [
    "def dist(x0,y0,x1,y1):\n",
    "    di = np.sqrt((x1-x0)^2 + (y1-y0)^2)\n",
    "    return di "
   ]
  },
  {
   "cell_type": "code",
   "execution_count": 232,
   "metadata": {},
   "outputs": [],
   "source": [
    "def grafic_hull(S1,P01,x,y,N1):\n",
    "    xcor1 = []\n",
    "    ycor1 = []\n",
    "\n",
    "    for n in range (len(S1)):\n",
    "        xcor1.append(S1[n][0])\n",
    "        ycor1.append(S1[n][1])\n",
    "    \n",
    "    \n",
    "    plt.scatter(x,y)\n",
    "    plt.plot(P01[0],P01[1], \"ro\")\n",
    "    for n in range(N1):\n",
    "        num = \"P\"+str(n)\n",
    "        #print(num)\n",
    "        plt.annotate(num , xy = (S1[n][0], S1[n][1]), xytext=(S1[n][0], S1[n][1]))\n",
    "    plt.plot(xcor1,ycor1)\n",
    "    plt.show()"
   ]
  },
  {
   "cell_type": "code",
   "execution_count": 233,
   "metadata": {},
   "outputs": [],
   "source": [
    "def grafic_hull_divide(S1,S2,P01,P02,x,y,N1,N2):\n",
    "    xcor1 = []\n",
    "    ycor1 = []\n",
    "    xcor2 = []\n",
    "    ycor2 = []\n",
    "\n",
    "\n",
    "    for n in range (len(S1)):\n",
    "        xcor1.append(S1[n][0])\n",
    "        ycor1.append(S1[n][1])\n",
    "\n",
    "    for n in range (len(S2)):\n",
    "        xcor2.append(S2[n][0])\n",
    "        ycor2.append(S2[n][1])\n",
    "    \n",
    "    \n",
    "    plt.scatter(x,y)\n",
    "    plt.plot(P01[0],P01[1], \"ro\")\n",
    "    for n in range(N1):\n",
    "        num = \"P\"+str(n)\n",
    "        #print(num)\n",
    "        plt.annotate(num , xy = (S1[n][0], S1[n][1]), xytext=(S1[n][0], S1[n][1]))\n",
    "    plt.plot(xcor1,ycor1)\n",
    "\n",
    "    plt.plot(P02[0],P02[1], \"ro\")\n",
    "    for n in range(N2):\n",
    "        num = \"P\"+str(n)\n",
    "        #print(num)\n",
    "        plt.annotate(num , xy = (S2[n][0], S2[n][1]), xytext=(S2[n][0], S2[n][1]))\n",
    "    plt.plot(xcor2,ycor2)\n",
    "\n",
    "    plt.show()"
   ]
  },
  {
   "cell_type": "code",
   "execution_count": 234,
   "metadata": {},
   "outputs": [],
   "source": [
    "def angles_sort(P0,P_new):\n",
    "    a = [] #Lista de punto con su respectivo angulo\n",
    "    angles=[] #lista de angulos\n",
    "    for n in P_new:\n",
    "        m = ang2(P0[0],P0[1],n[0],n[1])\n",
    "        if m is angles:\n",
    "            # Revisar que si tienen el mismo angulo escoger el de la mayor distancia\n",
    "            index = angles.index(m)\n",
    "            p_prev = P_new[index]\n",
    "            d1 = dist(P0[0],P0[1],n[0],n[1])\n",
    "            d2 = dist(P0[0],P0[1],p_prev[0],p_prev[1])\n",
    "            if d1 > d2:\n",
    "                a[index]=[n[0],n[1],m]\n",
    "        else:\n",
    "            a.append([n[0],n[1],m])\n",
    "            angles.append(m)\n",
    "\n",
    "\n",
    "    # 3.Debemos ordenar con respecto al angulo la lista\n",
    "    angulo = lambda a:a[2]\n",
    "    a.sort(key=angulo) #Organizado\n",
    "    #print(a)\n",
    "    #Vamos a revisar si encontramos dos puntos con la misma pendiente para tomar el que tenga \n",
    "    # la distancia más larga.\n",
    "    # 4. Agrupo los puntos en una pila con el orden anterior\n",
    "    p_sort_pila = []\n",
    "    for k in a:\n",
    "        p_sort_pila.append([k[0],k[1]])\n",
    "    return p_sort_pila"
   ]
  },
  {
   "cell_type": "code",
   "execution_count": 242,
   "metadata": {},
   "outputs": [],
   "source": [
    "def Algoritmo_Graham(X,Y,P):\n",
    "    #Notemos que el arreglo ya entra organizado por la coordenada X, ya que en los puntos anteriores\n",
    "    #Partimos por la coordenada X, ordenada de forma ascendente\n",
    "    P0 = P[0]\n",
    "    #print(\"Punto de partida:\",P0)\n",
    "\n",
    "    #Quitamos el P0 de P creando así P nuevo\n",
    "    P_new =[]\n",
    "    for i in range(len(P)):\n",
    "        if np.all(P[i] != P0):\n",
    "            P_new.append(P[i])\n",
    "\n",
    "    #print(P_new)\n",
    "\n",
    "    #2. Calculo las pendientes de P0 -> Pi \n",
    "    p_sort_pila = angles_sort(P0,P_new)\n",
    "    #print(p_sort_pila)\n",
    "    #5. Definimos el arreglo S que es el conjunto con los vertices del poligono\n",
    "    S = []\n",
    "    #6. Agegamos P0, P1, y P2 en la pila \n",
    "    S.append(P0)\n",
    "    S.append(p_sort_pila[0])\n",
    "    S.append(p_sort_pila[1])\n",
    "    #print(S)\n",
    "    #print(p_sort_pila)\n",
    "    #8. Reviso que todos vayan para la izquierda desde i = 3\n",
    "    #g = False #Suponiendo que da vuelta a la izquierda\n",
    "    for i in range(2,len(p_sort_pila)):\n",
    "        grafic_hull(S,P0,X,Y,len(S))\n",
    "        S.append(p_sort_pila[i])\n",
    "        d = Cross_product(S[-3],S[-2],S[-1])\n",
    "        while(d <= 0):\n",
    "            S.pop(-2) #Elimino el penultimo de S \n",
    "            d = Cross_product(S[-3],S[-2],S[-1])\n",
    "    #Por ultimo agregamos P0 otra vez   \n",
    "    S.append(P0)\n",
    "    #print(S)\n",
    "    return S, P0\n"
   ]
  },
  {
   "attachments": {},
   "cell_type": "markdown",
   "metadata": {},
   "source": [
    "## Parte de unir los dos convex hull"
   ]
  },
  {
   "cell_type": "code",
   "execution_count": 236,
   "metadata": {},
   "outputs": [],
   "source": [
    "# Para ver la Orientación entre los segmentos.\n",
    "def orientation(P0,P1,P2):\n",
    "    d = Cross_product(P0, P1, P2)\n",
    "    if d > 0: # Giro en sentido anti-horario\n",
    "        return 1\n",
    "    elif d == 0: # Paralelos\n",
    "        return 0\n",
    "    else:  # Giro en sentido horario\n",
    "        return -1\n"
   ]
  },
  {
   "cell_type": "code",
   "execution_count": 237,
   "metadata": {},
   "outputs": [],
   "source": [
    "def find_upper_tanget(i_1,i_2,S1,S2):\n",
    "    # Ya que encontramos los indices vamos a encontrar L1 que es la primera recta tangente, luego viendo \n",
    "    #La orientación vamos a encontrar la tangente superior L5 la cual va a ser como vamos a unir\n",
    "    # Ambos convex hull S1 y S2\n",
    "    Done = False\n",
    "    while(Done != True):\n",
    "        Done = False\n",
    "        #print('argumentos', 'A',S1[i_1],'B',S2[i_2],'C',S2[i_2-1])\n",
    "        while(orientation(S1[i_1],S2[i_2],S2[i_2-1]) >= 0):\n",
    "            i_2= i_2 - 1\n",
    "            #print('A',S1[i_1])\n",
    "            #print('B+1',S2[i_2], i_2)\n",
    "        while(orientation(S2[i_2],S1[i_1],S1[i_1+1]) <= 0):\n",
    "              i_1 = i_1+1 \n",
    "              #print(S1[i_1])\n",
    "              #print(S2[i_2])\n",
    "              Done = True\n",
    "        #    break\n",
    "        #Done = True\n",
    "            \n",
    "    #print(S1[i_1])\n",
    "    #print(S2[i_2])\n",
    "    return S1[i_1], S2[i_2]"
   ]
  },
  {
   "cell_type": "code",
   "execution_count": 238,
   "metadata": {},
   "outputs": [],
   "source": [
    "def find_lower_tanget(i_1,i_2,S1,S2):\n",
    "    Done = False\n",
    "    while(Done != True):\n",
    "        Done = False\n",
    "        #print('argumentos', 'A',S1[i_1],'B',S2[i_2],'C',S2[i_2+1])\n",
    "        while(orientation(S1[i_1],S2[i_2],S2[i_2+1]) <= 0):\n",
    "            i_2= i_2 + 1\n",
    "            #print('A',S1[i_1])\n",
    "            #print('B+1',S2[i_2], i_2)\n",
    "        while(orientation(S2[i_2],S1[i_1],S1[i_1-1]) >= 0):\n",
    "              i_1 = i_1-1 \n",
    "              #print(S1[i_1])\n",
    "              #print(S2[i_2])\n",
    "              Done = True\n",
    "        #    break\n",
    "        #Done = True\n",
    "            \n",
    "    #print(S1[i_1])\n",
    "    #print(S2[i_2])\n",
    "    return S1[i_1], S2[i_2]"
   ]
  },
  {
   "cell_type": "code",
   "execution_count": 243,
   "metadata": {},
   "outputs": [],
   "source": [
    "def quick_hull(P):\n",
    "    X = []\n",
    "    Y = []\n",
    "    #Separaremos los puntos de P en X y Y\n",
    "    for n in range(len(P)):\n",
    "        X.append(P[n][0])\n",
    "        Y.append(P[n][1])\n",
    "    #1. Organice el arreglo por la coordenada x\n",
    "    K = Sort_array(P)\n",
    "    # 2. Luego, divide ese arreglo en la mitad, para tomar dos subconjuntos del arreglo\n",
    "    K1,K2 = divide_halves(K)\n",
    "    # 3. A cada una de esas mitades realizamos el codigo de graham.\n",
    "    print('Paso a Paso, convex hull lado Izquiedo:')\n",
    "    S1,P01 = Algoritmo_Graham(X,Y,K1)\n",
    "    print('Paso a Paso, convex hull lado Derecho:')\n",
    "    S2,P02= Algoritmo_Graham(X,Y,K2)\n",
    "    n1 = len(S1)\n",
    "    n2 = len(S2)\n",
    "    #Graficamos\n",
    "    print('Resultado con dos convex hull:')\n",
    "    grafic_hull_divide(S1,S2,P01,P02,X,Y,n1,n2)\n",
    "    #------------------------------------------------------------------\n",
    "    ## ESTA PARTE ES PARA UNIR AMBOS CONVEX YA ENCONTRADOS\n",
    "    # primero debemos encontra el punto en S1 que esta más a la derecha y\n",
    "    # El punto en S2 que esta más a la izquierda.\n",
    "    # Y debemos guardar sus indices\n",
    "    i_1 = 0 #Va a guardar el indice del punto en S1 más a la derecha\n",
    "    i_2 = 0 #Va a guardar el indice del punto en S2 más a la Izquierda\n",
    "    for i in range(n1):\n",
    "        if S1[i][0] > S1[i_1][0]:\n",
    "            S1[i][0]\n",
    "            i_1 = i\n",
    "    \n",
    "    for i in range(n2):\n",
    "        if S2[i][0] <  S2[i_2][0]:\n",
    "            S2[i][0]\n",
    "            i_2 = i\n",
    "    # Encontramos la tangente superior de cada uno de los convex        \n",
    "    u1,u2 = find_upper_tanget(i_1,i_2,S1,S2)\n",
    "    # Encontramos las tangentes inferiores de cada uno de los convex\n",
    "    l1,l2 = find_lower_tanget(i_1,i_2,S1,S2)\n",
    "    # Eliminamos los P0 repetidos en cada uno de los convex\n",
    "    S1.pop(-1)\n",
    "    S2.pop(0)\n",
    "    # Elimino los puntos que ya no me interesan para pegar ambos convex,\n",
    "    #  teniendo en cuenta \n",
    "    # Los puntos que conforman las tangentes inferiores y superiores.\n",
    "    index_u1 = S1.index(u1)\n",
    "    index_l1 = S1.index(l1)\n",
    "    S1_left = S1[:index_l1+1]\n",
    "    S1_right = S1[index_u1:]\n",
    "    \n",
    "    #print('LeftS1:',S1_left)\n",
    "    #print('RightS1:',S1_right)\n",
    "\n",
    "    index_u2 = S2.index(u2)\n",
    "    index_l2 = S2.index(l2)\n",
    "    S2_left = S2[index_l2:index_u2+1]\n",
    "\n",
    "    #print('LeftS2:',S2_left)\n",
    "    #print('RightS2:',S2_right)\n",
    "    S_new = S1_left+S2_left+S1_right\n",
    "    S_new.append(S_new[0])\n",
    "    print('Convex hull final:')\n",
    "    grafic_hull(S_new,S_new[0], X, Y, len(S_new))\n",
    "        \n",
    "\n",
    "\n",
    "     "
   ]
  },
  {
   "cell_type": "code",
   "execution_count": 240,
   "metadata": {},
   "outputs": [],
   "source": [
    "#P = np.round(np.random.rand(20,2),4)\n",
    "#P = [[1,2],[2,1],[3,2],[4,2],[1,4],[4,4],[6,4],[7,3],[3,4]]\n",
    "P = [[4.4761, 1.994],[4.9466, 1.2667], [0.1991, 3.0293], [1.2734, 4.9885], [1.9589, 3.6342], [3.7172, 3.6357], [4.0876, 0.2972], [4.304, 2.2281], [3.2383, 3.0908], [3.1682, 3.7495], [0.7345, 4.7487], [3.968, 3.5959], [1.2508, 0.1982], [0.1991, 2.256], [0.1991, 1.562], [2.134, 1.562], [3.334, 1.562]]"
   ]
  },
  {
   "cell_type": "code",
   "execution_count": 241,
   "metadata": {},
   "outputs": [
    {
     "data": {
      "image/png": "[encoded data removed]",
      "text/plain": [
       "<Figure size 640x480 with 1 Axes>"
      ]
     },
     "metadata": {},
     "output_type": "display_data"
    },
    {
     "data": {
      "image/png": "[encoded data removed]",
      "text/plain": [
       "<Figure size 640x480 with 1 Axes>"
      ]
     },
     "metadata": {},
     "output_type": "display_data"
    }
   ],
   "source": [
    "quick_hull(P)"
   ]
  },
  {
   "attachments": {},
   "cell_type": "markdown",
   "metadata": {},
   "source": [
    "2.2 Which models could be implemented by the convex hull algorithm? Which systems\n",
    "could be described by the model? In those cases, what do represent the points and\n",
    "the hull?"
   ]
  },
  {
   "attachments": {},
   "cell_type": "markdown",
   "metadata": {},
   "source": [
    "- El algoritmo de *Convex Hull* tiene diversas y muy útiles aplicación, podemos observar diversos modelos que tengan en cuenta un conjunto de puntos o parámetros, los cuales se requiera una optimización, por ejemplo:\n",
    " podemos implementar este algoritmo en el procesamiento de imágenes, para detectar alguna deformidad ejemplo: cáncer, o quistes para validar el tamaño de estos o agruparlos. Otra, posible aplicación o un modelo que se puede realizar con el algoritmo *Convex Hull*, podría ser un sistema geográfico y reconocimiento de patrones. Un ejemplo más significativo es en el campo de la meteorología, los expertos utilizan el algoritmo de *Convex Hull* para determinar los sectores en el que ha llovido, donde cada punto podría representar un lugar, y al hacer el algoritmo podrías identificar el área en el que podemos identificar que ha llovido.\n"
   ]
  },
  {
   "attachments": {},
   "cell_type": "markdown",
   "metadata": {},
   "source": [
    "## Nota:\n",
    "Este punto tuvo como apoyo las siguientes referencias:\n",
    "\n",
    "[1]. Sharma, P. (2018, 2 julio). Divide and Conquer algorithm to find Convex Hull. OpenGenus IQ: Computing Expertise & Legacy. https://iq.opengenus.org/divide-and-conquer-convex-hull/\n",
    "\n",
    "[2].GeeksforGeeks. (2022, 22 junio). Convex Hull using Divide and Conquer Algorithm. https://www.geeksforgeeks.org/convex-hull-using-divide-and-conquer-algorithm/\n",
    "\n"
   ]
  },
  {
   "attachments": {},
   "cell_type": "markdown",
   "metadata": {},
   "source": [
    "3. Implement the sweep line algorithm and apply it to a set of 20 randomly\n",
    "generated segments to identify intersection points and intersecting segments."
   ]
  },
  {
   "attachments": {},
   "cell_type": "markdown",
   "metadata": {},
   "source": [
    "# SWEEP LINE\n",
    "\n",
    "Inicialmente defino un arbol, el cual se va a dedicar a organizar la COLA DE EVENTOS según la relación de Orden ≺.\n",
    "\n",
    "## Relación de orden ≺\n",
    "Dados dos puntos $P$ y $Q$ en $R^{2}$ se tiene que \n",
    "- $P < Q$  sii las coordenadas $P_{y} > Q_{y}$ ó $(P_{y} = Q_{y} $ y $P_{x} < Q_{x})$"
   ]
  },
  {
   "cell_type": "code",
   "execution_count": 244,
   "metadata": {},
   "outputs": [],
   "source": [
    "class queue_Events:\n",
    "    def __init__(self,punto):\n",
    "        self.point = punto\n",
    "        self.left = None\n",
    "        self.right = None\n",
    "\n",
    "def Insert_Sort_Event(raiz,punto):\n",
    "    if(raiz.point[1] < punto.point[1]):\n",
    "        if raiz.left is None:\n",
    "            raiz.left = punto\n",
    "        else:\n",
    "            Insert_Sort_Event(raiz.left,punto)\n",
    "    elif(raiz.point[1] == punto.point[1]):\n",
    "        if(raiz.point[0] > punto.point[0]):\n",
    "            if raiz.left is None:\n",
    "                raiz.left = punto\n",
    "            else:\n",
    "                Insert_Sort_Event(raiz.left,punto)\n",
    "        else:\n",
    "            if raiz.right is None:\n",
    "                raiz.right = punto\n",
    "            else:\n",
    "                Insert_Sort_Event(raiz.right,punto)\n",
    "    else:\n",
    "        if raiz.right is None:\n",
    "                raiz.right = punto\n",
    "        else:\n",
    "            Insert_Sort_Event(raiz.right,punto)"
   ]
  },
  {
   "attachments": {},
   "cell_type": "markdown",
   "metadata": {},
   "source": [
    "Tambien, Realice el inorder para organizer el arreglo de Izquierda, Raiz y derecha, así obteniendo el arreglo ordenado."
   ]
  },
  {
   "cell_type": "code",
   "execution_count": null,
   "metadata": {},
   "outputs": [],
   "source": [
    "#Usaremos inoder para leer los datos de Izquierda,Raiz y Derecha\n",
    "def inorder_queue(root):\n",
    "    inorderArr = []\n",
    "    if root.left is not None:\n",
    "        leftInorderArr = inorder_queue(root.left)\n",
    "        inorderArr.extend(leftInorderArr) #Toma el arreglo y los agrega como elementos y no un arreglo de arreglos\n",
    "    \n",
    "    inorderArr.append(root.point)\n",
    "    if root.right is not None:\n",
    "        rightInorderArr = inorder_queue(root.right)\n",
    "        inorderArr.extend(rightInorderArr) #Toma el arreglo y los agrega como elementos y no un arreglo de arreglos\n",
    "    \n",
    "    return inorderArr"
   ]
  },
  {
   "attachments": {},
   "cell_type": "markdown",
   "metadata": {},
   "source": [
    "Segundo, implemente el arbol para que fuera EL ESTADO DE LA LINEA DE BARRIDO\n",
    "- Este arbol se organiza según la coordenada x\n",
    "- Añadi un nuevo parametro el cual fueran las hojas y tener en cuenta los nodos(Lo cual es lo que ya hemos trabajado en clase)."
   ]
  },
  {
   "cell_type": "code",
   "execution_count": null,
   "metadata": {},
   "outputs": [],
   "source": []
  }
 ],
 "metadata": {
  "kernelspec": {
   "display_name": "Python 3",
   "language": "python",
   "name": "python3"
  },
  "language_info": {
   "codemirror_mode": {
    "name": "ipython",
    "version": 3
   },
   "file_extension": ".py",
   "mimetype": "text/x-python",
   "name": "python",
   "nbconvert_exporter": "python",
   "pygments_lexer": "ipython3",
   "version": "3.11.1"
  },
  "orig_nbformat": 4,
  "vscode": {
   "interpreter": {
    "hash": "28f17846d8da952c5c0ba0b6a7ac0a83f6cc7ba932a9e1ecc57983e8f99a4182"
   }
  }
 },
 "nbformat": 4,
 "nbformat_minor": 2
}
