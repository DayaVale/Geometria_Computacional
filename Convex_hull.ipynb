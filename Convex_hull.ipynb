{
 "cells": [
  {
   "attachments": {},
   "cell_type": "markdown",
   "id": "44a456c3",
   "metadata": {},
   "source": [
    "# Convex hull \n",
    "## (Envolvente Convexa)"
   ]
  },
  {
   "cell_type": "markdown",
   "id": "acd85d5f",
   "metadata": {},
   "source": [
    "# Librerías"
   ]
  },
  {
   "cell_type": "code",
   "execution_count": 12,
   "id": "a58d929a",
   "metadata": {},
   "outputs": [],
   "source": [
    "import matplotlib.pyplot as plt\n",
    "import numpy as np"
   ]
  },
  {
   "attachments": {},
   "cell_type": "markdown",
   "id": "e69d8ce9",
   "metadata": {},
   "source": [
    "# Problematica\n",
    "Dado un conjunto de puntos diferentes, finitos, mayores e iguales 3, no colineales. Encontrar su envolvente convexa. Mediante el algoritmo de graham podemos encontrar la envolvente convexa de un conjunto P de puntos."
   ]
  },
  {
   "attachments": {},
   "cell_type": "markdown",
   "id": "1fd4633b",
   "metadata": {},
   "source": [
    "### Escoger el P0"
   ]
  },
  {
   "cell_type": "code",
   "execution_count": 13,
   "id": "92a0f2bf",
   "metadata": {},
   "outputs": [],
   "source": [
    "def point_min(X,Y,P):\n",
    "    #Parte uno encontrar el minimo en X-coordenada\n",
    "\n",
    "    Xmin = X[0] #Tomo el primer valor de los puntos para ir comparando en el for\n",
    "    Ymin = Y[0] # Inicializo ymin en el primer valor de la lista\n",
    "    # 1. Tomar el que tiene la coordenada Xmin para el P0\n",
    "    for i in range(len(P)):\n",
    "        if Xmin > X[i]:\n",
    "            Xmin = X[i]\n",
    "            Ymin = P[i][1]\n",
    "        elif Xmin == X[i]:\n",
    "            if Ymin > Y[i]:\n",
    "                Xmin = Xmin\n",
    "                Ymin = P[i][1]\n",
    "    # Tenemos el punto de partida\n",
    "    P0 = [Xmin,Ymin]\n",
    "    return P0"
   ]
  },
  {
   "attachments": {},
   "cell_type": "markdown",
   "id": "f5d97c10",
   "metadata": {},
   "source": [
    "### Función angulo 1\n",
    "Para encotrar el angulo recordemos que el angulo se halla entre el punto p0 a el punto pn y con respecto a la horinzontal.\n",
    "$$\\theta = arctan(\\frac{(ph-p0)\\times(pn-p0)}{(ph-p0)*(pn-p0)})$$"
   ]
  },
  {
   "cell_type": "code",
   "execution_count": 14,
   "id": "e96d9f29",
   "metadata": {},
   "outputs": [],
   "source": [
    "#angulo del pn con p0 y la horizontal\n",
    "def ang(x0,y0,xh,yh,xn,yn):\n",
    "    cruz = ((xh-x0)*(yn-y0))-((xn-x0)*(yh-y0))\n",
    "    div = ((xh-x0)*(xn-x0))+((yh-y0)*(yn-y0))\n",
    "    theta = np.arctan2(cruz,div)\n",
    "    return theta"
   ]
  },
  {
   "attachments": {},
   "cell_type": "markdown",
   "id": "c17e7315",
   "metadata": {},
   "source": [
    "### Función angulo 2\n",
    "Para esta función calculamos la pendiente entre los puntos P0 y Pn, luego sacamos el arcotangente para encontrar el angúlo $\\theta$\n",
    "$$ \\theta = arctan(\\frac{yn-y0}{xn-x0}) $$"
   ]
  },
  {
   "cell_type": "code",
   "execution_count": 15,
   "id": "0223646f",
   "metadata": {},
   "outputs": [],
   "source": [
    "#Angulo con la pendiente\n",
    "def ang2(x0,y0,xn,yn):\n",
    "    m1 = yn-y0\n",
    "    m2 = xn-x0\n",
    "    theta = np.arctan2(m1,m2)\n",
    "    return(theta)"
   ]
  },
  {
   "attachments": {},
   "cell_type": "markdown",
   "id": "883d1bf8",
   "metadata": {},
   "source": [
    "## Distancia entre dos puntos"
   ]
  },
  {
   "cell_type": "code",
   "execution_count": 16,
   "id": "bf832ea1",
   "metadata": {},
   "outputs": [],
   "source": [
    "def dist(x0,y0,x1,y1):\n",
    "    di = np.sqrt((x1-x0)^2 + (y1-y0)^2)\n",
    "    return di "
   ]
  },
  {
   "attachments": {},
   "cell_type": "markdown",
   "id": "717528df",
   "metadata": {},
   "source": [
    "## Ordenar la lista por los angulos"
   ]
  },
  {
   "cell_type": "code",
   "execution_count": 17,
   "id": "dc265e4d",
   "metadata": {},
   "outputs": [],
   "source": [
    "def angles_sort(P0,P_new):\n",
    "    a = [] #Lista de punto con su respectivo angulo\n",
    "    angles=[] #lista de angulos\n",
    "    for n in P_new:\n",
    "        #m = ang(P0[0],P0[1],P0[0]+1,P0[1],n[0],n[1])\n",
    "        m = ang2(P0[0],P0[1],n[0],n[1])\n",
    "        if m is angles:\n",
    "            # Revisar que si tienen el mismo angulo escoger el de la mayor distancia\n",
    "            index = angles.index(m)\n",
    "            p_prev = P_new[index]\n",
    "            d1 = dist(P0[0],P0[1],n[0],n[1])\n",
    "            d2 = dist(P0[0],P0[1],p_prev[0],p_prev[1])\n",
    "            if d1 > d2:\n",
    "                a[index]=[n[0],n[1],m]\n",
    "        else:\n",
    "            a.append([n[0],n[1],m])\n",
    "            angles.append(m)\n",
    "\n",
    "\n",
    "    # 3.Debemos ordenar con respecto al angulo la lista\n",
    "    angulo = lambda a:a[2]\n",
    "    a.sort(key=angulo) #Organizado\n",
    "    #print(a)\n",
    "    #Vamos a revisar si encontramos dos puntos con la misma pendiente para tomar el que tenga \n",
    "    # la distancia más larga.\n",
    "    # 4. Agrupo los puntos en una pila con el orden anterior\n",
    "    p_sort_pila = []\n",
    "    for k in a:\n",
    "        p_sort_pila.append([k[0],k[1]])\n",
    "    return p_sort_pila"
   ]
  },
  {
   "attachments": {},
   "cell_type": "markdown",
   "id": "d59d9b20",
   "metadata": {},
   "source": [
    "## Punto cruz\n"
   ]
  },
  {
   "cell_type": "code",
   "execution_count": 18,
   "id": "5372b7ba",
   "metadata": {},
   "outputs": [],
   "source": [
    "def Producto_Cruz(P0,P1,P2):\n",
    "    d = ((P1[0]-P0[0])*(P2[1]-P0[1]))-((P2[0]-P0[0])*(P1[1]-P0[1]))\n",
    "    return d"
   ]
  },
  {
   "attachments": {},
   "cell_type": "markdown",
   "id": "24c7a4bc",
   "metadata": {},
   "source": [
    "## Graficar puntos"
   ]
  },
  {
   "cell_type": "code",
   "execution_count": 19,
   "id": "848b7b77",
   "metadata": {},
   "outputs": [],
   "source": [
    "def grafic_hull(S,P0,x,y,N):\n",
    "    xcor = []\n",
    "    ycor = []\n",
    "    for n in range (len(S)):\n",
    "        xcor.append(S[n][0])\n",
    "        ycor.append(S[n][1])\n",
    "    \n",
    "    plt.scatter(x,y)\n",
    "    plt.plot(P0[0],P0[1], \"ro\")\n",
    "    for n in range(N):\n",
    "        num = \"P\"+str(n)\n",
    "        #print(num)\n",
    "        plt.annotate(num , xy = (S[n][0], S[n][1]), xytext=(S[n][0], S[n][1]))\n",
    "    plt.plot(xcor,ycor)\n",
    "    plt.show()"
   ]
  },
  {
   "cell_type": "markdown",
   "id": "e9e5906e",
   "metadata": {},
   "source": [
    "# Algoritmo Graham"
   ]
  },
  {
   "cell_type": "code",
   "execution_count": 61,
   "id": "5a5aebc7",
   "metadata": {},
   "outputs": [],
   "source": [
    "# Entra un arreglo de arreglos con los valores de los puntos en X y Y\n",
    "def Algoritmo_Graham(P):\n",
    "    X = []\n",
    "    Y = []\n",
    "    #Separaremos los puntos de P en X y Y\n",
    "    for n in range(len(P)):\n",
    "        X.append(P[n][0])\n",
    "        Y.append(P[n][1])\n",
    "    # 1. Encontrar punto minimo en X-coordenada\n",
    "    P0 = point_min(X,Y,P)\n",
    "    #print(\"Punto de partida:\",P0)\n",
    "\n",
    "    #Quitamos el P0 de P creando así P nuevo\n",
    "    P_new =[]\n",
    "    for i in range(len(P)):\n",
    "        if np.all(P[i] != P0):\n",
    "            P_new.append(P[i])\n",
    "\n",
    "    #print(P_new)\n",
    "\n",
    "    #2. Calculo las pendientes de P0 -> Pi \n",
    "    p_sort_pila = angles_sort(P0,P_new)\n",
    "    #print(p_sort_pila)\n",
    "    #5. Definimos el arreglo S que es el conjunto con los vertices del poligono\n",
    "    S = []\n",
    "    #6. Agegamos P0, P1, y P2 en la pila \n",
    "    S.append(P0)\n",
    "    S.append(p_sort_pila[0])\n",
    "    S.append(p_sort_pila[1])\n",
    "    #print(S)\n",
    "    #print(p_sort_pila)\n",
    "    #8. Reviso que todos vayan para la izquierda desde i = 3\n",
    "    #g = False #Suponiendo que da vuelta a la izquierda\n",
    "    for i in range(2,len(p_sort_pila)):\n",
    "        #grafic_hull(S,P0,X,Y,len(S))\n",
    "        S.append(p_sort_pila[i])\n",
    "        d = Producto_Cruz(S[-3],S[-2],S[-1])\n",
    "        while(d <= 0):\n",
    "            S.pop(-2) #Elimino el penultimo de S \n",
    "            d = Producto_Cruz(S[-3],S[-2],S[-1])\n",
    "    #Por ultimo agregamos P0 otra vez   \n",
    "    S.append(P0)\n",
    "    #print(S)\n",
    "    grafic_hull(S,P0,X,Y,len(S))\n",
    "\n",
    "\n",
    "\n",
    "\n",
    "    "
   ]
  },
  {
   "cell_type": "code",
   "execution_count": 62,
   "id": "a0b7f767",
   "metadata": {},
   "outputs": [],
   "source": [
    "P = np.round(np.random.rand(20,2),4)\n",
    "#P = [[1,1],[1,3], [1,6], [2,1], [2,2],[2,4],[3,3],[3,6],[2,6],[4,6],[3,5],[4,4]]\n",
    "#print(P)\n",
    "#print(P[1][0])\n",
    "#print(len(P))\n"
   ]
  },
  {
   "cell_type": "code",
   "execution_count": 63,
   "id": "fb880090",
   "metadata": {},
   "outputs": [
    {
     "data": {
      "image/png": "[encoded data removed]",
      "text/plain": [
       "<Figure size 640x480 with 1 Axes>"
      ]
     },
     "metadata": {},
     "output_type": "display_data"
    }
   ],
   "source": [
    "Algoritmo_Graham(P)"
   ]
  }
 ],
 "metadata": {
  "kernelspec": {
   "display_name": "Python 3",
   "language": "python",
   "name": "python3"
  },
  "language_info": {
   "codemirror_mode": {
    "name": "ipython",
    "version": 3
   },
   "file_extension": ".py",
   "mimetype": "text/x-python",
   "name": "python",
   "nbconvert_exporter": "python",
   "pygments_lexer": "ipython3",
   "version": "3.11.1"
  },
  "vscode": {
   "interpreter": {
    "hash": "28f17846d8da952c5c0ba0b6a7ac0a83f6cc7ba932a9e1ecc57983e8f99a4182"
   }
  }
 },
 "nbformat": 4,
 "nbformat_minor": 5
}
