{
 "cells": [
  {
   "attachments": {},
   "cell_type": "markdown",
   "metadata": {},
   "source": [
    "# Lista de aristas doblemente conectadas\n",
    "## Librerias"
   ]
  },
  {
   "cell_type": "code",
   "execution_count": 1,
   "metadata": {},
   "outputs": [],
   "source": [
    "import numpy as np\n",
    "import matplotlib.pyplot as plt\n",
    "import pandas as pd"
   ]
  },
  {
   "attachments": {},
   "cell_type": "markdown",
   "metadata": {},
   "source": [
    "# Clases Inciales\n",
    "### 1. Clase vertice"
   ]
  },
  {
   "cell_type": "code",
   "execution_count": 2,
   "metadata": {},
   "outputs": [],
   "source": [
    "class vertex:\n",
    "    def __init__(self, x , y, name):\n",
    "        self.x = x\n",
    "        self.y = y\n",
    "        self.name = name"
   ]
  },
  {
   "attachments": {},
   "cell_type": "markdown",
   "metadata": {},
   "source": [
    "### 2. Clase Arista"
   ]
  },
  {
   "cell_type": "code",
   "execution_count": 3,
   "metadata": {},
   "outputs": [],
   "source": [
    "class half_edge:\n",
    "    def __init__(self,start,end,name):\n",
    "        self.oringe = start\n",
    "        self.queue = end\n",
    "        self.name = name"
   ]
  },
  {
   "attachments": {},
   "cell_type": "markdown",
   "metadata": {},
   "source": [
    "# Generar vertices y segmentos\n",
    "\n",
    "Realizar dos funciones en las cuale pueda generar una lista de vertices que ya tengan la clase VERTEX y otra lista que ya tenga la clase EDGE"
   ]
  },
  {
   "cell_type": "code",
   "execution_count": 4,
   "metadata": {},
   "outputs": [],
   "source": [
    "# Input: Ingreso la lista de los puntos del poligono (Organizado)\n",
    "# Output: Sale una lista de objetos vertex los cuales tienen [vertex(x,y, name)]\n",
    "def general_vertex(P):\n",
    "    list_vertex = []\n",
    "    for i in range(len(P)):\n",
    "        name = \"V\"+str(i+1)\n",
    "        v = vertex(P[i][0],P[i][1], name)\n",
    "        list_vertex.append(v)\n",
    "    return list_vertex"
   ]
  },
  {
   "cell_type": "code",
   "execution_count": 5,
   "metadata": {},
   "outputs": [],
   "source": [
    "# Input: Ingresas una lista de vertices y la cara a la que pertenecen\n",
    "# Output: Sale una lista de objeto de [half_edge(V[i], V[i+1], name_edge)]\n",
    "def general_edge(P, face):\n",
    "    list_half_edge = []\n",
    "    for i in range(len(P)):\n",
    "        name_edge = 'e'+str(i+1)+','+ face\n",
    "        if i == (len(P)-1):\n",
    "            e = half_edge(P[i], P[0], name_edge)\n",
    "        else: \n",
    "            e = half_edge(P[i], P[i+1], name_edge)\n",
    "\n",
    "        list_half_edge.append(e)  \n",
    "    return list_half_edge "
   ]
  },
  {
   "cell_type": "code",
   "execution_count": 6,
   "metadata": {},
   "outputs": [],
   "source": [
    "def general_dataFRame(lists,columns):\n",
    "    df = pd.DataFrame()\n",
    "    for i in range(len(columns)):\n",
    "        df[columns[i]] = lists[i]\n",
    "    return df "
   ]
  },
  {
   "attachments": {},
   "cell_type": "markdown",
   "metadata": {},
   "source": [
    "## Conceptos\n",
    "* **Arista incidente:** Si un vértice es el punto final de una arista, entonces\n",
    "decimos que el vértice y la arista son incidentes\n",
    "* Una cara y una arista de su frontera son incidentes, y una cara y un vértice de su frontera son incidentes.\n",
    "* Una lista de aristas doblemente conectadas contiene una lista por caras, nodos y semi-aristas.\n",
    "* Recorrer una cara en el sentido contrario a las agujas del reloj.\n",
    "* Si una semi-aristae tiene v como origen y w como destino, entonces su gemela Twin(e) tiene w como origen y v como destino.\n",
    "* Para llegar al límite de una cara basta con almacenar un puntero en el registro de caras a una media arista arbitraria que delimite la cara.\n",
    "* **límites de los agujeros de una cara:** si se recorren en sentido contrario a las agujas del reloj, la cara queda a la derecha.\n",
    "* Another consequence is that twin half-edges always have opposite orientations"
   ]
  },
  {
   "attachments": {},
   "cell_type": "markdown",
   "metadata": {},
   "source": [
    "\n",
    "## Lista de Nodos\n",
    "La lista de nodos contienen, inicialmente las coordenadas del punto (V), defino una semi- arista incidente.\n",
    "* The vertex record of a vertex v stores the coordinates of v in a field called\n",
    "Coordinates(v). It also stores a pointer IncidentEdge(v) to an arbitrary\n",
    "half-edge that has v as its origin."
   ]
  },
  {
   "cell_type": "code",
   "execution_count": 7,
   "metadata": {},
   "outputs": [],
   "source": [
    "# Input: List of sorted vertex, list sorted edge \n",
    "# Output: List of vetex with coordinates of v and incident edge. better vizualization is with DATAFRAME \n",
    "def list_vertex(P,le):\n",
    "    list_vertex = []\n",
    "    name_vertex =[]\n",
    "    lis = []\n",
    "    lis_all = []\n",
    "    half_edge_list = []\n",
    "    for i in range(len(P)):\n",
    "        name_vertex.append(P[i].name)\n",
    "        if P[i].name == le[i].oringe.name:\n",
    "            half_edge = le[i].name\n",
    "        half_edge_list.append(half_edge)\n",
    "        lis.append([P[i].x,P[i].y])\n",
    "        list_vertex.append([P[i],half_edge])\n",
    "    lis_all.append(name_vertex)\n",
    "    lis_all.append(lis)\n",
    "    lis_all.append(half_edge_list)\n",
    "    df = general_dataFRame(lis_all, ['Vertice','Coordenada','Semi_arista'])\n",
    "      \n",
    "    return list_vertex,df"
   ]
  },
  {
   "attachments": {},
   "cell_type": "markdown",
   "metadata": {},
   "source": [
    "## Lista de Caras\n",
    "* The face record of a face f stores a pointer OuterComponent( f ) to some\n",
    "half-edge on its outer boundary. For the unbounded face this pointer is nil.\n",
    "It also stores a list InnerComponents( f ), which contains for each hole in\n",
    "the face a pointer to some half-edge on the boundary of the hole."
   ]
  },
  {
   "attachments": {},
   "cell_type": "markdown",
   "metadata": {},
   "source": [
    "# Lista de Semi aristas\n",
    "* The half-edge record of a half-edge e stores a pointer Origin(e) to its origin,\n",
    "a pointer Twin(e) to its twin half-edge, and a pointer IncidentFace(e) to\n",
    "the face that it bounds. We don’t need to store the destination of an edge,\n",
    "because it is equal to Origin(Twin(e)). The origin is chosen such that \n",
    "IncidentFace(e) lies to the left of e when it is traversed from origin to\n",
    "destination. The half-edge record also stores pointers Next(e) and Prev(e)\n",
    "to the next and previous edge on the boundary of IncidentFace(e). Thus\n",
    "Next(e) is the unique half-edge on the boundary of IncidentFace(e) that has\n",
    "the destination of e as its origin, and Prev(e) is the unique half-edge on the\n",
    "boundary of IncidentFace(e) that has Origin(e) as its destination. "
   ]
  },
  {
   "cell_type": "code",
   "execution_count": 20,
   "metadata": {},
   "outputs": [],
   "source": [
    "#Input: Ingreso la list arista\n",
    "#Output: Sale la list arista gemela - Notación de la arista gemela es 'ei2'\n",
    "def twin(list_e):\n",
    "    list_twin = []\n",
    "    for i in range(len(list_e)):\n",
    "        name_twin_edge = 'e'+str(i+1)+',2'\n",
    "        e_twin = half_edge(list_e[i].queue,list_e[i].oringe,name_twin_edge)\n",
    "        list_twin.append(e_twin)\n",
    "    return list_twin\n"
   ]
  },
  {
   "cell_type": "code",
   "execution_count": 21,
   "metadata": {},
   "outputs": [],
   "source": [
    "def prev(lst):\n",
    "    list_prev = [] # Guardaremos el listado de las artistas previas, por su nombre 'eij' i-Arista j-cara\n",
    "    for i in range(len(lst)):\n",
    "        if i == 0:\n",
    "            list_prev.append(lst[len(lst)-1].name)\n",
    "        else:\n",
    "            list_prev.append(lst[i-1].name)\n",
    "    return list_prev"
   ]
  },
  {
   "cell_type": "code",
   "execution_count": 22,
   "metadata": {},
   "outputs": [],
   "source": [
    "def next(lst):\n",
    "    list_next = [] #Guardaremos el listado de las semi-aristas siguientes, por su nombre 'eij' i-Arista j-cara\n",
    "    for i in range(len(lst)):\n",
    "        if i == len(lst)-1:\n",
    "            list_next.append(lst[0].name)\n",
    "        else:\n",
    "            list_next.append(lst[i+1].name)\n",
    "    return list_next"
   ]
  },
  {
   "cell_type": "code",
   "execution_count": 23,
   "metadata": {},
   "outputs": [],
   "source": [
    "#Input: Entra una lista de semi-aristas con sus gemelos\n",
    "#Outpu: Salir una lista de el nombre del origen de las aristas\n",
    "def origen(lst):\n",
    "    list_ori = []\n",
    "    for i in lst:\n",
    "        list_ori.append(i.oringe.name)\n",
    "    return list_ori"
   ]
  },
  {
   "cell_type": "code",
   "execution_count": 32,
   "metadata": {},
   "outputs": [],
   "source": [
    "def name_edge(lst):\n",
    "    list_name_edge = []\n",
    "    for i in lst:\n",
    "        list_name_edge.append(i.name)\n",
    "    return list_name_edge"
   ]
  },
  {
   "cell_type": "code",
   "execution_count": 37,
   "metadata": {},
   "outputs": [],
   "source": [
    "def incidentface(lst):\n",
    "    Face = []\n",
    "    for i in lst:\n",
    "        Face.append('f'+i.name[3])\n",
    "    return Face"
   ]
  },
  {
   "cell_type": "code",
   "execution_count": 38,
   "metadata": {},
   "outputs": [],
   "source": [
    "#Input: Ingresar lista de aristas ordenadas\n",
    "def list_half_edge(le):# Primero hago una lista de todas las aristas y las nombro 'ei1'(le)\n",
    "    list_twin = twin(le) #Lista de aristas gemelas y la nombramos 'ei2'\n",
    "    list_whole_edge = le+list_twin # listado de todas las aristas con sus aristas gemelas\n",
    "    list_prev_e = prev(le) # Listado de las aristas previas para las semi-aristas \n",
    "    list_prev_t = prev(list_twin) # Listado de las aristas previas para las semi-aristas gemelas\n",
    "    list_next_e = next(le) # Listado de las aristas siguientes para las semi-aristas \n",
    "    list_next_t = next(list_twin) # Listado de las aristas siguientes para las semi-aristas gemelas \n",
    "    list_origin = origen(list_whole_edge) #Listado de los vertices de origen\n",
    "    list_incFace = incidentface(list_whole_edge) #Listado de caras incidentes\n",
    "    lst_edge_name = name_edge(list_whole_edge)\n",
    "    df = general_dataFRame([lst_edge_name,list_origin,list_next_e+list_next_t,\n",
    "                         list_prev_e+list_prev_t,list_incFace], ['Semi_arista','Origen',\n",
    "                                                                 'Next', 'Prev', 'Face'])\n",
    "    \n",
    "    return df\n",
    "\n"
   ]
  },
  {
   "cell_type": "code",
   "execution_count": 13,
   "metadata": {},
   "outputs": [
    {
     "data": {
      "text/html": [
       "<div>\n",
       "<style scoped>\n",
       "    .dataframe tbody tr th:only-of-type {\n",
       "        vertical-align: middle;\n",
       "    }\n",
       "\n",
       "    .dataframe tbody tr th {\n",
       "        vertical-align: top;\n",
       "    }\n",
       "\n",
       "    .dataframe thead th {\n",
       "        text-align: right;\n",
       "    }\n",
       "</style>\n",
       "<table border=\"1\" class=\"dataframe\">\n",
       "  <thead>\n",
       "    <tr style=\"text-align: right;\">\n",
       "      <th></th>\n",
       "      <th>Vertice</th>\n",
       "      <th>Coordenada</th>\n",
       "      <th>Semi_arista</th>\n",
       "    </tr>\n",
       "  </thead>\n",
       "  <tbody>\n",
       "    <tr>\n",
       "      <th>0</th>\n",
       "      <td>V1</td>\n",
       "      <td>[0, 1]</td>\n",
       "      <td>e1,1</td>\n",
       "    </tr>\n",
       "    <tr>\n",
       "      <th>1</th>\n",
       "      <td>V2</td>\n",
       "      <td>[-1, 0]</td>\n",
       "      <td>e2,1</td>\n",
       "    </tr>\n",
       "    <tr>\n",
       "      <th>2</th>\n",
       "      <td>V3</td>\n",
       "      <td>[0, -1]</td>\n",
       "      <td>e3,1</td>\n",
       "    </tr>\n",
       "    <tr>\n",
       "      <th>3</th>\n",
       "      <td>V4</td>\n",
       "      <td>[1, 0]</td>\n",
       "      <td>e4,1</td>\n",
       "    </tr>\n",
       "  </tbody>\n",
       "</table>\n",
       "</div>"
      ],
      "text/plain": [
       "  Vertice Coordenada Semi_arista\n",
       "0      V1     [0, 1]        e1,1\n",
       "1      V2    [-1, 0]        e2,1\n",
       "2      V3    [0, -1]        e3,1\n",
       "3      V4     [1, 0]        e4,1"
      ]
     },
     "execution_count": 13,
     "metadata": {},
     "output_type": "execute_result"
    }
   ],
   "source": [
    "P  = [[0,1], [-1,0],[0,-1],[1,0]]\n",
    "ls = general_vertex(P) #genera los vertex en objetos\n",
    "lf = general_edge(ls,'1') #Genera las aristas en objetos\n",
    "l1, df = list_vertex(ls,lf) #Sale la lista de vertices, para visualizar mejor vemos el dataframe df.\n",
    "df.head()\n"
   ]
  },
  {
   "cell_type": "code",
   "execution_count": 39,
   "metadata": {},
   "outputs": [
    {
     "data": {
      "text/html": [
       "<div>\n",
       "<style scoped>\n",
       "    .dataframe tbody tr th:only-of-type {\n",
       "        vertical-align: middle;\n",
       "    }\n",
       "\n",
       "    .dataframe tbody tr th {\n",
       "        vertical-align: top;\n",
       "    }\n",
       "\n",
       "    .dataframe thead th {\n",
       "        text-align: right;\n",
       "    }\n",
       "</style>\n",
       "<table border=\"1\" class=\"dataframe\">\n",
       "  <thead>\n",
       "    <tr style=\"text-align: right;\">\n",
       "      <th></th>\n",
       "      <th>Semi_arista</th>\n",
       "      <th>Origen</th>\n",
       "      <th>Next</th>\n",
       "      <th>Prev</th>\n",
       "      <th>Face</th>\n",
       "    </tr>\n",
       "  </thead>\n",
       "  <tbody>\n",
       "    <tr>\n",
       "      <th>0</th>\n",
       "      <td>e1,1</td>\n",
       "      <td>V1</td>\n",
       "      <td>e2,1</td>\n",
       "      <td>e4,1</td>\n",
       "      <td>f1</td>\n",
       "    </tr>\n",
       "    <tr>\n",
       "      <th>1</th>\n",
       "      <td>e2,1</td>\n",
       "      <td>V2</td>\n",
       "      <td>e3,1</td>\n",
       "      <td>e1,1</td>\n",
       "      <td>f1</td>\n",
       "    </tr>\n",
       "    <tr>\n",
       "      <th>2</th>\n",
       "      <td>e3,1</td>\n",
       "      <td>V3</td>\n",
       "      <td>e4,1</td>\n",
       "      <td>e2,1</td>\n",
       "      <td>f1</td>\n",
       "    </tr>\n",
       "    <tr>\n",
       "      <th>3</th>\n",
       "      <td>e4,1</td>\n",
       "      <td>V4</td>\n",
       "      <td>e1,1</td>\n",
       "      <td>e3,1</td>\n",
       "      <td>f1</td>\n",
       "    </tr>\n",
       "    <tr>\n",
       "      <th>4</th>\n",
       "      <td>e1,2</td>\n",
       "      <td>V2</td>\n",
       "      <td>e2,2</td>\n",
       "      <td>e4,2</td>\n",
       "      <td>f2</td>\n",
       "    </tr>\n",
       "  </tbody>\n",
       "</table>\n",
       "</div>"
      ],
      "text/plain": [
       "  Semi_arista Origen  Next  Prev Face\n",
       "0        e1,1     V1  e2,1  e4,1   f1\n",
       "1        e2,1     V2  e3,1  e1,1   f1\n",
       "2        e3,1     V3  e4,1  e2,1   f1\n",
       "3        e4,1     V4  e1,1  e3,1   f1\n",
       "4        e1,2     V2  e2,2  e4,2   f2"
      ]
     },
     "execution_count": 39,
     "metadata": {},
     "output_type": "execute_result"
    }
   ],
   "source": [
    "dl = list_half_edge(lf)\n",
    "dl.head()"
   ]
  },
  {
   "attachments": {},
   "cell_type": "markdown",
   "metadata": {},
   "source": [
    "## Algoritmo Superposición de subdivisiones"
   ]
  },
  {
   "cell_type": "code",
   "execution_count": null,
   "metadata": {},
   "outputs": [],
   "source": []
  }
 ],
 "metadata": {
  "kernelspec": {
   "display_name": "Python 3",
   "language": "python",
   "name": "python3"
  },
  "language_info": {
   "codemirror_mode": {
    "name": "ipython",
    "version": 3
   },
   "file_extension": ".py",
   "mimetype": "text/x-python",
   "name": "python",
   "nbconvert_exporter": "python",
   "pygments_lexer": "ipython3",
   "version": "3.11.1"
  },
  "orig_nbformat": 4
 },
 "nbformat": 4,
 "nbformat_minor": 2
}
