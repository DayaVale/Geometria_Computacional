{
 "cells": [
  {
   "attachments": {},
   "cell_type": "markdown",
   "metadata": {},
   "source": [
    "# Homework 2 \n",
    "\n",
    "*Student: Dayana Valentina Gonzalez Vargas*\n",
    "\n",
    "## Libraries"
   ]
  },
  {
   "cell_type": "code",
   "execution_count": 1,
   "metadata": {},
   "outputs": [],
   "source": [
    "import matplotlib.pyplot as plt\n",
    "import numpy as np\n",
    "import math"
   ]
  },
  {
   "attachments": {},
   "cell_type": "markdown",
   "metadata": {},
   "source": [
    "1. Write down a code able to read the data that is attached and create a\n",
    "doubly-connected edge list for the simple polygon."
   ]
  },
  {
   "attachments": {},
   "cell_type": "markdown",
   "metadata": {},
   "source": [
    "## Doubly-connected edge list\n",
    "### Main Classes\n",
    "\n",
    "- **Class Vertex**"
   ]
  },
  {
   "cell_type": "code",
   "execution_count": 6,
   "metadata": {},
   "outputs": [],
   "source": [
    "class vertex:\n",
    "    def __init__(self, x , y, name):\n",
    "        self.x = x ## Coordinate X\n",
    "        self.y = y ## Coordinate Y\n",
    "        self.name = name ## Name's vertex\n",
    "        self.edge_inci = None ## Incident Edge\n",
    "        self.type = None #Type vertex Start,end,regular,merge o split\n",
    "\n",
    "    ## Add Incident Edge\n",
    "    def add_edge_inci(self,e):\n",
    "        self.edge_inci = e\n",
    "\n",
    "    ##Relation of order binary -> 0 below, -> 1 above.\n",
    "    def r_order_binary(self,q):\n",
    "        if self.y > q.y:\n",
    "            return 0\n",
    "        elif self.y == q.y:\n",
    "            if self.x < q.x:\n",
    "                return 0\n",
    "            else:\n",
    "                return 1\n",
    "        else:\n",
    "            return 1\n",
    "    \n",
    "    #Relation of order, Output: point\n",
    "    def r_orden(self,q):\n",
    "        if self.y > q.y:\n",
    "            point = self\n",
    "        elif self.y == q.y:\n",
    "            if self.x < q.x:\n",
    "                point = self\n",
    "            else:\n",
    "                point = q\n",
    "        else:\n",
    "            point = q\n",
    "        return point\n"
   ]
  },
  {
   "attachments": {},
   "cell_type": "markdown",
   "metadata": {},
   "source": [
    "- **Class Edge**"
   ]
  },
  {
   "cell_type": "code",
   "execution_count": 37,
   "metadata": {},
   "outputs": [],
   "source": [
    "class half_edge:\n",
    "    def __init__(self,start,end,name):\n",
    "        self.origin = start #Origin\n",
    "        self.queue = end #Queue\n",
    "        self.name = name #Name\n",
    "        self.next = None #Next\n",
    "        self.prev = None #Prev\n",
    "        self.face = None #Incident Face\n",
    "        self.twin = twin(self) #General Twin\n",
    "        self.twin_save = None  #Save Twin\n",
    "\n",
    "    global twin\n",
    "    def twin(self): #General Twin\n",
    "        return self.queue, self.origin\n",
    "    \n",
    "    #Save Twin\n",
    "    def add_twin_save(self,t):\n",
    "        self.twin_save = t #Twin have to be object Edge\n",
    "    \n",
    "    def add_next(self,n):\n",
    "        self.next = n #Next have to be object Edge\n",
    "    \n",
    "    def add_prev(self,pv):\n",
    "        self.prev = pv #Prev have to be object Edge\n",
    "\n",
    "    def add_face(self,f):\n",
    "        self.face = f #Face have to be object Face  \n",
    "\n",
    "    def add_twin(self,t):\n",
    "          self.twin = t # Twin have to be object Edge"
   ]
  },
  {
   "attachments": {},
   "cell_type": "markdown",
   "metadata": {},
   "source": [
    "- **Class Face**"
   ]
  },
  {
   "cell_type": "code",
   "execution_count": 5,
   "metadata": {},
   "outputs": [],
   "source": [
    "class face:\n",
    "    def __init__(self,n):\n",
    "        self.name = n #Name\n",
    "        self.exterior = 'None' #External border\n",
    "        self.interior = 'None' #Internal border"
   ]
  },
  {
   "attachments": {},
   "cell_type": "markdown",
   "metadata": {},
   "source": [
    "## we must take into account this fuction:\n",
    "- Cross product\n",
    "- Orientation"
   ]
  },
  {
   "cell_type": "code",
   "execution_count": 7,
   "metadata": {},
   "outputs": [],
   "source": [
    "# P0 : Point prev origin\n",
    "# P1 : Point edge origin\n",
    "# P2 : Point next origin\n",
    "def Producto_Cruz(P0,P1,P2):\n",
    "    d = ((P1.x-P0.x)*(P2.y-P0.y))-((P2.x-P0.x)*(P1.y-P0.y))\n",
    "    return d"
   ]
  },
  {
   "cell_type": "code",
   "execution_count": 8,
   "metadata": {},
   "outputs": [],
   "source": [
    "# P0 : Point prev origin\n",
    "# P1 : Point edge origin\n",
    "# P2 : Point next origin\n",
    "#Orientation\n",
    "def orientacion(P0,P1,P2):\n",
    "    d = Producto_Cruz(P0,P1,P2)\n",
    "    if d>0:\n",
    "        a = True\n",
    "        print(\"P2 se hace un giro en sentido horario de P1\")\n",
    "    else:\n",
    "        a = False\n",
    "        print(\"P2 esta girando en sentido Anti horario de P1\")\n",
    "    return a "
   ]
  },
  {
   "attachments": {},
   "cell_type": "markdown",
   "metadata": {},
   "source": [
    "## Class DCLE\n",
    "For this class we will take into account the objects defined above, as well as concepts seen in class such as the following:\n",
    "### Conceptos\n",
    "* **Arista incidente:** Si un vértice es el punto final de una arista, entonces\n",
    "decimos que el vértice y la arista son incidentes\n",
    "* Una cara y una arista de su frontera son incidentes, y una cara y un vértice de su frontera son incidentes.\n",
    "* Una lista de aristas doblemente conectadas contiene una lista por caras, nodos y semi-aristas.\n",
    "* Recorrer una cara en el sentido contrario a las agujas del reloj.\n",
    "* Si una semi-aristae tiene v como origen y w como destino, entonces su gemela Twin(e) tiene w como origen y v como destino.\n",
    "* Para llegar al límite de una cara basta con almacenar un puntero en el registro de caras a una media arista arbitraria que delimite la cara.\n",
    "* **límites de los agujeros de una cara:** si se recorren en sentido contrario a las agujas del reloj, la cara queda a la derecha.\n",
    "* Another consequence is that twin half-edges always have opposite orientations\n",
    "* Frontera interior giro en sentido antihorario\n",
    "* Frontera exterior giro en setido horario"
   ]
  },
  {
   "cell_type": "code",
   "execution_count": 48,
   "metadata": {},
   "outputs": [],
   "source": [
    "class DCEL():\n",
    "    # We insert only the list object vertex\n",
    "    def __init__(self,vertex):\n",
    "        self.list_edge = []\n",
    "        self.list_vertex = vertex\n",
    "        self.list_face = []\n",
    "\n",
    "    #----------------------------------------------------------------\n",
    "    #Generate the twins with their characteristics\n",
    "    def _add_twin(self):\n",
    "        #Lists\n",
    "        twins = []\n",
    "        twins_sorted = []\n",
    "\n",
    "        #General twins\n",
    "        edges_copy = self.list_edge.copy()\n",
    "        for i in range(len(edges_copy)):\n",
    "            t_start, t_end = twin(edges_copy[i])\n",
    "            tn = half_edge(t_start,t_end,'te'+str(i+1))\n",
    "            tn.add_twin_save(self.list_edge[i])\n",
    "            twins.append(tn)\n",
    "\n",
    "        print('Entro2')\n",
    "        \n",
    "        # Organizamos para que quede de manera ciclica y agremaos el next\n",
    "        origen = twins[0].queue\n",
    "        a = True\n",
    "        while(a != False):\n",
    "            edge_next = [i for i in twins  if i.origin == origen]\n",
    "            twins_sorted.append(edge_next[0])\n",
    "            origen = edge_next[0].queue\n",
    "            if len(twins_sorted) == len(twins):\n",
    "                a = False\n",
    "\n",
    "\n",
    "        index = len(self.list_edge) - len(twins_sorted)\n",
    "        twin_Already = []\n",
    "        # Add Next and Prev\n",
    "        for i in range(0,len(twins_sorted)+1):\n",
    "            if i == 0:\n",
    "                self.list_edge.append(twins_sorted[0])\n",
    "            else:\n",
    "                prev_twin = self.list_edge[-1]\n",
    "                if i == len(twins_sorted):\n",
    "                    index = len(self.list_edge) - len(twins_sorted)\n",
    "                    prev_twin.add_next(self.list_edge[index])\n",
    "                    self.list_edge[index].add_prev(prev_twin)\n",
    "                    self.list_edge[-1] = prev_twin\n",
    "                    twin_Already.append(self.list_edge[index])\n",
    "                else:\n",
    "                    twins_sorted[i].add_prev(prev_twin)\n",
    "                    prev_twin.add_next(twins_sorted[i])\n",
    "                    self.list_edge.append(twins_sorted[i])\n",
    "                    twin_Already.append(twins_sorted[i])\n",
    "        \n",
    "        # Add to list of edges\n",
    "        for i in range(len(self.list_edge)):\n",
    "            start_t, end_t = twin(self.list_edge[i])\n",
    "            for j in twin_Already:\n",
    "                if (j.origin == start_t) and (j.queue == end_t):\n",
    "                    self.list_edge[i].add_twin_save(j)\n",
    "\n",
    "    #------------------------------------------------------------------------------\n",
    "    #add objects next and prev\n",
    "    def _add_next(self):\n",
    "        for i in range(len(self.list_edge)):\n",
    "            if i == len(self.list_edge)-1:\n",
    "                self.list_edge[i].add_next(self.list_edge[0])\n",
    "            else:\n",
    "                self.list_edge[i].add_next(self.list_edge[i+1])   \n",
    "    \n",
    "    def _add_prev(self):\n",
    "        for i in range(len(self.list_edge)):\n",
    "            if i == 0:\n",
    "                self.list_edge[i].add_prev(self.list_edge[len(self.list_edge)-1])\n",
    "            else:\n",
    "                self.list_edge[i].add_prev(self.list_edge[i-1])\n",
    "    #------------------------------------------------------------------------------\n",
    "\n",
    "    #General list of edges\n",
    "    def create_half_edge(self):\n",
    "        print('Entro')\n",
    "        for i in range(len(self.list_vertex)): \n",
    "            name_edge = 'e'+str(i+1)\n",
    "            if i == (len(self.list_vertex)-1):\n",
    "                e = half_edge(self.list_vertex[i], self.list_vertex[0], name_edge)\n",
    "                self.list_vertex[i].add_edge_inci(e)\n",
    "            else: \n",
    "                e = half_edge(self.list_vertex[i], self.list_vertex[i+1], name_edge)\n",
    "                self.list_vertex[i].add_edge_inci(e)\n",
    "\n",
    "            self.list_edge.append(e)\n",
    "\n",
    "        self._add_next()\n",
    "        self._add_prev()\n",
    "        self._add_twin()\n",
    "\n",
    "    #-----------------------------------------------------------------------------------\n",
    "    ##El mas arriba a la izq\n",
    "    def p_up(self):\n",
    "        p = self.list_vertex[0]\n",
    "        for i in range(len(self.list_vertex)):\n",
    "            if self.list_vertex[i] == p:\n",
    "                p = p.r_orden(self.list_vertex[i+1])\n",
    "            else:\n",
    "                p = p.r_orden(self.list_vertex[i])\n",
    "        return p\n",
    "    \n",
    "    #-----------------------------------------------------------------------------------\n",
    "    #generar un ciclo \n",
    "    def cicle(self,e,f):\n",
    "        e.add_face(f)\n",
    "        edge = e\n",
    "        e = e.next\n",
    "        while(e != edge):\n",
    "            e.add_face(f)\n",
    "            e = e.next\n",
    "    \n",
    "    #----------------------------------------------------------------------------------\n",
    "    #General list Face\n",
    "    def create_face(self):\n",
    "        Inter,exter = face('I'),face('E')\n",
    "        \n",
    "        #Punto más arriba a la izquierda \n",
    "        p = self.p_up()\n",
    "        idex = 0\n",
    "        # Asegurarse de tomar la arista e que tenga ese punto como origen y que no sea la gemela\n",
    "        for i in self.list_edge:\n",
    "            if (p == i.origin) and (i.name == 'e'):\n",
    "                idex = self.list_edge.index(i)\n",
    "        \n",
    "        e_inc = self.list_edge[idex]\n",
    "        start_t,end_t = twin(e_inc)\n",
    "        e_twin = None\n",
    "        #Encontrar el gemelo\n",
    "        for i in self.list_edge:\n",
    "            if (i.origin == start_t) and (i.queue == end_t):\n",
    "                e_twin =i\n",
    "\n",
    "        a = orientacion(e_inc.origin,e_inc.next.origin,e_inc.next.queue)\n",
    "        if a == True:\n",
    "            Inter.interior = e_inc\n",
    "            self.cicle(e_inc,Inter)\n",
    "            exter.exterior = e_twin\n",
    "            self.cicle(e_twin,exter)\n",
    "            print('Las aristas que conformar dicho ciclo son frontera de cara interior')\n",
    "        else:\n",
    "            exter.exterior = e_inc\n",
    "            self.cicle(e_inc,exter)\n",
    "            Inter.interior = e_twin\n",
    "            self.cicle(e_twin,exter)\n",
    "            print('Las aristas que conformar dicho ciclo son frontera de cara exterior')\n",
    "            \n",
    "        self.list_face.append(Inter)\n",
    "        self.list_face.append(exter)\n",
    "\n",
    "    #-----------------------------------------------------------------------------------   \n",
    "    #  General the list of face and half-edge\n",
    "    def create_edge_face(self):\n",
    "        self.create_half_edge()\n",
    "        self.create_face()"
   ]
  },
  {
   "attachments": {},
   "cell_type": "markdown",
   "metadata": {},
   "source": [
    "**General Vertex**"
   ]
  },
  {
   "cell_type": "code",
   "execution_count": 9,
   "metadata": {},
   "outputs": [],
   "source": [
    "def general_vertex(P):\n",
    "    list_vertex = []\n",
    "    for i in range(len(P)):\n",
    "        name = \"V\"+str(i+1)\n",
    "        v = vertex(P[i][0],P[i][1], name)\n",
    "        list_vertex.append(v)\n",
    "    return list_vertex"
   ]
  },
  {
   "attachments": {},
   "cell_type": "markdown",
   "metadata": {},
   "source": [
    "### Part READ FILE"
   ]
  },
  {
   "cell_type": "code",
   "execution_count": 29,
   "metadata": {},
   "outputs": [
    {
     "name": "stdout",
     "output_type": "stream",
     "text": [
      "Polynomial Points\n",
      "[[9.0, 0.5], [8.0, 6.0], [7.0, -3.0], [6.0, 3.0], [4.0, -4.0], [2.0, -3.0], [3.0, 4.0], [4.0, 2.5], [5.0, 12.0], [7.0, 8.5], [8.0, 12.0], [9.5, 11.0], [11.0, 15.0], [13.0, 13.0], [12.0, 10.0], [13.0, 3.0], [11.0, 4.0], [10.0, -1.0]]\n"
     ]
    }
   ],
   "source": [
    "# Read and save points\n",
    "file = open(\"datos.txt\")\n",
    "P = file.read().split('), (')\n",
    "file.close()\n",
    "\n",
    "#Delete the (( start, end ))\n",
    "P[0]= P[0][2:]\n",
    "P[-1] = P[-1][:-2]\n",
    "\n",
    "#take vertex for polynomial\n",
    "P_new = []\n",
    "for i in P:\n",
    "    point = i.split(',')\n",
    "    P_new.append([float(point[0]),float(point[1])])\n",
    "\n",
    "print('Polynomial Points')\n",
    "print(P_new[:-1])\n",
    "\n",
    "    "
   ]
  },
  {
   "attachments": {},
   "cell_type": "markdown",
   "metadata": {},
   "source": [
    "**Result 1.**"
   ]
  },
  {
   "cell_type": "code",
   "execution_count": 49,
   "metadata": {},
   "outputs": [
    {
     "name": "stdout",
     "output_type": "stream",
     "text": [
      "Entro\n",
      "Entro2\n",
      "P2 se hace un giro en sentido horario de P1\n",
      "Las aristas que conformar dicho ciclo son frontera de cara interior\n"
     ]
    }
   ],
   "source": [
    "#General list vertex\n",
    "lv = general_vertex(P_new[:-1])\n",
    "\n",
    "#General DCEL\n",
    "DCEL1 = DCEL(lv)\n",
    "DCEL1.create_edge_face()"
   ]
  },
  {
   "attachments": {},
   "cell_type": "markdown",
   "metadata": {},
   "source": [
    "## List vertex"
   ]
  },
  {
   "cell_type": "code",
   "execution_count": 51,
   "metadata": {},
   "outputs": [
    {
     "name": "stdout",
     "output_type": "stream",
     "text": [
      "vertex Incident edge coordinate\n",
      "V1 e1 [9.0, 0.5]\n",
      "V2 e2 [8.0, 6.0]\n",
      "V3 e3 [7.0, -3.0]\n",
      "V4 e4 [6.0, 3.0]\n",
      "V5 e5 [4.0, -4.0]\n",
      "V6 e6 [2.0, -3.0]\n",
      "V7 e7 [3.0, 4.0]\n",
      "V8 e8 [4.0, 2.5]\n",
      "V9 e9 [5.0, 12.0]\n",
      "V10 e10 [7.0, 8.5]\n",
      "V11 e11 [8.0, 12.0]\n",
      "V12 e12 [9.5, 11.0]\n",
      "V13 e13 [11.0, 15.0]\n",
      "V14 e14 [13.0, 13.0]\n",
      "V15 e15 [12.0, 10.0]\n",
      "V16 e16 [13.0, 3.0]\n",
      "V17 e17 [11.0, 4.0]\n",
      "V18 e18 [10.0, -1.0]\n"
     ]
    }
   ],
   "source": [
    "print('vertex','Incident edge', 'coordinate')\n",
    "for i in range(len(DCEL1.list_vertex)):\n",
    "    print(DCEL1.list_vertex[i].name,DCEL1.list_vertex[i].edge_inci.name,[DCEL1.list_vertex[i].x,DCEL1.list_vertex[i].y])"
   ]
  },
  {
   "attachments": {},
   "cell_type": "markdown",
   "metadata": {},
   "source": [
    "## List Half-edge"
   ]
  },
  {
   "cell_type": "code",
   "execution_count": 52,
   "metadata": {},
   "outputs": [
    {
     "name": "stdout",
     "output_type": "stream",
     "text": [
      "V1 e1 e2 e18 I te1\n",
      "V2 e2 e3 e1 I te2\n",
      "V3 e3 e4 e2 I te3\n",
      "V4 e4 e5 e3 I te4\n",
      "V5 e5 e6 e4 I te5\n",
      "V6 e6 e7 e5 I te6\n",
      "V7 e7 e8 e6 I te7\n",
      "V8 e8 e9 e7 I te8\n",
      "V9 e9 e10 e8 I te9\n",
      "V10 e10 e11 e9 I te10\n",
      "V11 e11 e12 e10 I te11\n",
      "V12 e12 e13 e11 I te12\n",
      "V13 e13 e14 e12 I te13\n",
      "V14 e14 e15 e13 I te14\n",
      "V15 e15 e16 e14 I te15\n",
      "V16 e16 e17 e15 I te16\n",
      "V17 e17 e18 e16 I te17\n",
      "V18 e18 e1 e17 I te18\n",
      "V1 te18 te17 te1 E e18\n",
      "V18 te17 te16 te18 E e17\n",
      "V17 te16 te15 te17 E e16\n",
      "V16 te15 te14 te16 E e15\n",
      "V15 te14 te13 te15 E e14\n",
      "V14 te13 te12 te14 E e13\n",
      "V13 te12 te11 te13 E e12\n",
      "V12 te11 te10 te12 E e11\n",
      "V11 te10 te9 te11 E e10\n",
      "V10 te9 te8 te10 E e9\n",
      "V9 te8 te7 te9 E e8\n",
      "V8 te7 te6 te8 E e7\n",
      "V7 te6 te5 te7 E e6\n",
      "V6 te5 te4 te6 E e5\n",
      "V5 te4 te3 te5 E e4\n",
      "V4 te3 te2 te4 E e3\n",
      "V3 te2 te1 te3 E e2\n",
      "V2 te1 te18 te2 E e1\n"
     ]
    }
   ],
   "source": [
    "for i in range(len(DCEL1.list_edge)):\n",
    "    print(DCEL1.list_edge[i].origin.name,DCEL1.list_edge[i].name,\n",
    "          DCEL1.list_edge[i].next.name,DCEL1.list_edge[i].prev.name,\n",
    "          DCEL1.list_edge[i].face.name, DCEL1.list_edge[i].twin_save.name)"
   ]
  },
  {
   "attachments": {},
   "cell_type": "markdown",
   "metadata": {},
   "source": [
    "## List face"
   ]
  },
  {
   "cell_type": "code",
   "execution_count": 53,
   "metadata": {},
   "outputs": [
    {
     "name": "stdout",
     "output_type": "stream",
     "text": [
      "I None e1\n",
      "E te1 None\n"
     ]
    }
   ],
   "source": [
    "print(DCEL1.list_face[0].name, 'None', DCEL1.list_face[0].interior.name)\n",
    "print(DCEL1.list_face[1].name, DCEL1.list_face[1].exterior.name, 'None')"
   ]
  },
  {
   "attachments": {},
   "cell_type": "markdown",
   "metadata": {},
   "source": [
    "## Polygon graph"
   ]
  }
 ],
 "metadata": {
  "kernelspec": {
   "display_name": "Python 3",
   "language": "python",
   "name": "python3"
  },
  "language_info": {
   "codemirror_mode": {
    "name": "ipython",
    "version": 3
   },
   "file_extension": ".py",
   "mimetype": "text/x-python",
   "name": "python",
   "nbconvert_exporter": "python",
   "pygments_lexer": "ipython3",
   "version": "3.11.1"
  },
  "orig_nbformat": 4
 },
 "nbformat": 4,
 "nbformat_minor": 2
}
