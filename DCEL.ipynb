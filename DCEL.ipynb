{
 "cells": [
  {
   "attachments": {},
   "cell_type": "markdown",
   "metadata": {},
   "source": [
    "# Lista de aristas doblemente conectadas\n",
    "## Librerias"
   ]
  },
  {
   "cell_type": "code",
   "execution_count": 1,
   "metadata": {},
   "outputs": [],
   "source": [
    "import numpy as np\n",
    "import matplotlib.pyplot as plt\n",
    "import pandas as pd"
   ]
  },
  {
   "attachments": {},
   "cell_type": "markdown",
   "metadata": {},
   "source": [
    "## Clases Iniciales\n",
    "\n",
    "### Clase Vertice"
   ]
  },
  {
   "cell_type": "code",
   "execution_count": 2,
   "metadata": {},
   "outputs": [],
   "source": [
    "class vertex:\n",
    "    def __init__(self, x , y, name):\n",
    "        self.x = x\n",
    "        self.y = y\n",
    "        self.name = name\n",
    "        self.edge_inci = None\n",
    "\n",
    "    def add_edge_inci(self,e):\n",
    "        self.edge_inci = e"
   ]
  },
  {
   "attachments": {},
   "cell_type": "markdown",
   "metadata": {},
   "source": [
    "### Clase Semi-Arista"
   ]
  },
  {
   "cell_type": "code",
   "execution_count": 3,
   "metadata": {},
   "outputs": [],
   "source": [
    "class half_edge:\n",
    "    def __init__(self,start,end,name):\n",
    "        self.origin = start #Origen\n",
    "        self.queue = end #final\n",
    "        self.name = name #nombre\n",
    "        self.next = None #Siguiente\n",
    "        self.prev = None #Previo\n",
    "        self.face = None #Cara incidente\n",
    "        self.twin = twin(self) # Gemelo\n",
    "\n",
    "    global twin\n",
    "    def twin(self): #Gemelo\n",
    "        return self.queue, self.origin \n",
    "\n",
    "    def add_next(self,n):\n",
    "        self.next = n #Siguiente\n",
    "    \n",
    "    def add_prev(self,pv):\n",
    "        self.prev = pv #Previo\n",
    "\n",
    "    def add_face(self,f):\n",
    "        self.face = f #Cara incidente    \n"
   ]
  },
  {
   "attachments": {},
   "cell_type": "markdown",
   "metadata": {},
   "source": [
    "### Clase Cara"
   ]
  },
  {
   "cell_type": "code",
   "execution_count": null,
   "metadata": {},
   "outputs": [],
   "source": [
    "class face:\n",
    "    def __init__(self,n):\n",
    "        self.name = n #Nombre\n",
    "        self.exterior = None #frontera exterior\n",
    "        self.interior = None #frontera interior"
   ]
  },
  {
   "attachments": {},
   "cell_type": "markdown",
   "metadata": {},
   "source": [
    "### Clase DCEL"
   ]
  },
  {
   "cell_type": "code",
   "execution_count": null,
   "metadata": {},
   "outputs": [],
   "source": [
    "class DCEL():\n",
    "    # Ingresaremos unicamente la lista de objetos vertices\n",
    "    def __init__(self,vertex):\n",
    "        self.list_edge = []\n",
    "        self.list_vertex = vertex\n",
    "        self.face = []\n",
    "\n",
    "    # A partir de los vertices vamos a generar la lista de caras y semi-aritas\n",
    "    #def create_edge_face(self):\n",
    "\n",
    "    #agregar los seguientes y previos a cada objeto de las semi aristas\n",
    "    def _add_next(self):\n",
    "        for i in range(len(self.list_edge)):\n",
    "            if i == len(self.list_edge)-1:\n",
    "                self.list_edge[i].add_next(self.list_edge[0])\n",
    "            else:\n",
    "                self.list_edge[i].add_next(self.list_edge[i+1])   \n",
    "    \n",
    "    def _add_prev(self):\n",
    "        for i in range(len()):\n",
    "            if i == 0:\n",
    "                self.list_edge[i].add_prev(self.list_edge[len(self.list_edge)-1])\n",
    "            else:\n",
    "                self.list_edge[i].add_prev(self.list_edge[i-1])\n",
    "    \n",
    "    #Generaremos la lista de aristas \n",
    "    def create_half_edge(self):\n",
    "        for i in range(len(self.list_vertex)): \n",
    "            name_edge = 'e'+str(i+1)\n",
    "            if i == (len(self.list_vertex)-1):\n",
    "                e = half_edge(self.list_vertex[i], self.list_vertex[0], name_edge)\n",
    "                self.list_vertex[i].add_edge_inci(e)\n",
    "            else: \n",
    "                e = half_edge(self.list_vertex[i], self.list_vertex[i+1], name_edge)\n",
    "                self.list_vertex[i].add_edge_inci(e)\n",
    "\n",
    "            self.list_edge.append(e)\n",
    "\n",
    "        self._add_next()\n",
    "\n",
    "\n",
    "\n",
    "    "
   ]
  }
 ],
 "metadata": {
  "kernelspec": {
   "display_name": "Python 3",
   "language": "python",
   "name": "python3"
  },
  "language_info": {
   "codemirror_mode": {
    "name": "ipython",
    "version": 3
   },
   "file_extension": ".py",
   "mimetype": "text/x-python",
   "name": "python",
   "nbconvert_exporter": "python",
   "pygments_lexer": "ipython3",
   "version": "3.11.1"
  },
  "orig_nbformat": 4
 },
 "nbformat": 4,
 "nbformat_minor": 2
}
