{
 "cells": [
  {
   "attachments": {},
   "cell_type": "markdown",
   "metadata": {},
   "source": [
    "# Triangulación de Poligonos\n",
    "## Tipos de Vertices\n",
    "- Start vertex: Un vertice v es *start vertex* si sus vecinos se encuentran debajo de este y el angulo interior < $\\pi$\n",
    "- End vertex: Cuando v esta por debajo de sus vecinos, angulo interior < $\\pi$ \n",
    "- Split vertex: Si esta por encima de sus vecinos y el angulo interior >  $\\pi$\n",
    "- Merge vertex: cuando v esta por debajo de sus vecinos, angulo interior > $\\pi$\n",
    "- Regula vertex: Tiene uno de sus vecinos por encima y otro por debajo. *No es vertice de giro*\n",
    "\n",
    "### Librerias"
   ]
  },
  {
   "cell_type": "code",
   "execution_count": 2,
   "metadata": {},
   "outputs": [],
   "source": [
    "import numpy as np\n",
    "import matplotlib.pyplot as plt\n",
    "import pandas as pd"
   ]
  },
  {
   "attachments": {},
   "cell_type": "markdown",
   "metadata": {},
   "source": [
    "### Clase Vertice"
   ]
  },
  {
   "cell_type": "code",
   "execution_count": 3,
   "metadata": {},
   "outputs": [],
   "source": [
    "class vertex:\n",
    "    def __init__(self, x , y, name):\n",
    "        self.x = x\n",
    "        self.y = y\n",
    "        self.name = name"
   ]
  },
  {
   "attachments": {},
   "cell_type": "markdown",
   "metadata": {},
   "source": [
    "- Un punto p esta por debajo de otro punto q si\n",
    "\n",
    "$p_y < q_y \\vee ( p_y = q_y  \\wedge p_x > q_x )$\n",
    "\n",
    "- Un punto p esta por encima de otro punto q si\n",
    "\n",
    "$p_y > q_y \\vee ( p_y = q_y  \\wedge p_x < q_x )$"
   ]
  },
  {
   "cell_type": "code",
   "execution_count": null,
   "metadata": {},
   "outputs": [],
   "source": []
  }
 ],
 "metadata": {
  "kernelspec": {
   "display_name": "Python 3",
   "language": "python",
   "name": "python3"
  },
  "language_info": {
   "codemirror_mode": {
    "name": "ipython",
    "version": 3
   },
   "file_extension": ".py",
   "mimetype": "text/x-python",
   "name": "python",
   "nbconvert_exporter": "python",
   "pygments_lexer": "ipython3",
   "version": "3.11.1"
  },
  "orig_nbformat": 4
 },
 "nbformat": 4,
 "nbformat_minor": 2
}
