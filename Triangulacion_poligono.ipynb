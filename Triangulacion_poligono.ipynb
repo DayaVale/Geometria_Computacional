{
 "cells": [
  {
   "attachments": {},
   "cell_type": "markdown",
   "metadata": {},
   "source": [
    "# Triangulación de Poligonos\n",
    "## Tipos de Vertices\n",
    "- Start vertex: Un vertice v es *start vertex* si sus vecinos se encuentran debajo de este y el angulo interior < $\\pi$ (Giro a la izquierda-Antihorario)\n",
    "- End vertex: Cuando v esta por debajo de sus vecinos, angulo interior < $\\pi$ (Giro derecha -Horario)\n",
    "- Split vertex: Si esta por encima de sus vecinos y el angulo interior >  $\\pi$ (Giro izquierda-Atihorario)\n",
    "- Merge vertex: cuando v esta por debajo de sus vecinos, angulo interior > $\\pi$ (Giro derecha- Horario)\n",
    "- Regula vertex: Tiene uno de sus vecinos por encima y otro por debajo. *No es vertice de giro*\n",
    "\n",
    "### Librerias"
   ]
  },
  {
   "cell_type": "code",
   "execution_count": 2,
   "metadata": {},
   "outputs": [],
   "source": [
    "import numpy as np\n",
    "import matplotlib.pyplot as plt\n",
    "import pandas as pd"
   ]
  },
  {
   "attachments": {},
   "cell_type": "markdown",
   "metadata": {},
   "source": [
    "### Clase Vertice"
   ]
  },
  {
   "cell_type": "code",
   "execution_count": 3,
   "metadata": {},
   "outputs": [],
   "source": [
    "class vertex:\n",
    "    def __init__(self, x , y, name):\n",
    "        self.x = x\n",
    "        self.y = y\n",
    "        self.name = name"
   ]
  },
  {
   "attachments": {},
   "cell_type": "markdown",
   "metadata": {},
   "source": [
    "### Clase Arista"
   ]
  },
  {
   "cell_type": "code",
   "execution_count": null,
   "metadata": {},
   "outputs": [],
   "source": [
    "class half_edge:\n",
    "    def __init__(self,start,end,name):\n",
    "        self.oringe = start\n",
    "        self.queue = end\n",
    "        self.name = name"
   ]
  },
  {
   "attachments": {},
   "cell_type": "markdown",
   "metadata": {},
   "source": [
    "- Un punto p esta por debajo de otro punto q si\n",
    "\n",
    "$p_y < q_y \\vee ( p_y = q_y  \\wedge p_x > q_x )$\n",
    "\n",
    "- Un punto p esta por encima de otro punto q si\n",
    "\n",
    "$p_y > q_y \\vee ( p_y = q_y  \\wedge p_x < q_x )$"
   ]
  },
  {
   "cell_type": "code",
   "execution_count": 1,
   "metadata": {},
   "outputs": [],
   "source": [
    "def above(p,q):\n",
    "    if p.y > q.y:\n",
    "        point = p\n",
    "    elif p.y == q.y:\n",
    "        if p.x < q.x:\n",
    "            point = p\n",
    "        else:\n",
    "            point = q\n",
    "    else:\n",
    "        point = q\n",
    "    return point"
   ]
  },
  {
   "cell_type": "code",
   "execution_count": 2,
   "metadata": {},
   "outputs": [],
   "source": [
    "def below(p,q):\n",
    "    if p.y < q.y:\n",
    "        point = p\n",
    "    elif p.y == q.y:\n",
    "        if p.x > q.x:\n",
    "            point = p\n",
    "        else:\n",
    "            point = q\n",
    "    else:\n",
    "        point = q\n",
    "    return point"
   ]
  },
  {
   "attachments": {},
   "cell_type": "markdown",
   "metadata": {},
   "source": [
    "## Producto Cruz y orientación"
   ]
  },
  {
   "cell_type": "code",
   "execution_count": 3,
   "metadata": {},
   "outputs": [],
   "source": [
    "# P0 : Punto de origen arista 1\n",
    "# P1 : Punto de final arista 1 y punto de origen arista 2\n",
    "# P2 : Punto de final de arista 2\n",
    "def Producto_Cruz(P0,P1,P2):\n",
    "    d = ((P1.x-P0.x)*(P2.y-P0.y))-((P2.x-P0.x)*(P1.y-P0.y))\n",
    "    return d"
   ]
  },
  {
   "cell_type": "code",
   "execution_count": 4,
   "metadata": {},
   "outputs": [],
   "source": [
    "# P0 : Punto de origen arista 1\n",
    "# P1 : Punto de final arista 1 y punto de origen arista 2\n",
    "# P2 : Punto de final de arist\n",
    "def orientacion(P0,P1,P2):\n",
    "    d = Producto_Cruz(P0,P1,P2)\n",
    "    if d>0:\n",
    "        a = True\n",
    "        print(\"P2 se hace un giro en sentido antihoraro de P1\")\n",
    "    else:\n",
    "        a = False\n",
    "        print(\"P2 esta girando en sentido horario de P1\")\n",
    "    return a "
   ]
  }
 ],
 "metadata": {
  "kernelspec": {
   "display_name": "Python 3",
   "language": "python",
   "name": "python3"
  },
  "language_info": {
   "codemirror_mode": {
    "name": "ipython",
    "version": 3
   },
   "file_extension": ".py",
   "mimetype": "text/x-python",
   "name": "python",
   "nbconvert_exporter": "python",
   "pygments_lexer": "ipython3",
   "version": "3.11.1"
  },
  "orig_nbformat": 4
 },
 "nbformat": 4,
 "nbformat_minor": 2
}
