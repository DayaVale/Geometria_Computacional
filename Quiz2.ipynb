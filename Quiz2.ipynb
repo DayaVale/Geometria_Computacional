{
  "cells": [
    {
      "cell_type": "code",
      "execution_count": 103,
      "metadata": {
        "id": "XENbhX92Jujs"
      },
      "outputs": [],
      "source": [
        "import matplotlib.pyplot as plt"
      ]
    },
    {
      "cell_type": "code",
      "execution_count": 104,
      "metadata": {
        "id": "ScYxTbET5K82"
      },
      "outputs": [],
      "source": [
        "class vertex:\n",
        "  def __init__(self,x,y,n):\n",
        "    self.x = x\n",
        "    self.y = y\n",
        "    self.name = n\n",
        "    self.e_inc = None\n",
        "    self.tipo = None \n",
        "\n",
        "  def edge_inicident(self,e):\n",
        "    self.e_inc = e\n",
        "  \n",
        "  #Relacion de orden en binario 0 indica que esta abajo y el 1 indica que esta arriba\n",
        "  def r_order_binary(self,q):\n",
        "        if self.y > q.y:\n",
        "            print('coory:',self.y,q.y)\n",
        "            return 0\n",
        "        elif self.y == q.y:\n",
        "            if self.x < q.x:\n",
        "                return 0\n",
        "            else:\n",
        "                return 1\n",
        "        else:\n",
        "            return 1"
      ]
    },
    {
      "cell_type": "code",
      "execution_count": 105,
      "metadata": {
        "id": "7OxRIh5WDXK_"
      },
      "outputs": [],
      "source": [
        "class half_edge:\n",
        "  def __init__(self, start, end, name):\n",
        "    self.origin = start\n",
        "    self.queue = end\n",
        "    self.name = name\n",
        "    self.next = None\n",
        "    self.prev = None\n",
        "\n",
        "  def add_next(self,nex):\n",
        "    self.next = nex\n",
        "\n",
        "  def add_prev(self, p):\n",
        "    self.prev = p"
      ]
    },
    {
      "cell_type": "code",
      "execution_count": 106,
      "metadata": {
        "id": "mfSOyxaPD6Z-"
      },
      "outputs": [],
      "source": [
        "#Producto cruz\n",
        "def Producto_Cruz(P0,P1,P2):\n",
        "    d = ((P1.x-P0.x)*(P2.y-P0.y))-((P2.x-P0.x)*(P1.y-P0.y))\n",
        "    return d"
      ]
    },
    {
      "cell_type": "code",
      "execution_count": 107,
      "metadata": {
        "id": "WpADuiY3EDJd"
      },
      "outputs": [],
      "source": [
        "#Orientacion\n",
        "def orientacion(P0,P1,P2):\n",
        "    d = Producto_Cruz(P0,P1,P2)\n",
        "    if d>0:\n",
        "        a = True\n",
        "        print(\"P2 se hace un giro en sentido horario de P1\")\n",
        "    else:\n",
        "        a = False\n",
        "        print(\"P2 esta girando en sentido Anti horario de P1\")\n",
        "    return a "
      ]
    },
    {
      "cell_type": "code",
      "execution_count": 108,
      "metadata": {
        "id": "IkunlB5GEGVV"
      },
      "outputs": [],
      "source": [
        "#Generamos una lista de vertices\n",
        "def general_vertex(P):\n",
        "    list_vertex = []\n",
        "    for i in range(len(P)):\n",
        "        name = \"V\"+str(i+1)\n",
        "        v = vertex(P[i][0],P[i][1], name)\n",
        "        list_vertex.append(v)\n",
        "    return list_vertex"
      ]
    },
    {
      "cell_type": "code",
      "execution_count": 109,
      "metadata": {
        "id": "62HSBUfcEnmW"
      },
      "outputs": [],
      "source": [
        "def general_edge(P):\n",
        "    list_half_edge = []\n",
        "    for i in range(len(P)):\n",
        "        name_edge = 'e'+str(i+1)\n",
        "        if i == (len(P)-1):\n",
        "            e = half_edge(P[i], P[0], name_edge)\n",
        "        else: \n",
        "            e = half_edge(P[i], P[i+1], name_edge)\n",
        "\n",
        "        list_half_edge.append(e)  \n",
        "    return list_half_edge"
      ]
    },
    {
      "cell_type": "code",
      "execution_count": 110,
      "metadata": {
        "id": "e41lutMyE0DG"
      },
      "outputs": [],
      "source": [
        "def prev(lst):\n",
        "    for i in range(len(lst)):\n",
        "        if i == 0:\n",
        "            lst[i].add_prev(lst[len(lst)-1])\n",
        "        else:\n",
        "            lst[i].add_prev(lst[i-1])\n",
        "    return lst"
      ]
    },
    {
      "cell_type": "code",
      "execution_count": 111,
      "metadata": {
        "id": "QhEdtjeMFG5W"
      },
      "outputs": [],
      "source": [
        "def next_(lst):\n",
        "    for i in range(len(lst)):\n",
        "        if i == len(lst)-1:\n",
        "            lst[i].add_next(lst[0])\n",
        "        else:\n",
        "            lst[i].add_next(lst[i+1])\n",
        "    return lst"
      ]
    },
    {
      "cell_type": "code",
      "execution_count": 112,
      "metadata": {
        "id": "SkTa_rlGFPwF"
      },
      "outputs": [],
      "source": [
        "def New_list_vertex(le,ls):\n",
        "    for i in range(len(le)):\n",
        "      for j in range(len(ls)):\n",
        "        if ls[j].name == le[i].origin.name:\n",
        "            ls[i].edge_inicident(le[i])\n",
        "      \n",
        "    return ls"
      ]
    },
    {
      "cell_type": "code",
      "execution_count": 113,
      "metadata": {
        "id": "2Ttfm8rmGusd"
      },
      "outputs": [],
      "source": [
        "def neighbors(v):\n",
        "    e = v.e_inc # Tomamos la arista incidente\n",
        "    e_prev = e.prev #Tomamos la semi-arista previa\n",
        "    e_next = e.next #Tomamos la semi-arista next\n",
        "    v1 = e_prev.origin #Tomamos el vertice que da origen a la semi-arista prev\n",
        "    v2 = e_next.origin # Tomamos el vetice final de la semi arista next\n",
        "    pos1 = v.r_order_binary(v1) #Vemos la posicion de v1 con respecto a v\n",
        "    pos2 = v.r_order_binary(v2) #Vemos la posicion de V2 con respecto a v\n",
        "    print(pos1,pos2)\n",
        "    #print('v1:',v1.x,v1.y)\n",
        "    #print('v2:',v2.x,v2.y)\n",
        "    if pos1 != pos2:\n",
        "        print('uno arriba y otro abajo')\n",
        "        return 1 #Esta uno arriba y otro abajo\n",
        "    else:\n",
        "        if pos1 == 1 and pos2 == 1:\n",
        "            print('Ambos estan arriba')\n",
        "            return 2 #Ambos estan abajo\n",
        "        elif pos1 == 0 and pos2 == 0:\n",
        "            print('Ambos estan abajo')\n",
        "            return 3 #Ambos estan abajo"
      ]
    },
    {
      "cell_type": "code",
      "execution_count": 114,
      "metadata": {
        "id": "SYQoQXs-G5nn"
      },
      "outputs": [],
      "source": [
        "def type_vertex(v): \n",
        "    pos = neighbors(v)\n",
        "    print(pos)\n",
        "    print(orientacion(v.e_inc.origin,v.e_inc.prev.origin,v.e_inc.next.origin))\n",
        "    if pos == 3: #Estan por debajo\n",
        "        if orientacion(v.e_inc.origin,v.e_inc.prev.origin,v.e_inc.next.origin): #TRUE - antihorario\n",
        "            v.tipo = 'start'\n",
        "        else: #False - horario\n",
        "            v.tipo = 'split'\n",
        "    elif pos == 2: #Estan por arriba\n",
        "        if orientacion(v.e_inc.origin,v.e_inc.prev.origin,v.e_inc.next.origin): #TRUE - antihorario\n",
        "            v.tipo = 'end'\n",
        "        else: #False - horario\n",
        "            v.tipo = 'merge'\n",
        "    else:\n",
        "        v.tipo = 'regular'\n",
        "    return v"
      ]
    },
    {
      "cell_type": "markdown",
      "metadata": {
        "id": "pOi84ghRGKnP"
      },
      "source": [
        "## Prueba"
      ]
    },
    {
      "cell_type": "code",
      "execution_count": 115,
      "metadata": {
        "colab": {
          "base_uri": "https://localhost:8080/"
        },
        "id": "CyWzA9T3GKBo",
        "outputId": "b2d42507-6aab-4a94-b8a8-7061e40de6e2"
      },
      "outputs": [
        {
          "name": "stdout",
          "output_type": "stream",
          "text": [
            "[9, 0.5] [10, -1] [7, -3]\n",
            "[7, -3] [9, 0.5] [6, 3]\n",
            "[6, 3] [7, -3] [2, -3]\n",
            "[2, -3] [6, 3] [3, 4]\n",
            "[3, 4] [2, -3] [4, 2.5]\n",
            "[4, 2.5] [3, 4] [5, 12]\n",
            "[5, 12] [4, 2.5] [7, 8.5]\n",
            "[7, 8.5] [5, 12] [8, 12]\n",
            "[8, 12] [7, 8.5] [9.5, 11]\n",
            "[9.5, 11] [8, 12] [11, 15]\n",
            "[11, 15] [9.5, 11] [13, 13]\n",
            "[13, 13] [11, 15] [12, 10]\n",
            "[12, 10] [13, 13] [13, 3]\n",
            "[13, 3] [12, 10] [11, 4]\n",
            "[11, 4] [13, 3] [10, -1]\n",
            "[10, -1] [11, 4] [9, 0.5]\n"
          ]
        }
      ],
      "source": [
        "P = [[9, 0.5], [7, -3], [6, 3], [2, -3], [3, 4], [4, 2.5], [5, 12], [7, 8.5], [8, 12], [9.5, 11], [11, 15], [13, 13], [12, 10], [13, 3], [11, 4], [10, -1], [9, 0.5]]\n",
        "P2 = [[9, 0.5], [7, -3], [6, 3], [2, -3], [3, 4], [4, 2.5], [5, 12], [7, 8.5], [8, 12], [9.5, 11], [11, 15], [13, 13], [12, 10], [13, 3], [11, 4], [10, -1]]\n",
        "lv =general_vertex(P2) \n",
        "le = general_edge(lv)\n",
        "le = prev(le)\n",
        "le = next_(le)\n",
        "lv = New_list_vertex(le,lv)\n",
        "\n",
        "for i in le:\n",
        "  print([i.origin.x,i.origin.y],[i.prev.origin.x,i.prev.origin.y],[i.next.origin.x,i.next.origin.y])\n",
        "\n",
        "\n",
        "\n",
        "\n"
      ]
    },
    {
      "cell_type": "code",
      "execution_count": 116,
      "metadata": {
        "colab": {
          "base_uri": "https://localhost:8080/"
        },
        "id": "fQDfAvpELYac",
        "outputId": "c408197e-9175-4c42-a77a-014ddad74e27"
      },
      "outputs": [
        {
          "name": "stdout",
          "output_type": "stream",
          "text": [
            "coory: 0.5 -1\n",
            "coory: 0.5 -3\n",
            "0 0\n",
            "Ambos estan abajo\n",
            "3\n",
            "P2 esta girando en sentido Anti horario de P1\n",
            "False\n",
            "P2 esta girando en sentido Anti horario de P1\n",
            "[10, -1] [9, 0.5] [7, -3] split\n",
            "----------------------------\n",
            "1 1\n",
            "Ambos estan arriba\n",
            "2\n",
            "P2 se hace un giro en sentido horario de P1\n",
            "True\n",
            "P2 se hace un giro en sentido horario de P1\n",
            "[9, 0.5] [7, -3] [6, 3] end\n",
            "----------------------------\n",
            "coory: 3 -3\n",
            "coory: 3 -3\n",
            "0 0\n",
            "Ambos estan abajo\n",
            "3\n",
            "P2 esta girando en sentido Anti horario de P1\n",
            "False\n",
            "P2 esta girando en sentido Anti horario de P1\n",
            "[7, -3] [6, 3] [2, -3] split\n",
            "----------------------------\n",
            "1 1\n",
            "Ambos estan arriba\n",
            "2\n",
            "P2 se hace un giro en sentido horario de P1\n",
            "True\n",
            "P2 se hace un giro en sentido horario de P1\n",
            "[6, 3] [2, -3] [3, 4] end\n",
            "----------------------------\n",
            "coory: 4 -3\n",
            "coory: 4 2.5\n",
            "0 0\n",
            "Ambos estan abajo\n",
            "3\n",
            "P2 se hace un giro en sentido horario de P1\n",
            "True\n",
            "P2 se hace un giro en sentido horario de P1\n",
            "[2, -3] [3, 4] [4, 2.5] start\n",
            "----------------------------\n",
            "1 1\n",
            "Ambos estan arriba\n",
            "2\n",
            "P2 esta girando en sentido Anti horario de P1\n",
            "False\n",
            "P2 esta girando en sentido Anti horario de P1\n",
            "[3, 4] [4, 2.5] [5, 12] merge\n",
            "----------------------------\n",
            "coory: 12 2.5\n",
            "coory: 12 8.5\n",
            "0 0\n",
            "Ambos estan abajo\n",
            "3\n",
            "P2 se hace un giro en sentido horario de P1\n",
            "True\n",
            "P2 se hace un giro en sentido horario de P1\n",
            "[4, 2.5] [5, 12] [7, 8.5] start\n",
            "----------------------------\n",
            "1 1\n",
            "Ambos estan arriba\n",
            "2\n",
            "P2 esta girando en sentido Anti horario de P1\n",
            "False\n",
            "P2 esta girando en sentido Anti horario de P1\n",
            "[5, 12] [7, 8.5] [8, 12] merge\n",
            "----------------------------\n",
            "coory: 12 8.5\n",
            "coory: 12 11\n",
            "0 0\n",
            "Ambos estan abajo\n",
            "3\n",
            "P2 se hace un giro en sentido horario de P1\n",
            "True\n",
            "P2 se hace un giro en sentido horario de P1\n",
            "[7, 8.5] [8, 12] [9.5, 11] start\n",
            "----------------------------\n",
            "1 1\n",
            "Ambos estan arriba\n",
            "2\n",
            "P2 esta girando en sentido Anti horario de P1\n",
            "False\n",
            "P2 esta girando en sentido Anti horario de P1\n",
            "[8, 12] [9.5, 11] [11, 15] merge\n",
            "----------------------------\n",
            "coory: 15 11\n",
            "coory: 15 13\n",
            "0 0\n",
            "Ambos estan abajo\n",
            "3\n",
            "P2 se hace un giro en sentido horario de P1\n",
            "True\n",
            "P2 se hace un giro en sentido horario de P1\n",
            "[9.5, 11] [11, 15] [13, 13] start\n",
            "----------------------------\n",
            "coory: 13 10\n",
            "1 0\n",
            "uno arriba y otro abajo\n",
            "1\n",
            "P2 se hace un giro en sentido horario de P1\n",
            "True\n",
            "[11, 15] [13, 13] [12, 10] regular\n",
            "----------------------------\n",
            "coory: 10 3\n",
            "1 0\n",
            "uno arriba y otro abajo\n",
            "1\n",
            "P2 esta girando en sentido Anti horario de P1\n",
            "False\n",
            "[13, 13] [12, 10] [13, 3] regular\n",
            "----------------------------\n",
            "1 1\n",
            "Ambos estan arriba\n",
            "2\n",
            "P2 se hace un giro en sentido horario de P1\n",
            "True\n",
            "P2 se hace un giro en sentido horario de P1\n",
            "[12, 10] [13, 3] [11, 4] end\n",
            "----------------------------\n",
            "coory: 4 3\n",
            "coory: 4 -1\n",
            "0 0\n",
            "Ambos estan abajo\n",
            "3\n",
            "P2 esta girando en sentido Anti horario de P1\n",
            "False\n",
            "P2 esta girando en sentido Anti horario de P1\n",
            "[13, 3] [11, 4] [10, -1] split\n",
            "----------------------------\n",
            "1 1\n",
            "Ambos estan arriba\n",
            "2\n",
            "P2 se hace un giro en sentido horario de P1\n",
            "True\n",
            "P2 se hace un giro en sentido horario de P1\n",
            "[11, 4] [10, -1] [9, 0.5] end\n",
            "----------------------------\n"
          ]
        }
      ],
      "source": [
        "v_split = []\n",
        "for i in range(len(lv)):\n",
        "    v = lv[i]\n",
        "    lv[i] = type_vertex(v)\n",
        "    print([lv[i].e_inc.prev.origin.x,lv[i].e_inc.prev.origin.y],[lv[i].x,lv[i].y],[lv[i].e_inc.next.origin.x,lv[i].e_inc.next.origin.y],  lv[i].tipo)\n",
        "    print('----------------------------')"
      ]
    },
    {
      "cell_type": "markdown",
      "metadata": {
        "id": "EuDEG6_lMSKC"
      },
      "source": [
        "# Lista de vertices de tipo split"
      ]
    },
    {
      "cell_type": "code",
      "execution_count": 120,
      "metadata": {
        "colab": {
          "base_uri": "https://localhost:8080/"
        },
        "id": "Cr8QOGXvL-jS",
        "outputId": "b9515488-37c6-43c6-bcf3-baa9141b883f"
      },
      "outputs": [
        {
          "name": "stdout",
          "output_type": "stream",
          "text": [
            "[[9, 0.5], [6, 3], [11, 4]]\n"
          ]
        }
      ],
      "source": [
        "v_split = []\n",
        "for i in lv:\n",
        "  #print(i.x,i.y,i.tipo)\n",
        "  if i.tipo == 'split':\n",
        "    v_split.append([i.x,i.y])\n",
        "print(v_split)"
      ]
    },
    {
      "cell_type": "code",
      "execution_count": 126,
      "metadata": {
        "id": "BqfTD60nJQMY"
      },
      "outputs": [],
      "source": [
        "def grafic(P,x,y,ls):\n",
        "    xcor = []\n",
        "    ycor = []\n",
        "    for n in range (len(P)):\n",
        "        xcor.append(P[n][0])\n",
        "        ycor.append(P[n][1])\n",
        "    \n",
        "    plt.scatter(x,y)\n",
        "    for n in range(len(ls)):\n",
        "      plt.plot(ls[n][0],ls[n][1], \"ro\")\n",
        "    for n in range(len(P)):\n",
        "        num = \"P\"+str(n)\n",
        "        #print(num)\n",
        "        plt.annotate(num , xy = (P[n][0], P[n][1]), xytext=(P[n][0], P[n][1]))\n",
        "    plt.plot(xcor,ycor)\n",
        "    plt.show()"
      ]
    },
    {
      "cell_type": "code",
      "execution_count": 127,
      "metadata": {
        "colab": {
          "base_uri": "https://localhost:8080/",
          "height": 265
        },
        "id": "_zDhxHlwJ9mB",
        "outputId": "c9af44a1-6c0c-4d2d-a1eb-b49cc8379970"
      },
      "outputs": [
        {
          "data": {
            "image/png": "[encoded data removed]",
            "text/plain": [
              "<Figure size 640x480 with 1 Axes>"
            ]
          },
          "metadata": {},
          "output_type": "display_data"
        }
      ],
      "source": [
        "x = []\n",
        "y = []\n",
        "for n in range (len(P2)):\n",
        "        x.append(P2[n][0])\n",
        "        y.append(P2[n][1])\n",
        "\n",
        "grafic(P2,x,y,v_split)"
      ]
    }
  ],
  "metadata": {
    "colab": {
      "provenance": []
    },
    "kernelspec": {
      "display_name": "Python 3",
      "name": "python3"
    },
    "language_info": {
      "codemirror_mode": {
        "name": "ipython",
        "version": 3
      },
      "file_extension": ".py",
      "mimetype": "text/x-python",
      "name": "python",
      "nbconvert_exporter": "python",
      "pygments_lexer": "ipython3",
      "version": "3.11.1"
    }
  },
  "nbformat": 4,
  "nbformat_minor": 0
}
