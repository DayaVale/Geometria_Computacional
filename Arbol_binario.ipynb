{
 "cells": [
  {
   "cell_type": "code",
   "execution_count": 4,
   "id": "8fb629ec",
   "metadata": {},
   "outputs": [],
   "source": [
    "class Node:\n",
    "    def __init__(self,data):\n",
    "        self.data = data #Dato inicial - la raíz \n",
    "        self.left = None # Hijo Izquierdo inicial en None\n",
    "        self.right = None #Hjo derecho inicial en None\n",
    "        \n",
    "def InsertBST(root,node):\n",
    "    if (node.data < root.data):\n",
    "        if root.left is None:\n",
    "            root.left = node\n",
    "        else:\n",
    "            InsertBST(root.left,node)\n",
    "    else:\n",
    "        if root.right is None:\n",
    "            root.right = node\n",
    "        else:\n",
    "            InsertBST(root.right, node)\n",
    "                "
   ]
  },
  {
   "cell_type": "code",
   "execution_count": 5,
   "id": "8abf36b2",
   "metadata": {},
   "outputs": [],
   "source": [
    "root = Node(25)\n",
    "InsertBST(root,Node(75))\n",
    "InsertBST(root,Node(50))\n",
    "InsertBST(root,Node(10))\n",
    "InsertBST(root,Node(100))\n",
    "InsertBST(root,Node(15))\n",
    "InsertBST(root,Node(0))\n",
    "InsertBST(root,Node(30))\n",
    "InsertBST(root,Node(200))\n",
    "InsertBST(root,Node(40))"
   ]
  },
  {
   "cell_type": "code",
   "execution_count": 6,
   "id": "6e776e1d",
   "metadata": {},
   "outputs": [
    {
     "name": "stdout",
     "output_type": "stream",
     "text": [
      "25\n",
      "10\n",
      "75\n"
     ]
    }
   ],
   "source": [
    "print(root.data)\n",
    "print(root.left.data)\n",
    "print(root.right.data)"
   ]
  },
  {
   "cell_type": "code",
   "execution_count": 9,
   "id": "be980875",
   "metadata": {},
   "outputs": [],
   "source": [
    "def preOrder(node):\n",
    "    if not node:\n",
    "        return\n",
    "    print(node.data)\n",
    "    preOrder(node.left)\n",
    "    preOrder(node.right)"
   ]
  },
  {
   "cell_type": "code",
   "execution_count": 10,
   "id": "6d559fb3",
   "metadata": {},
   "outputs": [
    {
     "name": "stdout",
     "output_type": "stream",
     "text": [
      "25\n",
      "10\n",
      "0\n",
      "15\n",
      "75\n",
      "50\n",
      "30\n",
      "40\n",
      "100\n",
      "200\n"
     ]
    }
   ],
   "source": [
    "preOrder(root)"
   ]
  },
  {
   "cell_type": "code",
   "execution_count": 11,
   "id": "333bbf85",
   "metadata": {},
   "outputs": [
    {
     "name": "stdout",
     "output_type": "stream",
     "text": [
      "75\n",
      "50\n",
      "30\n",
      "40\n",
      "100\n",
      "200\n"
     ]
    }
   ],
   "source": [
    "preOrder(root.right)"
   ]
  },
  {
   "cell_type": "code",
   "execution_count": 13,
   "id": "79c9aff8",
   "metadata": {},
   "outputs": [],
   "source": [
    "# Con inOrder puedo organizar los numeros del arreglo\n",
    "def inorder(root):\n",
    "    inorderArr = []\n",
    "    if root.left is not None:\n",
    "        leftInorderArr = inorder(root.left)\n",
    "        inorderArr.extend(leftInorderArr) #Toma el arregloy los agrega como elementos y no un arreglo de arreglos\n",
    "    \n",
    "    inorderArr.append(root.data)\n",
    "    if root.right is not None:\n",
    "        rightInorderArr = inorder(root.right)\n",
    "        inorderArr.extend(rightInorderArr) #Toma el arregloy los agrega como elementos y no un arreglo de arreglos\n",
    "    \n",
    "    return inorderArr\n",
    "    "
   ]
  },
  {
   "cell_type": "code",
   "execution_count": 14,
   "id": "a2a467ca",
   "metadata": {},
   "outputs": [
    {
     "data": {
      "text/plain": [
       "[0, 10, 15, 25, 30, 40, 50, 75, 100, 200]"
      ]
     },
     "execution_count": 14,
     "metadata": {},
     "output_type": "execute_result"
    }
   ],
   "source": [
    "inorder(root)"
   ]
  },
  {
   "cell_type": "code",
   "execution_count": 15,
   "id": "1f86458c",
   "metadata": {},
   "outputs": [
    {
     "data": {
      "text/plain": [
       "[30, 40, 50, 75, 100, 200]"
      ]
     },
     "execution_count": 15,
     "metadata": {},
     "output_type": "execute_result"
    }
   ],
   "source": [
    "inorder(root.right)"
   ]
  },
  {
   "cell_type": "code",
   "execution_count": 16,
   "id": "cf13d6df",
   "metadata": {},
   "outputs": [],
   "source": [
    "#Profundidad del arbol\n",
    "def deep(root):\n",
    "    if root is None:\n",
    "        return -1\n",
    "    leftAns = deep(root.left)\n",
    "    rightAnd = deep(root.right)\n",
    "    \n",
    "    return max(leftAns,rightAnd) + 1"
   ]
  },
  {
   "cell_type": "code",
   "execution_count": 17,
   "id": "19b8d508",
   "metadata": {},
   "outputs": [
    {
     "data": {
      "text/plain": [
       "4"
      ]
     },
     "execution_count": 17,
     "metadata": {},
     "output_type": "execute_result"
    }
   ],
   "source": [
    "deep(root)"
   ]
  },
  {
   "cell_type": "code",
   "execution_count": 18,
   "id": "aeedc96d",
   "metadata": {},
   "outputs": [
    {
     "data": {
      "text/plain": [
       "1"
      ]
     },
     "execution_count": 18,
     "metadata": {},
     "output_type": "execute_result"
    }
   ],
   "source": [
    "deep(root.left)"
   ]
  },
  {
   "cell_type": "code",
   "execution_count": 19,
   "id": "df30d9fd",
   "metadata": {},
   "outputs": [
    {
     "data": {
      "text/plain": [
       "3"
      ]
     },
     "execution_count": 19,
     "metadata": {},
     "output_type": "execute_result"
    }
   ],
   "source": [
    "deep(root.right)"
   ]
  },
  {
   "cell_type": "code",
   "execution_count": 20,
   "id": "a84fc426",
   "metadata": {},
   "outputs": [],
   "source": [
    "#Algoritmo para balancer un arbol a partir d eun arreglo ordenado\n",
    "def BBT(sortArr):\n",
    "    if not sortArr:\n",
    "        return None\n",
    "    mid = int(len(sortArr)/2) #Toma la mitad del arreglo ordenado\n",
    "    \n",
    "    newRoot = Node(sortArr[mid])\n",
    "    newRoot.left = BBT(sortArr[:mid]) #Toma todos los puntos antes de la posición mid, sin tomar mid\n",
    "    newRoot.right = BBT(sortArr[mid + 1:]) #Toma todos los puntos despues de la posición mid + 1, tomando mid + 1\n",
    "    \n",
    "    return newRoot\n",
    "    "
   ]
  },
  {
   "cell_type": "code",
   "execution_count": 21,
   "id": "05c03c30",
   "metadata": {},
   "outputs": [
    {
     "data": {
      "text/plain": [
       "40"
      ]
     },
     "execution_count": 21,
     "metadata": {},
     "output_type": "execute_result"
    }
   ],
   "source": [
    "root2 = BBT(inorder(root))\n",
    "root2.data"
   ]
  },
  {
   "cell_type": "code",
   "execution_count": 22,
   "id": "9cb4f53a",
   "metadata": {},
   "outputs": [
    {
     "data": {
      "text/plain": [
       "3"
      ]
     },
     "execution_count": 22,
     "metadata": {},
     "output_type": "execute_result"
    }
   ],
   "source": [
    "deep(root2)"
   ]
  },
  {
   "cell_type": "code",
   "execution_count": 23,
   "id": "b71a3b3b",
   "metadata": {},
   "outputs": [
    {
     "name": "stdout",
     "output_type": "stream",
     "text": [
      "40\n",
      "15\n",
      "10\n",
      "0\n",
      "30\n",
      "25\n",
      "100\n",
      "75\n",
      "50\n",
      "200\n"
     ]
    }
   ],
   "source": [
    "preOrder(root2)"
   ]
  },
  {
   "cell_type": "code",
   "execution_count": null,
   "id": "8675e2c6",
   "metadata": {},
   "outputs": [],
   "source": []
  }
 ],
 "metadata": {
  "kernelspec": {
   "display_name": "Python 3",
   "language": "python",
   "name": "python3"
  },
  "language_info": {
   "codemirror_mode": {
    "name": "ipython",
    "version": 3
   },
   "file_extension": ".py",
   "mimetype": "text/x-python",
   "name": "python",
   "nbconvert_exporter": "python",
   "pygments_lexer": "ipython3",
   "version": "3.11.1"
  },
  "vscode": {
   "interpreter": {
    "hash": "28f17846d8da952c5c0ba0b6a7ac0a83f6cc7ba932a9e1ecc57983e8f99a4182"
   }
  }
 },
 "nbformat": 4,
 "nbformat_minor": 5
}
